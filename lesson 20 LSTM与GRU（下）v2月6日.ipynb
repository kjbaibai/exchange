{
 "cells": [
  {
   "cell_type": "markdown",
   "id": "57bf72e5-c747-45b1-8b91-3160440a398b",
   "metadata": {},
   "source": [
    "# 长短期记忆网络LSTM&GRU（下）\n",
    "\n",
    "**目录**\n",
    "\n",
    "**1 长短期记忆网络LSTM**<br>\n",
    "\n",
    "&emsp;&emsp; 1.1 权重冲突与LSTM的解决方案<br>\n",
    "&emsp;&emsp; 1.2 LSTM的计算单元与基本结构<br>\n",
    "&emsp;&emsp; 1.3 LSTM的计算流程与数学本质探讨<br>\n",
    "&emsp;&emsp; 1.4 在PyTorch中实现LSTM<br>\n",
    "&emsp;&emsp;&emsp;&emsp; 1.4.1 nn.LSTM的参数群<br>\n",
    "&emsp;&emsp;&emsp;&emsp; 1.4.2 nn.LSTM的输入、输出与架构实现<br>\n",
    "\n",
    "============以下内容在《长短期记忆网络LSTM&GRU （下）》==============\n",
    "\n",
    "&emsp;&emsp; 1.5 实战：nn.LSTM的预测与挑战<br>\n",
    "&emsp;&emsp;&emsp;&emsp; 1.5.1 单变量时间序列预测流程<br>\n",
    "&emsp;&emsp;&emsp;&emsp; 1.5.2 多变量时序与面板数据的预测流程<br>\n",
    "&emsp;&emsp;&emsp;&emsp; 1.5.3 单步预测、多步预测与递归预测法<br>\n",
    "&emsp;&emsp;&emsp;&emsp; 1.5.4 LSTM在股价数据上的预测实战<br>\n",
    "&emsp;&emsp; 1.6 深度：LSTM究竟如何解决梯度问题？<br>\n",
    "\n",
    "**2 循环门控单元GRU**<br><br>"
   ]
  },
  {
   "cell_type": "markdown",
   "id": "01b473a8-96bc-4cfd-a8f5-a5ff4923c2ee",
   "metadata": {},
   "source": [
    "![](https://skojiangdoc.oss-cn-beijing.aliyuncs.com/2023DL/LSTM/00.png)\n",
    "\n",
    "长短期记忆网络（Long Short-Term Memory Network，简称LSTM）是一种特殊的循环神经网络，它于1997年被慕尼黑技术大学的两位神经网络研究者提出，是当代深度学习领域中对时序数据和文字数据都具有重要作用的核心架构之一。在NLP的世界中，RNN为神经网络赋予了“记忆”的能力，LSTM则实现了对这种“记忆”方式的改良和优化——在RNN的基础上，LSTM的研究者们从权重冲突问题出发，提出了恒定梯度回路（Constant Error Carousel，CEC）、记忆细胞、门控单元、内部状态漂移等关键概念，从数学原理、架构设计、应用效率等多个方面革新了循环神经网络，大幅提升了循环网络的效果与性能。经过复杂的数学改造和工程优化，LSTM可以轻松处理拥有数千个时间步的长序列、还能有效缓解RNN中严重的梯度动荡问题，给致力于稳定神经网络训练流程的学者们带来无穷启发。在诞生26年之后，LSTM的论文原文依然是梯度研究方向的金典之作，LSTM算法本身也逐渐发展成为深度学习序列数据领域的根基架构。\n",
    "\n",
    "今天，尽管自然语言处理领域众多大型模型和更先进的Transformer架构已经占据主流，但面临时间序列问题时，LSTM依然是众多深度学习竞赛和企业应用场景中的首选算法；在许多实际应用场景当中，模块化的LSTM也能够与CNN、GAN等架构有机结合，有效地创造在某些场景下超越transformer算法的效率或性能；同时，在LSTM基础上改进而诞生的GRU等算法，也在时间序列应用场景中有一席之地。LSTM的崛起和其持久的影响无疑为整个循环网络系列在序列数据研究领域确立了不可撼动的地位。今天，让我们一起来探索这一卓越结构背后的奥秘。"
   ]
  },
  {
   "cell_type": "markdown",
   "id": "b9c32b22-368a-4a66-828b-ddb1964fdff1",
   "metadata": {},
   "source": [
    "## 1.5 实战：nn.LSTM的预测与挑战"
   ]
  },
  {
   "cell_type": "markdown",
   "id": "db4c49b0-df6b-42aa-b76c-1a72b9399ae8",
   "metadata": {},
   "source": [
    "### 1.5.1 跑通单变量时间序列预测流程"
   ]
  },
  {
   "cell_type": "code",
   "execution_count": null,
   "id": "1bfedaa3-a64a-453f-8949-e570b49120b3",
   "metadata": {
    "tags": []
   },
   "outputs": [],
   "source": [
    "import numpy as np #数据处理\n",
    "import pandas as pd #数据处理\n",
    "import matplotlib as mlp\n",
    "import matplotlib.pyplot as plt #绘图\n",
    "from sklearn.preprocessing import MinMaxScaler #·数据预处理\n",
    "from sklearn.metrics import mean_squared_error\n",
    "import torch \n",
    "import torch.nn as nn #导入pytorch中的基本类\n",
    "from torch.autograd import Variable\n",
    "from torch.utils.data import DataLoader, TensorDataset\n",
    "import torch.optim as optim\n",
    "import torch.utils.data as data"
   ]
  },
  {
   "cell_type": "code",
   "execution_count": 3,
   "id": "83dfcb86-a6b7-4cdf-bf3e-5f401920b989",
   "metadata": {
    "tags": []
   },
   "outputs": [
    {
     "name": "stdout",
     "output_type": "stream",
     "text": [
      "1.22.4\n",
      "2.1.4\n",
      "3.8.2\n",
      "2.2.0+cu121\n"
     ]
    }
   ],
   "source": [
    "print(np.__version__)\n",
    "print(pd.__version__)\n",
    "print(mlp.__version__)\n",
    "print(torch.__version__)"
   ]
  },
  {
   "cell_type": "markdown",
   "id": "57e51746-068e-49c0-a87b-d62fb884d8a0",
   "metadata": {},
   "source": [
    "- **导入数据**"
   ]
  },
  {
   "cell_type": "code",
   "execution_count": 5,
   "id": "7a8b73da-3e62-47e3-8d47-859fd1fcded1",
   "metadata": {},
   "outputs": [],
   "source": [
    "df = pd.read_csv(r'D:\\pythonwork\\2021DL\\NLP\\lstm\\airline-passengers.csv')\n",
    "timeseries = df[[\"Passengers\"]].values.astype('float32')"
   ]
  },
  {
   "cell_type": "code",
   "execution_count": 6,
   "id": "e2978408-cb67-4fb5-961b-a771ff4e6584",
   "metadata": {},
   "outputs": [
    {
     "data": {
      "text/html": [
       "<div>\n",
       "<style scoped>\n",
       "    .dataframe tbody tr th:only-of-type {\n",
       "        vertical-align: middle;\n",
       "    }\n",
       "\n",
       "    .dataframe tbody tr th {\n",
       "        vertical-align: top;\n",
       "    }\n",
       "\n",
       "    .dataframe thead th {\n",
       "        text-align: right;\n",
       "    }\n",
       "</style>\n",
       "<table border=\"1\" class=\"dataframe\">\n",
       "  <thead>\n",
       "    <tr style=\"text-align: right;\">\n",
       "      <th></th>\n",
       "      <th>Month</th>\n",
       "      <th>Passengers</th>\n",
       "    </tr>\n",
       "  </thead>\n",
       "  <tbody>\n",
       "    <tr>\n",
       "      <th>0</th>\n",
       "      <td>1949-01</td>\n",
       "      <td>112</td>\n",
       "    </tr>\n",
       "    <tr>\n",
       "      <th>1</th>\n",
       "      <td>1949-02</td>\n",
       "      <td>118</td>\n",
       "    </tr>\n",
       "    <tr>\n",
       "      <th>2</th>\n",
       "      <td>1949-03</td>\n",
       "      <td>132</td>\n",
       "    </tr>\n",
       "    <tr>\n",
       "      <th>3</th>\n",
       "      <td>1949-04</td>\n",
       "      <td>129</td>\n",
       "    </tr>\n",
       "    <tr>\n",
       "      <th>4</th>\n",
       "      <td>1949-05</td>\n",
       "      <td>121</td>\n",
       "    </tr>\n",
       "  </tbody>\n",
       "</table>\n",
       "</div>"
      ],
      "text/plain": [
       "     Month  Passengers\n",
       "0  1949-01         112\n",
       "1  1949-02         118\n",
       "2  1949-03         132\n",
       "3  1949-04         129\n",
       "4  1949-05         121"
      ]
     },
     "execution_count": 6,
     "metadata": {},
     "output_type": "execute_result"
    }
   ],
   "source": [
    "df.head() #单变量时间序列数据无需对时间维度进行处理"
   ]
  },
  {
   "cell_type": "code",
   "execution_count": 10,
   "id": "19f9f735-57a3-4e52-86ef-9cb1d7275f42",
   "metadata": {},
   "outputs": [
    {
     "data": {
      "image/png": "[encoded data removed]",
      "text/plain": [
       "<Figure size 432x288 with 1 Axes>"
      ]
     },
     "metadata": {
      "needs_background": "light"
     },
     "output_type": "display_data"
    }
   ],
   "source": [
    "plt.plot(timeseries) #非常有规律的一个数据，对于LSTM来说相对容易\n",
    "plt.show()"
   ]
  },
  {
   "cell_type": "markdown",
   "id": "6255e3a2-5472-417f-8b71-802d061e0095",
   "metadata": {},
   "source": [
    "- **数据分割与滑窗**"
   ]
  },
  {
   "cell_type": "code",
   "execution_count": 35,
   "id": "2a36eff8-7003-44c5-bf61-bd1c0c61ebbb",
   "metadata": {},
   "outputs": [],
   "source": [
    "#按时间顺序对训练集测试集进行分割\n",
    "train_size = int(len(timeseries) * 0.67)\n",
    "test_size = len(timeseries) - train_size\n",
    "train, test = timeseries[:train_size], timeseries[train_size:]"
   ]
  },
  {
   "cell_type": "markdown",
   "id": "6bc3b619-3f4d-48fc-870b-9ae96bfa435a",
   "metadata": {},
   "source": [
    "> - 什么是滑窗？滑窗在机器学习/深度学习世界中的意义是什么？\n",
    "\n",
    "滑动窗口技术涉及将连续的数据流划分为多个“窗口”，每个窗口包含一段时间序列的子集。在时间序列预测中，滑动窗口用于创建预测模型的训练样本。例如，如果我们想预测未来某个时间点的值，我们可以使用过去几个时间点的数据作为输入特征。在机器学习和深度学习的世界中，我们都常用滑窗的手段，针对不同的算法，滑窗手法带来的效果却截然不同。以下面的数据为例——"
   ]
  },
  {
   "cell_type": "markdown",
   "id": "34708206-a49e-49e0-b46d-9e85bfefbbe1",
   "metadata": {},
   "source": [
    "|时间|特征1|特征2|\n",
    "|:-:|:-:|:-:|\n",
    "|Date0|xxx|xxx|\n",
    "|Date1|xxx|xxx|\n",
    "|Date2|xxx|xxx|\n",
    "|...|xxx|xxx|\n",
    "|Daten|xxx|xxx|"
   ]
  },
  {
   "cell_type": "markdown",
   "id": "08db7be5-7bc1-43c1-a0bc-8dbf8919873d",
   "metadata": {},
   "source": [
    "在机器学习的世界中，滑窗带有“去时序化”的意味，这是因为机器学习算法（如lgbm，随机森林等等）是研究特征与标签之间关系的算法，机器学习算法群并不研究样本与样本之间的关联，而时间序列的内在逻辑是样本与样本之间的关联逻辑，因此在机器学习当中，我们利用滑窗“去时序化”后，将从上至下的时间序列关联滑窗为从左到右的特征与标签之间的关联。具体来看，在机器学习中，滑窗之后的数据往往呈现如下结构："
   ]
  },
  {
   "cell_type": "markdown",
   "id": "da7e07a4-306f-4892-80d7-7c30e91bc693",
   "metadata": {},
   "source": [
    "|时间|...|Date7前1天<br>特征1|Date7前2天<br>特征1|Date7前3天<br>特征1|...|Date7前1天<br>特征2|Date7前2天<br>特征2|Date7前3天<br>特征2|....|标签|\n",
    "|:-:|:-:|:-:|:-:|:-:|:-:|:-:|:-:|:-:|:-:|:-:|\n",
    "|Date0|xxx|xxx|xxx|xxx|xxx|xxx|xxx|xxx|xxx|xxx|\n",
    "|……|xxx|xxx|xxx|xxx|xxx|xxx|xxx|xxx|xxx|xxx|\n",
    "|Date7|xxx|xxx|xxx|xxx|xxx|xxx|xxx|xxx|xxx|xxx|\n",
    "|Date8|xxx|xxx|xxx|xxx|xxx|xxx|xxx|xxx|xxx|xxx|\n",
    "|Date9|xxx|xxx|xxx|xxx|xxx|xxx|xxx|xxx|xxx|xxx|\n",
    "|...|xxx|xxx|xxx|xxx|xxx|xxx|xxx|xxx|xxx|xxx|\n",
    "|Date10|xxx|xxx|xxx|xxx|xxx|xxx|xxx|xxx|xxx|xxx|"
   ]
  },
  {
   "cell_type": "markdown",
   "id": "db6c5d6a-3b16-4972-96fe-cf3e4eab4207",
   "metadata": {},
   "source": [
    "但在深度学习、尤其是序列数据的世界中，我们的滑窗操作会生成的数据结构是：\n",
    "\n",
    "> - **表单1**\n",
    "\n",
    "|时间|特征1|特征2|\n",
    "|:-:|:-:|:-:|\n",
    "|**Date0**|xxx|xxx|\n",
    "|**Date1**|xxx|xxx|\n",
    "|**Date2**|xxx|xxx|\n",
    "|...|xxx|xxx|\n",
    "|**Date7**|xxx|xxx|\n",
    "|**标签**|xxx|xxx|"
   ]
  },
  {
   "cell_type": "markdown",
   "id": "a5dbf809-a110-4c2e-8bdd-9f6054751bc7",
   "metadata": {},
   "source": [
    "> - **表单2**"
   ]
  },
  {
   "cell_type": "markdown",
   "id": "b28e73ad-b4c6-430e-b4ff-c252ba6c3a14",
   "metadata": {},
   "source": [
    "|时间|特征1|特征2|\n",
    "|:-:|:-:|:-:|\n",
    "|**Date1**|xxx|xxx|\n",
    "|**Date2**|xxx|xxx|\n",
    "|**Date3**|xxx|xxx|\n",
    "|...|xxx|xxx|\n",
    "|**Date8**|xxx|xxx|\n",
    "|**标签**|xxx|xxx|"
   ]
  },
  {
   "cell_type": "markdown",
   "id": "239c2f66-75dc-41db-bac7-d59382d8a852",
   "metadata": {},
   "source": [
    "> - **表单3**"
   ]
  },
  {
   "cell_type": "markdown",
   "id": "7011730b-d799-4199-9d44-8ffee6152008",
   "metadata": {},
   "source": [
    "|时间|特征1|特征2|\n",
    "|:-:|:-:|:-:|\n",
    "|**Date2**|xxx|xxx|\n",
    "|**Date3**|xxx|xxx|\n",
    "|**Date4**|xxx|xxx|\n",
    "|...|xxx|xxx|\n",
    "|**Date9**|xxx|xxx|\n",
    "|**标签**|xxx|xxx|"
   ]
  },
  {
   "cell_type": "markdown",
   "id": "031d651e-b484-496a-858a-53215fb1962e",
   "metadata": {},
   "source": [
    "这两种滑窗结构有明显的不同，其核心特点是“**时间维度的不同**”和“**能否打乱纵向的样本排列顺序**”，因两种不同的滑窗结构，这两种数据也适用于不同的机器学习和深度学习算法。"
   ]
  },
  {
   "cell_type": "markdown",
   "id": "401766cc-0da1-4719-8002-e72e7f5ea4d5",
   "metadata": {},
   "source": [
    "在本次单变量时间序列数据案例当中，我们采用的是第二种方法进行滑窗。在滑窗技巧中，有两个关键的因素非常重要，一个是“窗的大小”，另一个是“滑动的步长”。在大多数的时候我们只会考虑窗的大小，而一般不对步长进行修改。"
   ]
  },
  {
   "cell_type": "code",
   "execution_count": 45,
   "id": "84b51ba9-009a-4ca5-99f2-d00827f07541",
   "metadata": {},
   "outputs": [],
   "source": [
    "#单变量时间序列滑窗函数\n",
    "\n",
    "import torch\n",
    "def create_dataset(dataset, lookback):\n",
    "    \"\"\"\n",
    "    将时间序列转变为能够用于训练和预测的数据\n",
    "    \n",
    "    参数:\n",
    "        dataset: ndarry，第一个维度是时间\n",
    "        lookback: 滑窗的窗的大小\n",
    "    \"\"\"\n",
    "    X, y = [], []\n",
    "    for i in range(len(dataset)-lookback):\n",
    "        feature = dataset[i:i+lookback]\n",
    "        target = dataset[i+lookback]\n",
    "        #target = dataset[i+1:i+lookback+1]\n",
    "        X.append(feature)\n",
    "        y.append(target)\n",
    "    return torch.FloatTensor(X), torch.FloatTensor(y)"
   ]
  },
  {
   "cell_type": "markdown",
   "id": "7960152a-0d36-46c6-9096-c7d4cb79085c",
   "metadata": {},
   "source": [
    "> - 滑窗函数代码解析"
   ]
  },
  {
   "cell_type": "code",
   "execution_count": 46,
   "id": "a5090452-6e79-4c81-a80e-030fdd87f15a",
   "metadata": {},
   "outputs": [
    {
     "name": "stdout",
     "output_type": "stream",
     "text": [
      "torch.Size([89, 7, 1]) torch.Size([89, 1])\n",
      "torch.Size([41, 7, 1]) torch.Size([41, 1])\n"
     ]
    }
   ],
   "source": [
    "#创建训练集与测试集\n",
    "lookback = 7\n",
    "X_train, y_train = create_dataset(train, lookback=lookback)\n",
    "X_test, y_test = create_dataset(test, lookback=lookback)\n",
    "print(X_train.shape, y_train.shape)\n",
    "print(X_test.shape, y_test.shape)"
   ]
  },
  {
   "cell_type": "code",
   "execution_count": 47,
   "id": "de4c3433-58a4-4794-9beb-3397afc26979",
   "metadata": {},
   "outputs": [],
   "source": [
    "for x_, y_ in zip(X_train,y_train):\n",
    "    print(x_,y_)\n",
    "    break\n",
    "\n",
    "y_train[0]"
   ]
  },
  {
   "cell_type": "markdown",
   "id": "42aabbc9-9f8a-4ec8-8e31-ae5212ae4988",
   "metadata": {},
   "source": [
    "- **定义网络架构与训练元素**"
   ]
  },
  {
   "cell_type": "code",
   "execution_count": 67,
   "id": "a0745285-9d06-4376-96ef-f51313cc9f1e",
   "metadata": {},
   "outputs": [],
   "source": [
    "#选择了最为简单的网络架构来进行实验\n",
    "import torch.nn as nn\n",
    " \n",
    "class AirModel(nn.Module):\n",
    "    def __init__(self):\n",
    "        super().__init__()\n",
    "        self.lstm = nn.LSTM(input_size=1, hidden_size=50, num_layers=1, batch_first=True)\n",
    "        self.linear = nn.Linear(50, 1)\n",
    "    def forward(self, x):\n",
    "        x, _ = self.lstm(x)\n",
    "        #现在我要的是最后一个时间步，而不是全部时间步了\n",
    "        x = self.linear(x[:,-1,:])\n",
    "        return x"
   ]
  },
  {
   "cell_type": "code",
   "execution_count": 68,
   "id": "930265c6-13d4-42a4-b2da-95f332a5a271",
   "metadata": {},
   "outputs": [
    {
     "name": "stdout",
     "output_type": "stream",
     "text": [
      "cuda\n"
     ]
    }
   ],
   "source": [
    "#设置GPU\n",
    "device = torch.device('cuda' if torch.cuda.is_available() else 'cpu')\n",
    "print(device)"
   ]
  },
  {
   "cell_type": "code",
   "execution_count": 69,
   "id": "738759ee-2e53-4f46-a127-7a983c9b43d1",
   "metadata": {},
   "outputs": [],
   "source": [
    "#设置参数\n",
    "input_size = 1  #输入特征的维度\n",
    "hidden_size = 50 #LSTM隐藏状态的维度\n",
    "num_layers = 1 #LSTM层的数量\n",
    "output_size = 1 #模型的输出维度\n",
    "n_epochs = 2000 #迭代epoch\n",
    "learning_rate = 0.001 #学习率"
   ]
  },
  {
   "cell_type": "code",
   "execution_count": 70,
   "id": "8b61b97f-c3c8-465d-af58-825b8b14b32a",
   "metadata": {},
   "outputs": [],
   "source": [
    "#实例化模型\n",
    "model = AirModel().to(device)\n",
    "optimizer = optim.Adam(model.parameters(),lr=learning_rate) #定义优化器\n",
    "loss_fn = nn.MSELoss() #定义损失函数\n",
    "loader = data.DataLoader(data.TensorDataset(X_train, y_train), shuffle=True, batch_size=8) #将数据分批次"
   ]
  },
  {
   "cell_type": "code",
   "execution_count": 71,
   "id": "b760f2b7-f2cf-4eaa-8f07-bed8b6284e6c",
   "metadata": {},
   "outputs": [
    {
     "name": "stdout",
     "output_type": "stream",
     "text": [
      "torch.Size([8, 7, 1])\n",
      "tensor([[234.],\n",
      "        [355.],\n",
      "        [259.],\n",
      "        [193.],\n",
      "        [293.],\n",
      "        [163.],\n",
      "        [243.],\n",
      "        [302.]])\n"
     ]
    }
   ],
   "source": [
    "for x,y in loader:\n",
    "    print(x.shape)\n",
    "    print(y)\n",
    "    break"
   ]
  },
  {
   "cell_type": "markdown",
   "id": "3b635038-b1e8-4011-bb1f-e7198789ee81",
   "metadata": {},
   "source": [
    "- **实际训练流程**"
   ]
  },
  {
   "cell_type": "code",
   "execution_count": 72,
   "id": "2315bef5-8dac-4462-8653-1dd29c1b8a1f",
   "metadata": {},
   "outputs": [
    {
     "name": "stdout",
     "output_type": "stream",
     "text": [
      "Epoch 0: train RMSE 231.3658, test RMSE 428.8696\n",
      "Epoch 100: train RMSE 186.5346, test RMSE 382.1577\n",
      "Epoch 200: train RMSE 152.2639, test RMSE 345.3699\n",
      "Epoch 300: train RMSE 122.5366, test RMSE 311.7413\n",
      "Epoch 400: train RMSE 98.6056, test RMSE 281.7494\n",
      "Epoch 500: train RMSE 71.8821, test RMSE 244.2719\n",
      "Epoch 600: train RMSE 54.0116, test RMSE 213.5541\n",
      "Epoch 700: train RMSE 42.0944, test RMSE 194.0356\n",
      "Epoch 800: train RMSE 34.5988, test RMSE 174.8605\n",
      "Epoch 900: train RMSE 29.7907, test RMSE 170.5281\n",
      "Epoch 1000: train RMSE 26.6360, test RMSE 141.6537\n",
      "Epoch 1100: train RMSE 23.8831, test RMSE 132.5804\n",
      "Epoch 1200: train RMSE 23.5865, test RMSE 121.6976\n",
      "Epoch 1300: train RMSE 19.9781, test RMSE 118.3079\n",
      "Epoch 1400: train RMSE 18.7755, test RMSE 112.8421\n",
      "Epoch 1500: train RMSE 17.3526, test RMSE 107.7514\n",
      "Epoch 1600: train RMSE 15.9780, test RMSE 100.3437\n",
      "Epoch 1700: train RMSE 14.3680, test RMSE 97.0989\n",
      "Epoch 1800: train RMSE 13.2114, test RMSE 94.9483\n",
      "Epoch 1900: train RMSE 12.3218, test RMSE 99.7807\n"
     ]
    }
   ],
   "source": [
    "for epoch in range(n_epochs):\n",
    "    model.train()\n",
    "    for X_batch, y_batch in loader:\n",
    "        y_pred = model(X_batch.to(device))\n",
    "        loss = loss_fn(y_pred, y_batch.to(device))\n",
    "        optimizer.zero_grad()\n",
    "        loss.backward()\n",
    "        optimizer.step()\n",
    "    #验证与打印\n",
    "    if epoch % 100 != 0:\n",
    "        continue\n",
    "    model.eval()\n",
    "    with torch.no_grad():\n",
    "        y_pred = model(X_train.to(device)).cpu()\n",
    "        train_rmse = np.sqrt(loss_fn(y_pred, y_train))\n",
    "        y_pred = model(X_test.to(device)).cpu()\n",
    "        test_rmse = np.sqrt(loss_fn(y_pred, y_test))\n",
    "    print(\"Epoch %d: train RMSE %.4f, test RMSE %.4f\" % (epoch, train_rmse, test_rmse))"
   ]
  },
  {
   "cell_type": "code",
   "execution_count": 78,
   "id": "36119923-9ad9-48de-aadf-c4564c65861e",
   "metadata": {},
   "outputs": [
    {
     "data": {
      "image/png": "[encoded data removed]",
      "text/plain": [
       "<Figure size 432x288 with 1 Axes>"
      ]
     },
     "metadata": {
      "needs_background": "light"
     },
     "output_type": "display_data"
    }
   ],
   "source": [
    "with torch.no_grad():\n",
    "    # 绘制训练集上的损失的图像\n",
    "    train_plot = np.ones_like(timeseries) * np.nan\n",
    "    y_pred = model(X_train.to(device)).cpu()\n",
    "    train_plot[lookback:train_size] = model(X_train.to(device)).cpu()\n",
    "    # 绘制测试集上的损失的图像\n",
    "    test_plot = np.ones_like(timeseries) * np.nan\n",
    "    test_plot[train_size+lookback:len(timeseries)] = model(X_test.to(device)).cpu()\n",
    "# plot\n",
    "plt.plot(timeseries, c='b')\n",
    "plt.plot(train_plot, c='r')\n",
    "plt.plot(test_plot, c='g')\n",
    "plt.show()"
   ]
  },
  {
   "cell_type": "markdown",
   "id": "9f1997bf-1f54-44e7-a0a9-f015649cc845",
   "metadata": {},
   "source": [
    "- **从序列到点的预测转变为序列到序列的预测**"
   ]
  },
  {
   "cell_type": "markdown",
   "id": "aa5cc4ec-3830-481d-a5ba-52a6ece67432",
   "metadata": {},
   "source": [
    "序列到序列（Seq2Seq）预测和序列到点（Seq2Point）预测在处理时间序列数据时各有优势。特别是对于LSTM这样的循环神经网络，这两种方法都可以被有效地利用。让我们来比较一下它们各自的优势：\n",
    "\n",
    "> 序列到序列（Seq2Seq）预测\n",
    "\n",
    "捕获长期依赖关系：Seq2Seq模型特别适合于那些需要理解整个输入序列来生成整个输出序列的任务。LSTM的优势在于能够捕获长期的时间依赖性，这使得它在Seq2Seq预测中非常有效。\n",
    "\n",
    "连续输出预测：当需要连续预测多个未来时间点时，Seq2Seq模型可以一次性提供整个输出序列，这对于需要连续决策或规划的应用非常有用。\n",
    "\n",
    "灵活性和泛化能力：Seq2Seq模型可以被训练来处理不同长度的输入和输出序列，提供更高的灵活性和泛化能力。\n",
    "\n",
    "多功能性：Seq2Seq模型不仅限于时间序列预测，还可以用于其他任务，如机器翻译、文本摘要等。"
   ]
  },
  {
   "cell_type": "markdown",
   "id": "080c18d3-dca7-4c61-a6ec-c1dd77f22567",
   "metadata": {},
   "source": [
    "> 序列到点（Seq2Point）预测\n",
    "\n",
    "简单性和高效性：Seq2Point模型通常比Seq2Seq模型更简单，易于实现和训练。这种方法在计算上更高效，因为它仅预测单个输出值。\n",
    "\n",
    "准确性：在某些情况下，Seq2Point模型可能比Seq2Seq模型提供更准确的单点预测，因为它专注于预测一个特定的未来时刻，而不是整个序列。\n",
    "\n",
    "降低过拟合风险：由于模型结构较为简单，Seq2Point模型可能较少受到过拟合的影响，尤其是在数据量较少的情况下。\n",
    "\n",
    "适用性：Seq2Point预测非常适用于那些只需预测一个未来时刻的任务，例如短期负载预测或股价预测。"
   ]
  },
  {
   "cell_type": "markdown",
   "id": "6837fa24-0c3a-4fe3-84f2-5953dbf20ca0",
   "metadata": {},
   "source": [
    "选择Seq2Seq还是Seq2Point模型取决于具体的应用需求。如果任务涉及到对未来一系列时间点的连续预测，Seq2Seq模型是更好的选择。然而，如果任务只需要预测一个特定的未来时刻，Seq2Point模型可能更为合适，因为它更简单、更高效，并且可能更准确。在实际应用中，考虑数据的特性、预测的需求和可用资源是非常重要的。"
   ]
  },
  {
   "cell_type": "code",
   "execution_count": 79,
   "id": "c4643fc3-3418-476d-8d22-8f350b6403bc",
   "metadata": {},
   "outputs": [],
   "source": [
    "import torch\n",
    "def create_dataset(dataset, lookback):\n",
    "    \"\"\"\n",
    "    序列到序列预测的滑窗函数\n",
    "    \"\"\"\n",
    "    X, y = [], []\n",
    "    for i in range(len(dataset)-lookback):\n",
    "        feature = dataset[i:i+lookback]\n",
    "        target = dataset[i+1:i+lookback+1]\n",
    "        X.append(feature)\n",
    "        y.append(target)\n",
    "    return torch.FloatTensor(X), torch.FloatTensor(y)"
   ]
  },
  {
   "cell_type": "code",
   "execution_count": 80,
   "id": "ae53935d-0e26-48fe-a61c-b9c7d4960955",
   "metadata": {},
   "outputs": [
    {
     "name": "stdout",
     "output_type": "stream",
     "text": [
      "torch.Size([89, 7, 1]) torch.Size([89, 7, 1])\n",
      "torch.Size([41, 7, 1]) torch.Size([41, 7, 1])\n"
     ]
    }
   ],
   "source": [
    "lookback = 7\n",
    "X_train, y_train = create_dataset(train, lookback=lookback)\n",
    "X_test, y_test = create_dataset(test, lookback=lookback)\n",
    "print(X_train.shape, y_train.shape)\n",
    "print(X_test.shape, y_test.shape)"
   ]
  },
  {
   "cell_type": "code",
   "execution_count": 85,
   "id": "fde51066-4746-4787-8ed7-db395fb9515e",
   "metadata": {},
   "outputs": [
    {
     "name": "stdout",
     "output_type": "stream",
     "text": [
      "tensor([[112.],\n",
      "        [118.],\n",
      "        [132.],\n",
      "        [129.],\n",
      "        [121.],\n",
      "        [135.],\n",
      "        [148.]]) \n",
      " \n",
      " tensor([[118.],\n",
      "        [132.],\n",
      "        [129.],\n",
      "        [121.],\n",
      "        [135.],\n",
      "        [148.],\n",
      "        [148.]])\n"
     ]
    }
   ],
   "source": [
    "for x_, y_ in zip(X_train,y_train):\n",
    "    print(x_, \"\\n \\n\", y_)\n",
    "    break"
   ]
  },
  {
   "cell_type": "code",
   "execution_count": 86,
   "id": "a0976ca3-382b-49cd-8a03-2518cdf04dec",
   "metadata": {},
   "outputs": [],
   "source": [
    "import torch.nn as nn\n",
    " \n",
    "class AirModel(nn.Module):\n",
    "    def __init__(self):\n",
    "        super().__init__()\n",
    "        self.lstm = nn.LSTM(input_size=1, hidden_size=50, num_layers=1, batch_first=True)\n",
    "        self.linear = nn.Linear(50, 7)\n",
    "    def forward(self, x):\n",
    "        x, _ = self.lstm(x)\n",
    "        x = self.linear(x)\n",
    "        return x"
   ]
  },
  {
   "cell_type": "code",
   "execution_count": 87,
   "id": "e1f8ae9a-53f6-4b01-a4c4-79927ee34588",
   "metadata": {},
   "outputs": [
    {
     "name": "stdout",
     "output_type": "stream",
     "text": [
      "cuda\n"
     ]
    }
   ],
   "source": [
    "#device = \"cpu\"\n",
    "device = torch.device('cuda' if torch.cuda.is_available() else 'cpu')\n",
    "print(device)"
   ]
  },
  {
   "cell_type": "code",
   "execution_count": 88,
   "id": "a67a92ad-7c45-4d2a-bff2-742a2f8e4ec2",
   "metadata": {},
   "outputs": [
    {
     "name": "stdout",
     "output_type": "stream",
     "text": [
      "Epoch 0: train RMSE 224.8474, test RMSE 423.6746\n",
      "Epoch 100: train RMSE 175.4201, test RMSE 371.9661\n",
      "Epoch 200: train RMSE 137.3603, test RMSE 330.4726\n",
      "Epoch 300: train RMSE 106.9641, test RMSE 294.4650\n",
      "Epoch 400: train RMSE 84.8498, test RMSE 263.3934\n",
      "Epoch 500: train RMSE 63.0843, test RMSE 230.6918\n",
      "Epoch 600: train RMSE 49.2545, test RMSE 203.6607\n",
      "Epoch 700: train RMSE 39.5057, test RMSE 180.2176\n",
      "Epoch 800: train RMSE 33.1067, test RMSE 160.2575\n",
      "Epoch 900: train RMSE 28.1978, test RMSE 143.7549\n",
      "Epoch 1000: train RMSE 24.8665, test RMSE 129.6951\n",
      "Epoch 1100: train RMSE 22.2744, test RMSE 116.9509\n",
      "Epoch 1200: train RMSE 20.2718, test RMSE 107.0073\n",
      "Epoch 1300: train RMSE 19.2075, test RMSE 99.3532\n",
      "Epoch 1400: train RMSE 20.5165, test RMSE 93.5716\n",
      "Epoch 1500: train RMSE 18.2590, test RMSE 90.8696\n",
      "Epoch 1600: train RMSE 17.6633, test RMSE 87.0046\n",
      "Epoch 1700: train RMSE 17.3083, test RMSE 83.9677\n",
      "Epoch 1800: train RMSE 16.9683, test RMSE 82.5182\n",
      "Epoch 1900: train RMSE 16.9705, test RMSE 81.9794\n"
     ]
    }
   ],
   "source": [
    "import numpy as np\n",
    "import torch.optim as optim\n",
    "import torch.utils.data as data\n",
    " \n",
    "model = AirModel().to(device)\n",
    "optimizer = optim.Adam(model.parameters())\n",
    "loss_fn = nn.MSELoss()\n",
    "loader = data.DataLoader(data.TensorDataset(X_train, y_train), shuffle=True, batch_size=8)\n",
    " \n",
    "n_epochs = 2000\n",
    "for epoch in range(n_epochs):\n",
    "    model.train()\n",
    "    for X_batch, y_batch in loader:\n",
    "        y_pred = model(X_batch.to(device))\n",
    "        loss = loss_fn(y_pred, y_batch.to(device))\n",
    "        optimizer.zero_grad()\n",
    "        loss.backward()\n",
    "        optimizer.step()\n",
    "    # Validation\n",
    "    if epoch % 100 != 0:\n",
    "        continue\n",
    "    model.eval()\n",
    "    with torch.no_grad():\n",
    "        y_pred = model(X_train.to(device)).cpu()\n",
    "        train_rmse = np.sqrt(loss_fn(y_pred\n",
    "                                     , y_train))\n",
    "        y_pred = model(X_test.to(device)).cpu()\n",
    "        test_rmse = np.sqrt(loss_fn(y_pred, y_test))\n",
    "    print(\"Epoch %d: train RMSE %.4f, test RMSE %.4f\" % (epoch, train_rmse, test_rmse))"
   ]
  },
  {
   "cell_type": "code",
   "execution_count": 89,
   "id": "631fc990-08ae-404e-a542-f42af0e25b5a",
   "metadata": {},
   "outputs": [
    {
     "data": {
      "image/png": "[encoded data removed]",
      "text/plain": [
       "<Figure size 432x288 with 1 Axes>"
      ]
     },
     "metadata": {
      "needs_background": "light"
     },
     "output_type": "display_data"
    }
   ],
   "source": [
    "with torch.no_grad():\n",
    "    # shift train predictions for plotting\n",
    "    train_plot = np.ones_like(timeseries) * np.nan\n",
    "    y_pred = model(X_train.to(device)).cpu()\n",
    "    y_pred = y_pred[:, -1, :]\n",
    "    train_plot[lookback:train_size] = model(X_train.to(device)).cpu()[:, -1, :]\n",
    "    # shift test predictions for plotting\n",
    "    test_plot = np.ones_like(timeseries) * np.nan\n",
    "    test_plot[train_size+lookback:len(timeseries)] = model(X_test.to(device)).cpu()[:, -1, :]\n",
    "# plot\n",
    "plt.plot(timeseries, c='b')\n",
    "plt.plot(train_plot, c='r')\n",
    "plt.plot(test_plot, c='g')\n",
    "plt.show()"
   ]
  },
  {
   "cell_type": "markdown",
   "id": "89a81119-c74f-4790-b75d-35bb5824edb8",
   "metadata": {},
   "source": [
    "### 1.5.2 多变量时序与面板数据的预测流程"
   ]
  },
  {
   "cell_type": "markdown",
   "id": "24d84c44-b640-4553-accd-3b98cdff7bdb",
   "metadata": {},
   "source": [
    "#### 1.5.2.1 单变量、多变量与面板数据"
   ]
  },
  {
   "cell_type": "markdown",
   "id": "b38e3453-7117-42e1-a244-04db611cf67f",
   "metadata": {},
   "source": [
    "在之前的课程中我们讲解了LSTM在单变量时间序列数据上预测的代码，这是一套最为基础、最为入门级的LSTM运行代码，我们借助它了解了滑窗这一重要操作以及时间序列预测中的多种概念，但这套代码却很难被用到深度学习领域中各种各样复杂的时间序列场景下。在深度学习的世界当中，单变量数据集往往比较少见，同时深度学习世界所面临的数据往往量大且复杂，因此一套单变量数据集的预测代码更多是帮助我们梳理使用LSTM时的实际预测流程，而非实际投入应用。今天我们将在我们原本理解的单变量数据预测的基础上继续拓展、以讲解多变量以及更复杂的数据集被应用于LSTM时我们应该做出的一系列处理。\n",
    "\n",
    "首先在时间序列的世界中，除了最常见的单变量时间序列之外，我们还有多变量时间序列数据和面板数据两种复杂经典数据结构。我们在深度学习/机器学习以及无数的时间序列课程中都曾讲解过这几种数据的关键定义与区别。\n",
    "\n",
    "> - **单变量时间序列**：只包含时间索引和唯一列的序列，在这样的序列中，时间与标签是一一绑定的，我们只需要知道时间即可确定唯一的标签。对于单变量数据集，我们需要预测的标签也就是数据集中唯一的列，这样的数据没有特征，是理解难度最小、但预测难度最大的时间序列数据类型。这种数据集中，日期往往是从上到下、从过去到未来地进行排列。由于日期能够确定唯一的标签，因此这种数据集中的日期一定不会重复。如果出现了重复的日期，则需要深入调查、或予以删除。\n",
    "\n",
    "| 日期     | 平均温度<br>（标签） |\n",
    "|---------|--------|\n",
    "| Date0   | 22°C   |\n",
    "| Date1   | 21°C   |\n",
    "| Date2   | 23°C   |\n",
    "| ...     | ...    |\n",
    "| DateN   | 25°C   |\n",
    "\n",
    "> - **多变量时间序列**：多变量时间序列数据的定义在过去的几年中发生了几次变化，在今天它大多数时间指代**一个时间点下拥有多个不同的特征**的时间序列数据。例如，我们想要预测一支股票在不同日期下的收盘价时，我们可以在一个日期下收集到多重的信息，比如开盘价、当日最高价、当日最底价、成交量、交易额等等，来构成如下的数据集——\n",
    "\n",
    "| 日期     | 开盘价 | 最高价 | 最低价 | 收盘价<br>（标签）  | 交易量    | 成交额      |\n",
    "|---------|------|------|------|------|--------|----------|\n",
    "| Date0   | 100  | 105  | 99   | 103  | 500000 | 52000000 |\n",
    "| Date1   | 103  | 108  | 102  | 107  | 600000 | 64200000 |\n",
    "| Date2   | 107  | 109  | 106  | 108  | 550000 | 59400000 |\n",
    "| ...     | ...  | ...  | ...  | ...  | ...    | ...      |\n",
    "| DateN   | 110  | 115  | 109  | 114  | 620000 | 70680000 |\n",
    "\n",
    "此时除了我们要预测的标签之外，我们还拥有更多帮助我们进行预测的信息，这是比单变量数据更加合理地情况。单变量数据和多变量数据之间的差异就在于特征数量的多少，如果我们给单变量时间序列加上特征，那单变量时间序列可以转变为多变量时间序列，比如——\n",
    "\n",
    "| 日期     | 平均温度<br>（标签）  | 最高温度 | 最低温度 | 降水量 | 风速  | 湿度  |\n",
    "|---------|--------|--------|--------|------|------|------|\n",
    "| Date0   | 22°C   | 28°C   | 18°C   | 0mm  | 5km/h| 60%  |\n",
    "| Date1   | 21°C   | 26°C   | 17°C   | 2mm  | 7km/h| 65%  |\n",
    "| Date2   | 23°C   | 30°C   | 20°C   | 0mm  | 4km/h| 55%  |\n",
    "| ...     | ...    | ...    | ...    | ...  | ...  | ...  |\n",
    "| DateN   | 25°C   | 32°C   | 22°C   | 0mm  | 6km/h| 50%  |\n",
    "\n",
    "与但变量时间序列相同，多变量时间序列数据中的日期往往是从上到下、从过去到未来地进行排列。由于日期能够确定唯一的标签，因此这种数据集中的日期一定不会重复。如果出现了重复的日期，则需要深入调查、或予以删除。\n",
    "\n",
    "> - **面板数据（Pedal Data）**：面板数据是近年来兴起的一种特殊的数据类型名称，它用于描述除了时间之外、还有另外的索引辅助我们确定唯一标签的数据。例如，当我们要预测商品在某一特定日期下的销售额时，我们除了知道具体的日期之外，还需要知道商品ID；当我们要预测某一位用户在某一个日期下的行为时，除了需要知道具体的日期之外，我们还需要知道具体的用户ID；像这样**需要时间和至少另一个ID来共同决定唯一标签**的数据集，被称之为是面板数据。在过去，我们将这样的数据集称之为多变量时间序列，但现在“多变量时间序列”这一名字大多用于称呼拥有多个特征的时间序列，而像这样需要两个或以上的索引来决定唯一标签的数据有了新的名字面板数据。如下所示——\n",
    "\n",
    "| 股票ID | 日期     | 开盘价 | 最高价 | 最低价 | 收盘价<br>（标签） | 交易量    | 成交额      |\n",
    "|-------|---------|------|------|------|------|--------|----------|\n",
    "| A     | Date0   | 100  | 105  | 99   | 103  | 500000 | 52000000 |\n",
    "| A     | Date1   | 103  | 108  | 102  | 107  | 600000 | 64200000 |\n",
    "| A     | Date2   | 107  | 109  | 106  | 108  | 550000 | 59400000 |\n",
    "| ...   | ...     | ...  | ...  | ...  | ...  | ...    | ...      |\n",
    "| A     | DateN   | 110  | 115  | 109  | 114  | 620000 | 70680000 |\n",
    "| B     | Date0   | 200  | 210  | 198  | 205  | 400000 | 82000000 |\n",
    "| B     | Date1   | 205  | 215  | 202  | 210  | 450000 | 94500000 |\n",
    "| B     | Date2   | 210  | 220  | 210  | 218  | 500000 | 109000000|\n",
    "| ...   | ...     | ...  | ...  | ...  | ...  | ...    | ...      |\n",
    "| B     | DateN   | 250  | 260  | 248  | 255  | 550000 | 140250000|\n",
    "\n",
    "在这个数据集中，我们需要预测的标签是股票的收盘价，但是除了日期之外，我们还需要先确认股票ID，才能确定特定股票在特定日期下的收盘价。你可以观察到，在每一支股票的ID下面，日期是从上至下、从过去到未来排列的，但是从整个数据集来看，跨越股票ID这一索引，我们却可以拥有重复的日期、并且日期并不是完全严格从上至下、从过去到未来排列的。在这样的数据中，我们称**时间为该数据的一个截面，股票ID为数据的另一个截面**，两个截面数据归拢在同一张表单中，构成了面板数据。\n",
    "\n",
    "<font color=\"red\">**在过去，面板数据一直被我们称之为多变量时间序列数据，这个曾经正确的称呼现在已被“面板数据”这一称呼替代，多变量时间序列数据的概念范围被压缩，现在仅仅指代具有多个特征的时间序列数据了**</font>。在深度学习预测的现实、以及大多数深度学习、机器学习竞赛当中，我们所面临的数据都是面板数据。在介绍RNN和LSTM这类深度学习算法的输入数据结构时，我们也多次提过(batch_size, time_step, input_dim)的三维结构；如下图所示，你或许已经注意到了，**RNN和LSTM数据所要求的输入数据格式就是为面板数据量身打造的**。虽然在实际分割数据的时候、我们可能不能将数据分割得像下图这样完美，但深度学习所要求的三维时间序列数据的格式是很适合面板数据的。\n",
    "\n",
    "![](https://skojiangdoc.oss-cn-beijing.aliyuncs.com/2023DL/Live/NLP%26LLMs/03_.png)\n",
    "\n",
    "为什么需要了解不同的数据类型呢？根据之前所掌握的单变量数据的预测代码，我们已了解到LSTM预测所需的具体流程如下——\n",
    "\n",
    "1. **数据准备**\n",
    "> 包括了数据导入、数据探索、数据预处理等步骤\n",
    "2. **数据重组与数据分割**\n",
    "> 对数据进行结构变化、以满足时序算法对输入数据的结构要求，同时也需要满足时间序列模型评估过程对数据结构的要求。\n",
    "3. **模型构建与模型训练**\n",
    "> 包括构建模型、训练模型、选择模型、参数调整等流程。\n",
    "4. **验证与评估**\n",
    "> 对时间序列预测而言，模型评估的过程极为重要。\n",
    "5. **模型预测**\n",
    "\n",
    "当我们所使用最经典的“序列到点”的预测方法时，三种数据在步骤3、4、5中都是非常相似的，但是在**1 数据准备**和**2 数据重组**过程中却有较大的区别。让我们来看看多变量时序数据以及面板数据在进入LSTM之前需要做哪些准备。"
   ]
  },
  {
   "cell_type": "markdown",
   "id": "cc78f532-aa74-4943-ad48-11332fbe747d",
   "metadata": {},
   "source": [
    "#### 1.5.2.2 多变量时序数据的数据重组流程"
   ]
  },
  {
   "cell_type": "markdown",
   "id": "74be6e87-7aee-4450-9ee2-1ff7ee174a13",
   "metadata": {},
   "source": [
    "**数据重组是通过在数据上进行滑窗或其他变化，将数据改造成符合LSTM要求的三维数据集的操作**。在这里，我们使用Kaggle顶级竞赛：JPX股价预测赛题中的股票数据集来举例，给大家展示多变量时序数据的数据重组流程。"
   ]
  },
  {
   "cell_type": "code",
   "execution_count": 7,
   "id": "53077d6b-e8c3-4d82-a561-1b7a36ad73c9",
   "metadata": {},
   "outputs": [],
   "source": [
    "df_stock_prices = pd.read_csv('stock_prices.csv')"
   ]
  },
  {
   "cell_type": "code",
   "execution_count": 8,
   "id": "a36dc4d7-dd7e-4a3c-863f-0a18d1510340",
   "metadata": {},
   "outputs": [
    {
     "data": {
      "text/html": [
       "<div>\n",
       "<style scoped>\n",
       "    .dataframe tbody tr th:only-of-type {\n",
       "        vertical-align: middle;\n",
       "    }\n",
       "\n",
       "    .dataframe tbody tr th {\n",
       "        vertical-align: top;\n",
       "    }\n",
       "\n",
       "    .dataframe thead th {\n",
       "        text-align: right;\n",
       "    }\n",
       "</style>\n",
       "<table border=\"1\" class=\"dataframe\">\n",
       "  <thead>\n",
       "    <tr style=\"text-align: right;\">\n",
       "      <th></th>\n",
       "      <th>RowId</th>\n",
       "      <th>Date</th>\n",
       "      <th>SecuritiesCode</th>\n",
       "      <th>Open</th>\n",
       "      <th>High</th>\n",
       "      <th>Low</th>\n",
       "      <th>Close</th>\n",
       "      <th>Volume</th>\n",
       "      <th>AdjustmentFactor</th>\n",
       "      <th>ExpectedDividend</th>\n",
       "      <th>SupervisionFlag</th>\n",
       "      <th>Target</th>\n",
       "    </tr>\n",
       "  </thead>\n",
       "  <tbody>\n",
       "    <tr>\n",
       "      <th>0</th>\n",
       "      <td>20170104_1301</td>\n",
       "      <td>2017-01-04</td>\n",
       "      <td>1301</td>\n",
       "      <td>2734.0</td>\n",
       "      <td>2755.0</td>\n",
       "      <td>2730.0</td>\n",
       "      <td>2742.0</td>\n",
       "      <td>31400</td>\n",
       "      <td>1.0</td>\n",
       "      <td>NaN</td>\n",
       "      <td>False</td>\n",
       "      <td>0.000730</td>\n",
       "    </tr>\n",
       "    <tr>\n",
       "      <th>1</th>\n",
       "      <td>20170104_1332</td>\n",
       "      <td>2017-01-04</td>\n",
       "      <td>1332</td>\n",
       "      <td>568.0</td>\n",
       "      <td>576.0</td>\n",
       "      <td>563.0</td>\n",
       "      <td>571.0</td>\n",
       "      <td>2798500</td>\n",
       "      <td>1.0</td>\n",
       "      <td>NaN</td>\n",
       "      <td>False</td>\n",
       "      <td>0.012324</td>\n",
       "    </tr>\n",
       "    <tr>\n",
       "      <th>2</th>\n",
       "      <td>20170104_1333</td>\n",
       "      <td>2017-01-04</td>\n",
       "      <td>1333</td>\n",
       "      <td>3150.0</td>\n",
       "      <td>3210.0</td>\n",
       "      <td>3140.0</td>\n",
       "      <td>3210.0</td>\n",
       "      <td>270800</td>\n",
       "      <td>1.0</td>\n",
       "      <td>NaN</td>\n",
       "      <td>False</td>\n",
       "      <td>0.006154</td>\n",
       "    </tr>\n",
       "    <tr>\n",
       "      <th>3</th>\n",
       "      <td>20170104_1376</td>\n",
       "      <td>2017-01-04</td>\n",
       "      <td>1376</td>\n",
       "      <td>1510.0</td>\n",
       "      <td>1550.0</td>\n",
       "      <td>1510.0</td>\n",
       "      <td>1550.0</td>\n",
       "      <td>11300</td>\n",
       "      <td>1.0</td>\n",
       "      <td>NaN</td>\n",
       "      <td>False</td>\n",
       "      <td>0.011053</td>\n",
       "    </tr>\n",
       "    <tr>\n",
       "      <th>4</th>\n",
       "      <td>20170104_1377</td>\n",
       "      <td>2017-01-04</td>\n",
       "      <td>1377</td>\n",
       "      <td>3270.0</td>\n",
       "      <td>3350.0</td>\n",
       "      <td>3270.0</td>\n",
       "      <td>3330.0</td>\n",
       "      <td>150800</td>\n",
       "      <td>1.0</td>\n",
       "      <td>NaN</td>\n",
       "      <td>False</td>\n",
       "      <td>0.003026</td>\n",
       "    </tr>\n",
       "  </tbody>\n",
       "</table>\n",
       "</div>"
      ],
      "text/plain": [
       "           RowId        Date  SecuritiesCode    Open    High     Low   Close  \\\n",
       "0  20170104_1301  2017-01-04            1301  2734.0  2755.0  2730.0  2742.0   \n",
       "1  20170104_1332  2017-01-04            1332   568.0   576.0   563.0   571.0   \n",
       "2  20170104_1333  2017-01-04            1333  3150.0  3210.0  3140.0  3210.0   \n",
       "3  20170104_1376  2017-01-04            1376  1510.0  1550.0  1510.0  1550.0   \n",
       "4  20170104_1377  2017-01-04            1377  3270.0  3350.0  3270.0  3330.0   \n",
       "\n",
       "    Volume  AdjustmentFactor  ExpectedDividend  SupervisionFlag    Target  \n",
       "0    31400               1.0               NaN            False  0.000730  \n",
       "1  2798500               1.0               NaN            False  0.012324  \n",
       "2   270800               1.0               NaN            False  0.006154  \n",
       "3    11300               1.0               NaN            False  0.011053  \n",
       "4   150800               1.0               NaN            False  0.003026  "
      ]
     },
     "execution_count": 8,
     "metadata": {},
     "output_type": "execute_result"
    }
   ],
   "source": [
    "df_stock_prices.head()"
   ]
  },
  {
   "cell_type": "code",
   "execution_count": 9,
   "id": "a815fd34-b242-4f3b-8127-7c24d0831a0f",
   "metadata": {},
   "outputs": [
    {
     "data": {
      "text/plain": [
       "(2332531, 12)"
      ]
     },
     "execution_count": 9,
     "metadata": {},
     "output_type": "execute_result"
    }
   ],
   "source": [
    "df_stock_prices.shape"
   ]
  },
  {
   "cell_type": "code",
   "execution_count": 10,
   "id": "f33bec5b-3a57-4f35-af51-7a8bf2098d06",
   "metadata": {},
   "outputs": [
    {
     "data": {
      "text/plain": [
       "2000"
      ]
     },
     "execution_count": 10,
     "metadata": {},
     "output_type": "execute_result"
    }
   ],
   "source": [
    "df_stock_prices[\"SecuritiesCode\"].unique().__len__() #一共包含2000支股票"
   ]
  },
  {
   "cell_type": "code",
   "execution_count": 11,
   "id": "5d52ce28-9fed-4ea6-9043-fc95906e43b2",
   "metadata": {},
   "outputs": [],
   "source": [
    "#提取其中一支股票的数据作为例子\n",
    "# 选择单只股票的数据\n",
    "single_stock = df_stock_prices[df_stock_prices['SecuritiesCode'] == 1332]"
   ]
  },
  {
   "cell_type": "code",
   "execution_count": 12,
   "id": "a6eb0e2e-d43b-4c0b-a692-e3927ff2763f",
   "metadata": {},
   "outputs": [
    {
     "data": {
      "text/plain": [
       "1          2017-01-04\n",
       "1866       2017-01-05\n",
       "3731       2017-01-06\n",
       "5596       2017-01-10\n",
       "7461       2017-01-11\n",
       "              ...    \n",
       "2322532    2021-11-29\n",
       "2324532    2021-11-30\n",
       "2326532    2021-12-01\n",
       "2328532    2021-12-02\n",
       "2330532    2021-12-03\n",
       "Name: Date, Length: 1202, dtype: object"
      ]
     },
     "execution_count": 12,
     "metadata": {},
     "output_type": "execute_result"
    }
   ],
   "source": [
    "single_stock['Date']"
   ]
  },
  {
   "cell_type": "code",
   "execution_count": 13,
   "id": "a2363f82-7776-4ef4-a2b6-d74027e59f20",
   "metadata": {},
   "outputs": [
    {
     "data": {
      "text/plain": [
       "array(['2017-01-04T00:00:00.000000000', '2017-01-05T00:00:00.000000000',\n",
       "       '2017-01-06T00:00:00.000000000', ...,\n",
       "       '2021-12-01T00:00:00.000000000', '2021-12-02T00:00:00.000000000',\n",
       "       '2021-12-03T00:00:00.000000000'], dtype='datetime64[ns]')"
      ]
     },
     "execution_count": 13,
     "metadata": {},
     "output_type": "execute_result"
    }
   ],
   "source": [
    "pd.to_datetime(single_stock['Date']).to_numpy()"
   ]
  },
  {
   "cell_type": "code",
   "execution_count": 14,
   "id": "2a2a5da0-fbde-45af-bce6-6c5c55e0f86a",
   "metadata": {},
   "outputs": [
    {
     "data": {
      "image/png": "[encoded data removed]",
      "text/plain": [
       "<Figure size 1008x504 with 1 Axes>"
      ]
     },
     "metadata": {
      "needs_background": "light"
     },
     "output_type": "display_data"
    }
   ],
   "source": [
    "# 绘制单只股票的'High'价格的时间序列图\n",
    "plt.figure(figsize=(14, 7))\n",
    "plt.plot(single_stock['Close'],label='stock 1332')\n",
    "plt.xlabel('Date')\n",
    "plt.ylabel('Close-Price')\n",
    "plt.title('The close price of stock 1301 over time')\n",
    "plt.legend()\n",
    "plt.show()"
   ]
  },
  {
   "cell_type": "code",
   "execution_count": 15,
   "id": "13b29586-0f3a-4c60-be73-3d606b33037f",
   "metadata": {},
   "outputs": [],
   "source": [
    "#按时间顺序对训练集测试集进行分割\n",
    "train_size = int(len(single_stock) * 0.67)\n",
    "test_size = len(single_stock) - train_size\n",
    "train, test = single_stock[:train_size], single_stock[train_size:]"
   ]
  },
  {
   "cell_type": "code",
   "execution_count": 16,
   "id": "291b724c-9aec-4225-92d3-efa77244af19",
   "metadata": {},
   "outputs": [
    {
     "data": {
      "text/html": [
       "<div>\n",
       "<style scoped>\n",
       "    .dataframe tbody tr th:only-of-type {\n",
       "        vertical-align: middle;\n",
       "    }\n",
       "\n",
       "    .dataframe tbody tr th {\n",
       "        vertical-align: top;\n",
       "    }\n",
       "\n",
       "    .dataframe thead th {\n",
       "        text-align: right;\n",
       "    }\n",
       "</style>\n",
       "<table border=\"1\" class=\"dataframe\">\n",
       "  <thead>\n",
       "    <tr style=\"text-align: right;\">\n",
       "      <th></th>\n",
       "      <th>RowId</th>\n",
       "      <th>Date</th>\n",
       "      <th>SecuritiesCode</th>\n",
       "      <th>Open</th>\n",
       "      <th>High</th>\n",
       "      <th>Low</th>\n",
       "      <th>Close</th>\n",
       "      <th>Volume</th>\n",
       "      <th>AdjustmentFactor</th>\n",
       "      <th>ExpectedDividend</th>\n",
       "      <th>SupervisionFlag</th>\n",
       "      <th>Target</th>\n",
       "    </tr>\n",
       "  </thead>\n",
       "  <tbody>\n",
       "    <tr>\n",
       "      <th>1</th>\n",
       "      <td>20170104_1332</td>\n",
       "      <td>2017-01-04</td>\n",
       "      <td>1332</td>\n",
       "      <td>568.0</td>\n",
       "      <td>576.0</td>\n",
       "      <td>563.0</td>\n",
       "      <td>571.0</td>\n",
       "      <td>2798500</td>\n",
       "      <td>1.0</td>\n",
       "      <td>NaN</td>\n",
       "      <td>False</td>\n",
       "      <td>0.012324</td>\n",
       "    </tr>\n",
       "    <tr>\n",
       "      <th>1866</th>\n",
       "      <td>20170105_1332</td>\n",
       "      <td>2017-01-05</td>\n",
       "      <td>1332</td>\n",
       "      <td>572.0</td>\n",
       "      <td>573.0</td>\n",
       "      <td>565.0</td>\n",
       "      <td>568.0</td>\n",
       "      <td>2162900</td>\n",
       "      <td>1.0</td>\n",
       "      <td>NaN</td>\n",
       "      <td>False</td>\n",
       "      <td>-0.022609</td>\n",
       "    </tr>\n",
       "    <tr>\n",
       "      <th>3731</th>\n",
       "      <td>20170106_1332</td>\n",
       "      <td>2017-01-06</td>\n",
       "      <td>1332</td>\n",
       "      <td>567.0</td>\n",
       "      <td>576.0</td>\n",
       "      <td>563.0</td>\n",
       "      <td>575.0</td>\n",
       "      <td>2125600</td>\n",
       "      <td>1.0</td>\n",
       "      <td>NaN</td>\n",
       "      <td>False</td>\n",
       "      <td>-0.016014</td>\n",
       "    </tr>\n",
       "    <tr>\n",
       "      <th>5596</th>\n",
       "      <td>20170110_1332</td>\n",
       "      <td>2017-01-10</td>\n",
       "      <td>1332</td>\n",
       "      <td>573.0</td>\n",
       "      <td>576.0</td>\n",
       "      <td>561.0</td>\n",
       "      <td>562.0</td>\n",
       "      <td>2744600</td>\n",
       "      <td>1.0</td>\n",
       "      <td>NaN</td>\n",
       "      <td>False</td>\n",
       "      <td>-0.016275</td>\n",
       "    </tr>\n",
       "    <tr>\n",
       "      <th>7461</th>\n",
       "      <td>20170111_1332</td>\n",
       "      <td>2017-01-11</td>\n",
       "      <td>1332</td>\n",
       "      <td>559.0</td>\n",
       "      <td>562.0</td>\n",
       "      <td>551.0</td>\n",
       "      <td>553.0</td>\n",
       "      <td>2231800</td>\n",
       "      <td>1.0</td>\n",
       "      <td>NaN</td>\n",
       "      <td>False</td>\n",
       "      <td>0.016544</td>\n",
       "    </tr>\n",
       "  </tbody>\n",
       "</table>\n",
       "</div>"
      ],
      "text/plain": [
       "              RowId        Date  SecuritiesCode   Open   High    Low  Close  \\\n",
       "1     20170104_1332  2017-01-04            1332  568.0  576.0  563.0  571.0   \n",
       "1866  20170105_1332  2017-01-05            1332  572.0  573.0  565.0  568.0   \n",
       "3731  20170106_1332  2017-01-06            1332  567.0  576.0  563.0  575.0   \n",
       "5596  20170110_1332  2017-01-10            1332  573.0  576.0  561.0  562.0   \n",
       "7461  20170111_1332  2017-01-11            1332  559.0  562.0  551.0  553.0   \n",
       "\n",
       "       Volume  AdjustmentFactor  ExpectedDividend  SupervisionFlag    Target  \n",
       "1     2798500               1.0               NaN            False  0.012324  \n",
       "1866  2162900               1.0               NaN            False -0.022609  \n",
       "3731  2125600               1.0               NaN            False -0.016014  \n",
       "5596  2744600               1.0               NaN            False -0.016275  \n",
       "7461  2231800               1.0               NaN            False  0.016544  "
      ]
     },
     "execution_count": 16,
     "metadata": {},
     "output_type": "execute_result"
    }
   ],
   "source": [
    "train.head()"
   ]
  },
  {
   "cell_type": "code",
   "execution_count": 17,
   "id": "96f7bde5-aa47-47e5-a278-2e73306c9de0",
   "metadata": {},
   "outputs": [
    {
     "data": {
      "text/plain": [
       "(805, 12)"
      ]
     },
     "execution_count": 17,
     "metadata": {},
     "output_type": "execute_result"
    }
   ],
   "source": [
    "train.shape"
   ]
  },
  {
   "cell_type": "markdown",
   "id": "ed0a3355-893a-4e2c-ac85-cb680543d8f8",
   "metadata": {},
   "source": [
    "![](https://skojiangdoc.oss-cn-beijing.aliyuncs.com/2023DL/LSTM/Case/01.png)\n",
    "\n",
    "通过滑窗，我们得到的数据为——\n",
    "\n",
    "![](https://skojiangdoc.oss-cn-beijing.aliyuncs.com/2023DL/LSTM/Case/16.png)\n",
    "\n",
    "在时间序列中，一张二维表构成的训练特征 + 一个标签被称之为是“一个样本”，这个概念与我们在机器学习、甚至深度学习中习惯的“每行一个样本”的改变有所区别，因此在这里特别予以澄清。"
   ]
  },
  {
   "cell_type": "markdown",
   "id": "b59822d9-308d-4949-8119-91354387097a",
   "metadata": {},
   "source": [
    "在单变量数据集上，我们在唯一的列（也就是标签上）滑窗来构建数据集，但在多变量数据集上，我们有多种不同的滑窗方式——"
   ]
  },
  {
   "cell_type": "markdown",
   "id": "77db8b08-82d9-4bf8-8a2d-955a90e6c009",
   "metadata": {},
   "source": [
    "- **特征滑窗**"
   ]
  },
  {
   "cell_type": "markdown",
   "id": "92e94c20-fdb8-4a52-b6fa-d1b54e76bf18",
   "metadata": {},
   "source": [
    "![](https://skojiangdoc.oss-cn-beijing.aliyuncs.com/2023DL/LSTM/Case/02.png)\n",
    "![](https://skojiangdoc.oss-cn-beijing.aliyuncs.com/2023DL/LSTM/Case/03.png)\n",
    "![](https://skojiangdoc.oss-cn-beijing.aliyuncs.com/2023DL/LSTM/Case/04.png)"
   ]
  },
  {
   "cell_type": "markdown",
   "id": "445b83d6-0586-416f-bc41-b75dce9f4bc8",
   "metadata": {},
   "source": [
    "这样最终构建的数据集结构为(batch_size, 5, 5)，其中第一个5是window_size，也就代表一张表单中的time_step时间步步数，第二个5代表5个特征，两个数字都是5纯属巧合。在这种情况下，我们所得到的数据集为：\n",
    "\n",
    "![](https://skojiangdoc.oss-cn-beijing.aliyuncs.com/2023DL/LSTM/Case/17.png)"
   ]
  },
  {
   "cell_type": "markdown",
   "id": "205463ff-b4a4-40c6-80a9-8dd2c5cd4514",
   "metadata": {},
   "source": [
    "这种滑窗方式常见于**标签本身与时间的关系并不大**的情况。与气温、股价这种上个时间点明显会影响下一个时间点的标签不同，某些依据时间进行预测的标签之间并不存在特别强烈的关联。比如，一个用户在1月1日与1月2日的消费金额，我们很难说用户在1月1日有巨额消费，用户在1月2日就更倾向于有消费。有的用户可能因为第一天花光了所有的预算，因此第二天就不再消费，有的用户可能习惯性巨额消费，因此第二天还是巨额消费；有的用户可能没有两天都在购物，因此第二天没有出现消费。这种情况下，1月2日是否有消费其实并不与1月1日是否有消费强关联。\n",
    "\n",
    "还有一些典型的例子，例如，一个网站的日访问量可能受多种因素影响，如营销活动、假日、特殊事件等，而不仅仅是前一天的访问量：\n",
    "\n",
    "> 1月1日：网站因为发布了一篇热门文章而获得高访问量。\n",
    "\n",
    "> 1月2日：尽管前一天访问量高，但没有新内容或特别活动，访问量可能大幅下降。\n",
    "\n",
    "> 1月3日：网站可能因为一个相关话题突然在社交媒体上走红而意外获得巨大访问量，与前两天的访问量无明显直接关联。\n",
    "\n",
    "在这种情况下，简单地依据前一天的访问量来预测下一天的访问量可能不太准确，需要考虑更多外部因素。"
   ]
  },
  {
   "cell_type": "markdown",
   "id": "553e3ea4-9408-453f-8bee-8f391a1043c3",
   "metadata": {},
   "source": [
    "我们可以使用下面的函数来实现这样的滑窗——"
   ]
  },
  {
   "cell_type": "code",
   "execution_count": 18,
   "id": "bd16423d-3324-4041-b160-f2784ff5bfe1",
   "metadata": {},
   "outputs": [
    {
     "data": {
      "text/html": [
       "<div>\n",
       "<style scoped>\n",
       "    .dataframe tbody tr th:only-of-type {\n",
       "        vertical-align: middle;\n",
       "    }\n",
       "\n",
       "    .dataframe tbody tr th {\n",
       "        vertical-align: top;\n",
       "    }\n",
       "\n",
       "    .dataframe thead th {\n",
       "        text-align: right;\n",
       "    }\n",
       "</style>\n",
       "<table border=\"1\" class=\"dataframe\">\n",
       "  <thead>\n",
       "    <tr style=\"text-align: right;\">\n",
       "      <th></th>\n",
       "      <th>RowId</th>\n",
       "      <th>Date</th>\n",
       "      <th>SecuritiesCode</th>\n",
       "      <th>Open</th>\n",
       "      <th>High</th>\n",
       "      <th>Low</th>\n",
       "      <th>Close</th>\n",
       "      <th>Volume</th>\n",
       "      <th>AdjustmentFactor</th>\n",
       "      <th>ExpectedDividend</th>\n",
       "      <th>SupervisionFlag</th>\n",
       "      <th>Target</th>\n",
       "    </tr>\n",
       "  </thead>\n",
       "  <tbody>\n",
       "    <tr>\n",
       "      <th>1</th>\n",
       "      <td>20170104_1332</td>\n",
       "      <td>2017-01-04</td>\n",
       "      <td>1332</td>\n",
       "      <td>568.0</td>\n",
       "      <td>576.0</td>\n",
       "      <td>563.0</td>\n",
       "      <td>571.0</td>\n",
       "      <td>2798500</td>\n",
       "      <td>1.0</td>\n",
       "      <td>NaN</td>\n",
       "      <td>False</td>\n",
       "      <td>0.012324</td>\n",
       "    </tr>\n",
       "    <tr>\n",
       "      <th>1866</th>\n",
       "      <td>20170105_1332</td>\n",
       "      <td>2017-01-05</td>\n",
       "      <td>1332</td>\n",
       "      <td>572.0</td>\n",
       "      <td>573.0</td>\n",
       "      <td>565.0</td>\n",
       "      <td>568.0</td>\n",
       "      <td>2162900</td>\n",
       "      <td>1.0</td>\n",
       "      <td>NaN</td>\n",
       "      <td>False</td>\n",
       "      <td>-0.022609</td>\n",
       "    </tr>\n",
       "    <tr>\n",
       "      <th>3731</th>\n",
       "      <td>20170106_1332</td>\n",
       "      <td>2017-01-06</td>\n",
       "      <td>1332</td>\n",
       "      <td>567.0</td>\n",
       "      <td>576.0</td>\n",
       "      <td>563.0</td>\n",
       "      <td>575.0</td>\n",
       "      <td>2125600</td>\n",
       "      <td>1.0</td>\n",
       "      <td>NaN</td>\n",
       "      <td>False</td>\n",
       "      <td>-0.016014</td>\n",
       "    </tr>\n",
       "    <tr>\n",
       "      <th>5596</th>\n",
       "      <td>20170110_1332</td>\n",
       "      <td>2017-01-10</td>\n",
       "      <td>1332</td>\n",
       "      <td>573.0</td>\n",
       "      <td>576.0</td>\n",
       "      <td>561.0</td>\n",
       "      <td>562.0</td>\n",
       "      <td>2744600</td>\n",
       "      <td>1.0</td>\n",
       "      <td>NaN</td>\n",
       "      <td>False</td>\n",
       "      <td>-0.016275</td>\n",
       "    </tr>\n",
       "    <tr>\n",
       "      <th>7461</th>\n",
       "      <td>20170111_1332</td>\n",
       "      <td>2017-01-11</td>\n",
       "      <td>1332</td>\n",
       "      <td>559.0</td>\n",
       "      <td>562.0</td>\n",
       "      <td>551.0</td>\n",
       "      <td>553.0</td>\n",
       "      <td>2231800</td>\n",
       "      <td>1.0</td>\n",
       "      <td>NaN</td>\n",
       "      <td>False</td>\n",
       "      <td>0.016544</td>\n",
       "    </tr>\n",
       "  </tbody>\n",
       "</table>\n",
       "</div>"
      ],
      "text/plain": [
       "              RowId        Date  SecuritiesCode   Open   High    Low  Close  \\\n",
       "1     20170104_1332  2017-01-04            1332  568.0  576.0  563.0  571.0   \n",
       "1866  20170105_1332  2017-01-05            1332  572.0  573.0  565.0  568.0   \n",
       "3731  20170106_1332  2017-01-06            1332  567.0  576.0  563.0  575.0   \n",
       "5596  20170110_1332  2017-01-10            1332  573.0  576.0  561.0  562.0   \n",
       "7461  20170111_1332  2017-01-11            1332  559.0  562.0  551.0  553.0   \n",
       "\n",
       "       Volume  AdjustmentFactor  ExpectedDividend  SupervisionFlag    Target  \n",
       "1     2798500               1.0               NaN            False  0.012324  \n",
       "1866  2162900               1.0               NaN            False -0.022609  \n",
       "3731  2125600               1.0               NaN            False -0.016014  \n",
       "5596  2744600               1.0               NaN            False -0.016275  \n",
       "7461  2231800               1.0               NaN            False  0.016544  "
      ]
     },
     "execution_count": 18,
     "metadata": {},
     "output_type": "execute_result"
    }
   ],
   "source": [
    "train.head()"
   ]
  },
  {
   "cell_type": "code",
   "execution_count": 19,
   "id": "5c8c67a4-22a6-463c-a01d-5549a0dc5ccf",
   "metadata": {},
   "outputs": [
    {
     "data": {
      "text/plain": [
       "(805, 12)"
      ]
     },
     "execution_count": 19,
     "metadata": {},
     "output_type": "execute_result"
    }
   ],
   "source": [
    "train.shape"
   ]
  },
  {
   "cell_type": "code",
   "execution_count": 20,
   "id": "95a5c487-fc0c-40e9-ad12-b0c4c8b8fe80",
   "metadata": {},
   "outputs": [],
   "source": [
    "train = train.fillna(0)"
   ]
  },
  {
   "cell_type": "code",
   "execution_count": 21,
   "id": "ec34bd5a-a35b-4e77-8830-3864e4e3afa5",
   "metadata": {},
   "outputs": [],
   "source": [
    "import torch\n",
    "import numpy as np\n",
    "\n",
    "def create_multivariate_dataset(dataset, window_size):\n",
    "    \"\"\"\n",
    "    将多变量时间序列转变为能够用于LSTM训练和预测的数据【特征法】\n",
    "    \n",
    "    参数:\n",
    "        dataset: DataFrame，其中包含特征和标签，特征从索引3开始，最后一列是标签\n",
    "        window_size: 滑窗的窗口大小\n",
    "    \"\"\"\n",
    "    X, y = [], []\n",
    "    for i in range(len(dataset) - window_size):\n",
    "        # 使用.values将Pandas DataFrame的切片转换为NumPy数组\n",
    "        feature = dataset.iloc[i:i + window_size, 3:-1].values  # 转换为NumPy数组\n",
    "        target = dataset.iloc[i + window_size - 1, -1]  # 目标值保持为标量即可\n",
    "        X.append(feature)\n",
    "        y.append(target)\n",
    "    # 直接使用np.array转换列表为NumPy数组，并指定dtype确保数组类型正确\n",
    "    return torch.FloatTensor(np.array(X, dtype=np.float32)), torch.FloatTensor(np.array(y, dtype=np.float32))"
   ]
  },
  {
   "cell_type": "code",
   "execution_count": 22,
   "id": "c57c1e94-18a5-45b1-8465-187045e14b88",
   "metadata": {},
   "outputs": [],
   "source": [
    "X_train, y_train = create_multivariate_dataset(train, 2)"
   ]
  },
  {
   "cell_type": "code",
   "execution_count": 23,
   "id": "d200da33-0a69-44f5-9abf-ed492fb76639",
   "metadata": {},
   "outputs": [
    {
     "data": {
      "text/plain": [
       "tensor([[[5.6800e+02, 5.7600e+02, 5.6300e+02, 5.7100e+02, 2.7985e+06,\n",
       "          1.0000e+00, 0.0000e+00, 0.0000e+00],\n",
       "         [5.7200e+02, 5.7300e+02, 5.6500e+02, 5.6800e+02, 2.1629e+06,\n",
       "          1.0000e+00, 0.0000e+00, 0.0000e+00]],\n",
       "\n",
       "        [[5.7200e+02, 5.7300e+02, 5.6500e+02, 5.6800e+02, 2.1629e+06,\n",
       "          1.0000e+00, 0.0000e+00, 0.0000e+00],\n",
       "         [5.6700e+02, 5.7600e+02, 5.6300e+02, 5.7500e+02, 2.1256e+06,\n",
       "          1.0000e+00, 0.0000e+00, 0.0000e+00]],\n",
       "\n",
       "        [[5.6700e+02, 5.7600e+02, 5.6300e+02, 5.7500e+02, 2.1256e+06,\n",
       "          1.0000e+00, 0.0000e+00, 0.0000e+00],\n",
       "         [5.7300e+02, 5.7600e+02, 5.6100e+02, 5.6200e+02, 2.7446e+06,\n",
       "          1.0000e+00, 0.0000e+00, 0.0000e+00]],\n",
       "\n",
       "        [[5.7300e+02, 5.7600e+02, 5.6100e+02, 5.6200e+02, 2.7446e+06,\n",
       "          1.0000e+00, 0.0000e+00, 0.0000e+00],\n",
       "         [5.5900e+02, 5.6200e+02, 5.5100e+02, 5.5300e+02, 2.2318e+06,\n",
       "          1.0000e+00, 0.0000e+00, 0.0000e+00]],\n",
       "\n",
       "        [[5.5900e+02, 5.6200e+02, 5.5100e+02, 5.5300e+02, 2.2318e+06,\n",
       "          1.0000e+00, 0.0000e+00, 0.0000e+00],\n",
       "         [5.5300e+02, 5.5600e+02, 5.4300e+02, 5.4400e+02, 2.5797e+06,\n",
       "          1.0000e+00, 0.0000e+00, 0.0000e+00]]])"
      ]
     },
     "execution_count": 23,
     "metadata": {},
     "output_type": "execute_result"
    }
   ],
   "source": [
    "X_train[:5]"
   ]
  },
  {
   "cell_type": "code",
   "execution_count": 24,
   "id": "fb285abe-e72e-4a09-862b-62f4cb1e6f85",
   "metadata": {},
   "outputs": [
    {
     "data": {
      "text/plain": [
       "torch.Size([803, 2, 8])"
      ]
     },
     "execution_count": 24,
     "metadata": {},
     "output_type": "execute_result"
    }
   ],
   "source": [
    "X_train.shape"
   ]
  },
  {
   "cell_type": "code",
   "execution_count": 25,
   "id": "592fa7ff-c082-4917-8734-b6c513f85157",
   "metadata": {},
   "outputs": [
    {
     "data": {
      "text/plain": [
       "tensor([-0.0226, -0.0160, -0.0163,  0.0165, -0.0271, -0.0335,  0.0327,  0.0317,\n",
       "        -0.0162, -0.0183])"
      ]
     },
     "execution_count": 25,
     "metadata": {},
     "output_type": "execute_result"
    }
   ],
   "source": [
    "y_train[:10]"
   ]
  },
  {
   "cell_type": "markdown",
   "id": "63db2bf3-64b6-41aa-b4cc-15c8bff286bd",
   "metadata": {},
   "source": [
    "- **带标签的滑窗**"
   ]
  },
  {
   "cell_type": "markdown",
   "id": "67f42f5c-17b2-4a9b-b02c-30e15c67d007",
   "metadata": {},
   "source": [
    "![](https://skojiangdoc.oss-cn-beijing.aliyuncs.com/2023DL/LSTM/Case/05.png)\n",
    "![](https://skojiangdoc.oss-cn-beijing.aliyuncs.com/2023DL/LSTM/Case/06.png)"
   ]
  },
  {
   "cell_type": "markdown",
   "id": "4c7e602c-e79d-409c-b935-72b8ee10d125",
   "metadata": {},
   "source": [
    "这种滑窗方式适应于除了特征之外，标签之间也随着时间互相影响的数据集。我们可以使用下面的函数来实现这样的滑窗——"
   ]
  },
  {
   "cell_type": "code",
   "execution_count": 26,
   "id": "44c43690-2851-4232-af69-d82dab4b9b5a",
   "metadata": {},
   "outputs": [],
   "source": [
    "import torch\n",
    "import numpy as np\n",
    "\n",
    "def create_multivariate_dataset_2(dataset, window_size):\n",
    "    \"\"\"\n",
    "    将多变量时间序列转变为能够用于训练和预测的数据【带标签的滑窗】\n",
    "    \n",
    "    参数:\n",
    "        dataset: DataFrame，其中包含特征和标签，特征从索引3开始，最后一列是标签\n",
    "        window_size: 滑窗的窗口大小\n",
    "    \"\"\"\n",
    "    X, y = [], []\n",
    "    for i in range(len(dataset) - window_size):\n",
    "        # 选取从第4列到最后一列的特征和标签\n",
    "        feature_and_label = dataset.iloc[i:i + window_size, 3:].values  # 包括标签在内的特征\n",
    "        # 下一个时间点的标签作为目标\n",
    "        target = dataset.iloc[i + window_size, -1]  # 使用下一个时间点的标签作为预测目标\n",
    "        X.append(feature_and_label)\n",
    "        y.append(target)\n",
    "    return torch.FloatTensor(np.array(X, dtype=np.float32)), torch.FloatTensor(np.array(y, dtype=np.float32))"
   ]
  },
  {
   "cell_type": "code",
   "execution_count": 27,
   "id": "63dde84d-bc4e-4bdf-b415-f3ef297398f9",
   "metadata": {},
   "outputs": [
    {
     "data": {
      "text/html": [
       "<div>\n",
       "<style scoped>\n",
       "    .dataframe tbody tr th:only-of-type {\n",
       "        vertical-align: middle;\n",
       "    }\n",
       "\n",
       "    .dataframe tbody tr th {\n",
       "        vertical-align: top;\n",
       "    }\n",
       "\n",
       "    .dataframe thead th {\n",
       "        text-align: right;\n",
       "    }\n",
       "</style>\n",
       "<table border=\"1\" class=\"dataframe\">\n",
       "  <thead>\n",
       "    <tr style=\"text-align: right;\">\n",
       "      <th></th>\n",
       "      <th>RowId</th>\n",
       "      <th>Date</th>\n",
       "      <th>SecuritiesCode</th>\n",
       "      <th>Open</th>\n",
       "      <th>High</th>\n",
       "      <th>Low</th>\n",
       "      <th>Close</th>\n",
       "      <th>Volume</th>\n",
       "      <th>AdjustmentFactor</th>\n",
       "      <th>ExpectedDividend</th>\n",
       "      <th>SupervisionFlag</th>\n",
       "      <th>Target</th>\n",
       "    </tr>\n",
       "  </thead>\n",
       "  <tbody>\n",
       "    <tr>\n",
       "      <th>1</th>\n",
       "      <td>20170104_1332</td>\n",
       "      <td>2017-01-04</td>\n",
       "      <td>1332</td>\n",
       "      <td>568.0</td>\n",
       "      <td>576.0</td>\n",
       "      <td>563.0</td>\n",
       "      <td>571.0</td>\n",
       "      <td>2798500</td>\n",
       "      <td>1.0</td>\n",
       "      <td>0.0</td>\n",
       "      <td>False</td>\n",
       "      <td>0.012324</td>\n",
       "    </tr>\n",
       "    <tr>\n",
       "      <th>1866</th>\n",
       "      <td>20170105_1332</td>\n",
       "      <td>2017-01-05</td>\n",
       "      <td>1332</td>\n",
       "      <td>572.0</td>\n",
       "      <td>573.0</td>\n",
       "      <td>565.0</td>\n",
       "      <td>568.0</td>\n",
       "      <td>2162900</td>\n",
       "      <td>1.0</td>\n",
       "      <td>0.0</td>\n",
       "      <td>False</td>\n",
       "      <td>-0.022609</td>\n",
       "    </tr>\n",
       "    <tr>\n",
       "      <th>3731</th>\n",
       "      <td>20170106_1332</td>\n",
       "      <td>2017-01-06</td>\n",
       "      <td>1332</td>\n",
       "      <td>567.0</td>\n",
       "      <td>576.0</td>\n",
       "      <td>563.0</td>\n",
       "      <td>575.0</td>\n",
       "      <td>2125600</td>\n",
       "      <td>1.0</td>\n",
       "      <td>0.0</td>\n",
       "      <td>False</td>\n",
       "      <td>-0.016014</td>\n",
       "    </tr>\n",
       "    <tr>\n",
       "      <th>5596</th>\n",
       "      <td>20170110_1332</td>\n",
       "      <td>2017-01-10</td>\n",
       "      <td>1332</td>\n",
       "      <td>573.0</td>\n",
       "      <td>576.0</td>\n",
       "      <td>561.0</td>\n",
       "      <td>562.0</td>\n",
       "      <td>2744600</td>\n",
       "      <td>1.0</td>\n",
       "      <td>0.0</td>\n",
       "      <td>False</td>\n",
       "      <td>-0.016275</td>\n",
       "    </tr>\n",
       "    <tr>\n",
       "      <th>7461</th>\n",
       "      <td>20170111_1332</td>\n",
       "      <td>2017-01-11</td>\n",
       "      <td>1332</td>\n",
       "      <td>559.0</td>\n",
       "      <td>562.0</td>\n",
       "      <td>551.0</td>\n",
       "      <td>553.0</td>\n",
       "      <td>2231800</td>\n",
       "      <td>1.0</td>\n",
       "      <td>0.0</td>\n",
       "      <td>False</td>\n",
       "      <td>0.016544</td>\n",
       "    </tr>\n",
       "  </tbody>\n",
       "</table>\n",
       "</div>"
      ],
      "text/plain": [
       "              RowId        Date  SecuritiesCode   Open   High    Low  Close  \\\n",
       "1     20170104_1332  2017-01-04            1332  568.0  576.0  563.0  571.0   \n",
       "1866  20170105_1332  2017-01-05            1332  572.0  573.0  565.0  568.0   \n",
       "3731  20170106_1332  2017-01-06            1332  567.0  576.0  563.0  575.0   \n",
       "5596  20170110_1332  2017-01-10            1332  573.0  576.0  561.0  562.0   \n",
       "7461  20170111_1332  2017-01-11            1332  559.0  562.0  551.0  553.0   \n",
       "\n",
       "       Volume  AdjustmentFactor  ExpectedDividend  SupervisionFlag    Target  \n",
       "1     2798500               1.0               0.0            False  0.012324  \n",
       "1866  2162900               1.0               0.0            False -0.022609  \n",
       "3731  2125600               1.0               0.0            False -0.016014  \n",
       "5596  2744600               1.0               0.0            False -0.016275  \n",
       "7461  2231800               1.0               0.0            False  0.016544  "
      ]
     },
     "execution_count": 27,
     "metadata": {},
     "output_type": "execute_result"
    }
   ],
   "source": [
    "train.head()"
   ]
  },
  {
   "cell_type": "code",
   "execution_count": 28,
   "id": "daa71677-1937-4123-982b-dc51d81f2590",
   "metadata": {},
   "outputs": [],
   "source": [
    "X_train_2, y_train_2 = create_multivariate_dataset_2(train, 2)"
   ]
  },
  {
   "cell_type": "code",
   "execution_count": 29,
   "id": "abe550cf-3bea-4e55-82b5-5263e319d21c",
   "metadata": {},
   "outputs": [
    {
     "data": {
      "text/plain": [
       "torch.Size([803, 2, 9])"
      ]
     },
     "execution_count": 29,
     "metadata": {},
     "output_type": "execute_result"
    }
   ],
   "source": [
    "X_train_2.shape"
   ]
  },
  {
   "cell_type": "code",
   "execution_count": 30,
   "id": "559e6140-5916-4d43-b40d-1b9c49f15512",
   "metadata": {},
   "outputs": [
    {
     "data": {
      "text/plain": [
       "torch.Size([803, 2, 8])"
      ]
     },
     "execution_count": 30,
     "metadata": {},
     "output_type": "execute_result"
    }
   ],
   "source": [
    "X_train.shape"
   ]
  },
  {
   "cell_type": "code",
   "execution_count": 31,
   "id": "43250f78-f58e-4367-aa38-ee350f3f0d4d",
   "metadata": {},
   "outputs": [
    {
     "data": {
      "text/plain": [
       "tensor([[[ 5.6800e+02,  5.7600e+02,  5.6300e+02,  5.7100e+02,  2.7985e+06,\n",
       "           1.0000e+00,  0.0000e+00,  0.0000e+00,  1.2324e-02],\n",
       "         [ 5.7200e+02,  5.7300e+02,  5.6500e+02,  5.6800e+02,  2.1629e+06,\n",
       "           1.0000e+00,  0.0000e+00,  0.0000e+00, -2.2609e-02]],\n",
       "\n",
       "        [[ 5.7200e+02,  5.7300e+02,  5.6500e+02,  5.6800e+02,  2.1629e+06,\n",
       "           1.0000e+00,  0.0000e+00,  0.0000e+00, -2.2609e-02],\n",
       "         [ 5.6700e+02,  5.7600e+02,  5.6300e+02,  5.7500e+02,  2.1256e+06,\n",
       "           1.0000e+00,  0.0000e+00,  0.0000e+00, -1.6014e-02]],\n",
       "\n",
       "        [[ 5.6700e+02,  5.7600e+02,  5.6300e+02,  5.7500e+02,  2.1256e+06,\n",
       "           1.0000e+00,  0.0000e+00,  0.0000e+00, -1.6014e-02],\n",
       "         [ 5.7300e+02,  5.7600e+02,  5.6100e+02,  5.6200e+02,  2.7446e+06,\n",
       "           1.0000e+00,  0.0000e+00,  0.0000e+00, -1.6275e-02]],\n",
       "\n",
       "        [[ 5.7300e+02,  5.7600e+02,  5.6100e+02,  5.6200e+02,  2.7446e+06,\n",
       "           1.0000e+00,  0.0000e+00,  0.0000e+00, -1.6275e-02],\n",
       "         [ 5.5900e+02,  5.6200e+02,  5.5100e+02,  5.5300e+02,  2.2318e+06,\n",
       "           1.0000e+00,  0.0000e+00,  0.0000e+00,  1.6544e-02]],\n",
       "\n",
       "        [[ 5.5900e+02,  5.6200e+02,  5.5100e+02,  5.5300e+02,  2.2318e+06,\n",
       "           1.0000e+00,  0.0000e+00,  0.0000e+00,  1.6544e-02],\n",
       "         [ 5.5300e+02,  5.5600e+02,  5.4300e+02,  5.4400e+02,  2.5797e+06,\n",
       "           1.0000e+00,  0.0000e+00,  0.0000e+00, -2.7125e-02]]])"
      ]
     },
     "execution_count": 31,
     "metadata": {},
     "output_type": "execute_result"
    }
   ],
   "source": [
    "X_train_2[:5]"
   ]
  },
  {
   "cell_type": "code",
   "execution_count": 32,
   "id": "76b971f0-220c-4a91-8a7d-1e71a0b647a6",
   "metadata": {},
   "outputs": [
    {
     "data": {
      "text/plain": [
       "tensor([-0.0160, -0.0163,  0.0165, -0.0271, -0.0335,  0.0327,  0.0317, -0.0162,\n",
       "        -0.0183,  0.0075,  0.0148,  0.0128,  0.0162,  0.0071, -0.0194, -0.0144,\n",
       "        -0.0128,  0.0092,  0.0861, -0.0067, -0.0170, -0.0086, -0.0017,  0.0175,\n",
       "        -0.0206,  0.0088, -0.0156,  0.0035, -0.0123,  0.0000,  0.0214, -0.0087,\n",
       "        -0.0193,  0.0072,  0.0107, -0.0123,  0.0107,  0.0000, -0.0229, -0.0108,\n",
       "        -0.0036,  0.0037,  0.0237,  0.0071,  0.0195, -0.0104,  0.0018,  0.0000,\n",
       "        -0.0053, -0.0035,  0.0071,  0.0105, -0.0139,  0.0158,  0.0087, -0.0275,\n",
       "        -0.0194,  0.0072, -0.0286, -0.0055, -0.0241, -0.0019,  0.0019,  0.0019,\n",
       "         0.0000,  0.0152, -0.0131,  0.0151, -0.0391,  0.0078, -0.0096,  0.0039,\n",
       "         0.0193,  0.0057,  0.0057,  0.0169, -0.0092,  0.0093,  0.0018,  0.0276,\n",
       "         0.0018,  0.0036, -0.0107, -0.0270,  0.1000, -0.0017, -0.0152,  0.0017,\n",
       "        -0.0085,  0.0121,  0.0085,  0.0101,  0.0050, -0.0233, -0.0085, -0.0052,\n",
       "        -0.0017,  0.0225,  0.0051, -0.0101])"
      ]
     },
     "execution_count": 32,
     "metadata": {},
     "output_type": "execute_result"
    }
   ],
   "source": [
    "y_train_2[:100]"
   ]
  },
  {
   "cell_type": "markdown",
   "id": "7ab45e3a-b7a6-4753-b0f1-1d2ba6014b06",
   "metadata": {},
   "source": [
    "相比只拥有特征的滑窗方式，携带标签的滑窗方式在很多场景下会给与算法更好的表现，这是因为——\n",
    "> - **增加信息量**：通过将之前时间点的标签纳入到当前窗口的输入中，模型可以利用更多的上下文信息进行预测。这种方式可以提供更丰富的序列信息，可能有助于模型捕捉到更复杂的时间序列依赖关系。\n",
    "\n",
    "> - **改善序列预测**：在某些情况下，特别是当连续的标签之间存在一定的序列相关性时，使用之前的标签作为额外的特征可以提高预测的准确性。\n",
    "\n",
    "> - **增强模型的泛化能力**：通过学习如何将过去的标签和当前的特征结合起来进行预测，模型可能更好地理解序列数据的内在规律，从而在遇到新的、未见过的序列时表现得更好。\n",
    "\n",
    "但是这种滑窗方式也会带来相应的问题——\n",
    "\n",
    "> - **过拟合的风险**：更复杂的模型和更多的输入特征可能会增加过拟合的风险，尤其是在数据较少的情况下。需要适当的正则化策略和模型评估方法来避免这一问题。\n",
    "\n",
    "> - **可能的数据泄露**：如果在预测时无法获取之前时间点的真实标签（例如，在实时预测或未来预测中），这种方法可能不适用。此外，如果不小心处理，使用未来数据（即“未来泄露”）可能会导致预测结果过于乐观。\n",
    "\n",
    "> - **实施复杂性**：需要在数据预处理阶段更加小心地处理数据，确保每个窗口中包含正确的特征和标签，且在实际预测时能够符合模型的输入要求。\n",
    "\n",
    "总的来说，这种滑窗方式可以为模型提供更多的上下文信息，可能有助于改善预测性能，但同时也带来了更高的模型复杂度和过拟合的风险。在实际应用中，是否采用这种方法应根据具体任务的需求、数据的可用性以及模型的性能进行权衡和决策。"
   ]
  },
  {
   "cell_type": "markdown",
   "id": "1ced16eb-f68f-4f7c-b9a5-881ddae01edd",
   "metadata": {},
   "source": [
    "- **特征标签共用的滑窗**"
   ]
  },
  {
   "cell_type": "markdown",
   "id": "fd2701e5-27f8-4878-a07a-2867e1f05432",
   "metadata": {},
   "source": [
    "还有第三种信息更为全面的滑窗方式——"
   ]
  },
  {
   "cell_type": "markdown",
   "id": "e4e11ecd-2d0a-4194-a4f5-612261c6a123",
   "metadata": {},
   "source": [
    "![](https://skojiangdoc.oss-cn-beijing.aliyuncs.com/2023DL/LSTM/Case/07.png)\n",
    "![](https://skojiangdoc.oss-cn-beijing.aliyuncs.com/2023DL/LSTM/Case/08.png)"
   ]
  },
  {
   "cell_type": "code",
   "execution_count": 33,
   "id": "7ea4d205-5ee1-47fb-8b53-019b33cdab7d",
   "metadata": {},
   "outputs": [],
   "source": [
    "import torch\n",
    "import numpy as np\n",
    "\n",
    "def create_multivariate_dataset_3(dataset, window_size):\n",
    "    \"\"\"\n",
    "    将多变量时间序列转变为能够用于训练和预测的数据\n",
    "    \n",
    "    参数:\n",
    "        dataset: DataFrame，其中包含特征和标签，特征从索引3开始，最后一列是标签\n",
    "        window_size: 滑窗的窗口大小\n",
    "    \"\"\"\n",
    "    X, y = [], []\n",
    "    for i in range(len(dataset) - window_size):\n",
    "        # 选取从第4列到最后一列的特征和标签\n",
    "        feature_and_label = dataset.iloc[i:i + window_size, 3:].copy().values  # 包括标签在内的特征\n",
    "        # 下一个时间点的标签作为目标\n",
    "        target = dataset.iloc[i + window_size - 1, -1]  # 使用窗口内最后一个时间点的标签作为预测目标\n",
    "        # 将窗口内最后一个时间点的标签替换为-999\n",
    "        feature_and_label[-1, -1] = -999\n",
    "        X.append(feature_and_label)\n",
    "        y.append(target)\n",
    "    return torch.FloatTensor(np.array(X, dtype=np.float32)), torch.FloatTensor(np.array(y, dtype=np.float32))"
   ]
  },
  {
   "cell_type": "code",
   "execution_count": 34,
   "id": "6823deff-35b0-499b-a1c7-847aa630ea7b",
   "metadata": {},
   "outputs": [
    {
     "data": {
      "text/html": [
       "<div>\n",
       "<style scoped>\n",
       "    .dataframe tbody tr th:only-of-type {\n",
       "        vertical-align: middle;\n",
       "    }\n",
       "\n",
       "    .dataframe tbody tr th {\n",
       "        vertical-align: top;\n",
       "    }\n",
       "\n",
       "    .dataframe thead th {\n",
       "        text-align: right;\n",
       "    }\n",
       "</style>\n",
       "<table border=\"1\" class=\"dataframe\">\n",
       "  <thead>\n",
       "    <tr style=\"text-align: right;\">\n",
       "      <th></th>\n",
       "      <th>RowId</th>\n",
       "      <th>Date</th>\n",
       "      <th>SecuritiesCode</th>\n",
       "      <th>Open</th>\n",
       "      <th>High</th>\n",
       "      <th>Low</th>\n",
       "      <th>Close</th>\n",
       "      <th>Volume</th>\n",
       "      <th>AdjustmentFactor</th>\n",
       "      <th>ExpectedDividend</th>\n",
       "      <th>SupervisionFlag</th>\n",
       "      <th>Target</th>\n",
       "    </tr>\n",
       "  </thead>\n",
       "  <tbody>\n",
       "    <tr>\n",
       "      <th>1</th>\n",
       "      <td>20170104_1332</td>\n",
       "      <td>2017-01-04</td>\n",
       "      <td>1332</td>\n",
       "      <td>568.0</td>\n",
       "      <td>576.0</td>\n",
       "      <td>563.0</td>\n",
       "      <td>571.0</td>\n",
       "      <td>2798500</td>\n",
       "      <td>1.0</td>\n",
       "      <td>0.0</td>\n",
       "      <td>False</td>\n",
       "      <td>0.012324</td>\n",
       "    </tr>\n",
       "    <tr>\n",
       "      <th>1866</th>\n",
       "      <td>20170105_1332</td>\n",
       "      <td>2017-01-05</td>\n",
       "      <td>1332</td>\n",
       "      <td>572.0</td>\n",
       "      <td>573.0</td>\n",
       "      <td>565.0</td>\n",
       "      <td>568.0</td>\n",
       "      <td>2162900</td>\n",
       "      <td>1.0</td>\n",
       "      <td>0.0</td>\n",
       "      <td>False</td>\n",
       "      <td>-0.022609</td>\n",
       "    </tr>\n",
       "    <tr>\n",
       "      <th>3731</th>\n",
       "      <td>20170106_1332</td>\n",
       "      <td>2017-01-06</td>\n",
       "      <td>1332</td>\n",
       "      <td>567.0</td>\n",
       "      <td>576.0</td>\n",
       "      <td>563.0</td>\n",
       "      <td>575.0</td>\n",
       "      <td>2125600</td>\n",
       "      <td>1.0</td>\n",
       "      <td>0.0</td>\n",
       "      <td>False</td>\n",
       "      <td>-0.016014</td>\n",
       "    </tr>\n",
       "    <tr>\n",
       "      <th>5596</th>\n",
       "      <td>20170110_1332</td>\n",
       "      <td>2017-01-10</td>\n",
       "      <td>1332</td>\n",
       "      <td>573.0</td>\n",
       "      <td>576.0</td>\n",
       "      <td>561.0</td>\n",
       "      <td>562.0</td>\n",
       "      <td>2744600</td>\n",
       "      <td>1.0</td>\n",
       "      <td>0.0</td>\n",
       "      <td>False</td>\n",
       "      <td>-0.016275</td>\n",
       "    </tr>\n",
       "    <tr>\n",
       "      <th>7461</th>\n",
       "      <td>20170111_1332</td>\n",
       "      <td>2017-01-11</td>\n",
       "      <td>1332</td>\n",
       "      <td>559.0</td>\n",
       "      <td>562.0</td>\n",
       "      <td>551.0</td>\n",
       "      <td>553.0</td>\n",
       "      <td>2231800</td>\n",
       "      <td>1.0</td>\n",
       "      <td>0.0</td>\n",
       "      <td>False</td>\n",
       "      <td>0.016544</td>\n",
       "    </tr>\n",
       "  </tbody>\n",
       "</table>\n",
       "</div>"
      ],
      "text/plain": [
       "              RowId        Date  SecuritiesCode   Open   High    Low  Close  \\\n",
       "1     20170104_1332  2017-01-04            1332  568.0  576.0  563.0  571.0   \n",
       "1866  20170105_1332  2017-01-05            1332  572.0  573.0  565.0  568.0   \n",
       "3731  20170106_1332  2017-01-06            1332  567.0  576.0  563.0  575.0   \n",
       "5596  20170110_1332  2017-01-10            1332  573.0  576.0  561.0  562.0   \n",
       "7461  20170111_1332  2017-01-11            1332  559.0  562.0  551.0  553.0   \n",
       "\n",
       "       Volume  AdjustmentFactor  ExpectedDividend  SupervisionFlag    Target  \n",
       "1     2798500               1.0               0.0            False  0.012324  \n",
       "1866  2162900               1.0               0.0            False -0.022609  \n",
       "3731  2125600               1.0               0.0            False -0.016014  \n",
       "5596  2744600               1.0               0.0            False -0.016275  \n",
       "7461  2231800               1.0               0.0            False  0.016544  "
      ]
     },
     "execution_count": 34,
     "metadata": {},
     "output_type": "execute_result"
    }
   ],
   "source": [
    "train.head()"
   ]
  },
  {
   "cell_type": "code",
   "execution_count": 35,
   "id": "bf6642e5-bfec-4bcc-bdac-af97d58abf6b",
   "metadata": {},
   "outputs": [],
   "source": [
    "X_train_3, y_train_3 = create_multivariate_dataset_3(train, 3)"
   ]
  },
  {
   "cell_type": "code",
   "execution_count": 36,
   "id": "8d7fd5c6-ece7-44c1-b35a-decbe0f6141b",
   "metadata": {},
   "outputs": [
    {
     "data": {
      "text/plain": [
       "torch.Size([802, 3, 9])"
      ]
     },
     "execution_count": 36,
     "metadata": {},
     "output_type": "execute_result"
    }
   ],
   "source": [
    "X_train_3.shape"
   ]
  },
  {
   "cell_type": "code",
   "execution_count": 37,
   "id": "bb8f963d-f507-4dfa-a2c5-91927247036f",
   "metadata": {},
   "outputs": [
    {
     "data": {
      "text/plain": [
       "torch.Size([803, 2, 8])"
      ]
     },
     "execution_count": 37,
     "metadata": {},
     "output_type": "execute_result"
    }
   ],
   "source": [
    "X_train.shape"
   ]
  },
  {
   "cell_type": "code",
   "execution_count": 56,
   "id": "e1b33206-5acb-47fb-b781-ac8ad536cbd1",
   "metadata": {},
   "outputs": [
    {
     "data": {
      "text/plain": [
       "tensor([[ 5.6800e+02,  5.7600e+02,  5.6300e+02,  5.7100e+02,  2.7985e+06,\n",
       "          1.0000e+00,  0.0000e+00,  0.0000e+00,  1.2324e-02],\n",
       "        [ 5.7200e+02,  5.7300e+02,  5.6500e+02,  5.6800e+02,  2.1629e+06,\n",
       "          1.0000e+00,  0.0000e+00,  0.0000e+00, -2.2609e-02],\n",
       "        [ 5.6700e+02,  5.7600e+02,  5.6300e+02,  5.7500e+02,  2.1256e+06,\n",
       "          1.0000e+00,  0.0000e+00,  0.0000e+00, -9.9900e+02]])"
      ]
     },
     "execution_count": 56,
     "metadata": {},
     "output_type": "execute_result"
    }
   ],
   "source": [
    "X_train_3[0] #最后右下角的格子是-999"
   ]
  },
  {
   "cell_type": "code",
   "execution_count": 39,
   "id": "d71782b4-d29b-455b-aa3f-cab42df69d0e",
   "metadata": {},
   "outputs": [
    {
     "data": {
      "text/plain": [
       "tensor([-0.0160, -0.0163,  0.0165, -0.0271, -0.0335,  0.0327,  0.0317, -0.0162,\n",
       "        -0.0183,  0.0075,  0.0148,  0.0128,  0.0162,  0.0071, -0.0194, -0.0144,\n",
       "        -0.0128,  0.0092,  0.0861, -0.0067, -0.0170, -0.0086, -0.0017,  0.0175,\n",
       "        -0.0206,  0.0088, -0.0156,  0.0035, -0.0123,  0.0000,  0.0214, -0.0087,\n",
       "        -0.0193,  0.0072,  0.0107, -0.0123,  0.0107,  0.0000, -0.0229, -0.0108,\n",
       "        -0.0036,  0.0037,  0.0237,  0.0071,  0.0195, -0.0104,  0.0018,  0.0000,\n",
       "        -0.0053, -0.0035,  0.0071,  0.0105, -0.0139,  0.0158,  0.0087, -0.0275,\n",
       "        -0.0194,  0.0072, -0.0286, -0.0055, -0.0241, -0.0019,  0.0019,  0.0019,\n",
       "         0.0000,  0.0152, -0.0131,  0.0151, -0.0391,  0.0078, -0.0096,  0.0039,\n",
       "         0.0193,  0.0057,  0.0057,  0.0169, -0.0092,  0.0093,  0.0018,  0.0276,\n",
       "         0.0018,  0.0036, -0.0107, -0.0270,  0.1000, -0.0017, -0.0152,  0.0017,\n",
       "        -0.0085,  0.0121,  0.0085,  0.0101,  0.0050, -0.0233, -0.0085, -0.0052,\n",
       "        -0.0017,  0.0225,  0.0051, -0.0101])"
      ]
     },
     "execution_count": 39,
     "metadata": {},
     "output_type": "execute_result"
    }
   ],
   "source": [
    "y_train_3[:100]"
   ]
  },
  {
   "cell_type": "markdown",
   "id": "a7e2177b-77ca-4393-8ae3-bc18129d94a7",
   "metadata": {},
   "source": [
    "这种滑窗方式尽可能携带了最多的信息，但并不是最为常见或常用的滑窗方式，这是因为——\n",
    "\n",
    "- **特殊值的选择**：需要谨慎选择特殊值以避免与数据集中的实际值冲突。如果选取的特殊值与数据集中可能出现的值相近，可能会引入误导信息。\n",
    "\n",
    "- **模型处理能力**：模型需要能够正确处理特殊值，不让这个值影响到模型的预测能力。这可能需要对模型进行特定的设计或预处理步骤，确保模型不会被特殊值误导。"
   ]
  },
  {
   "cell_type": "markdown",
   "id": "0f381000-ebdd-4811-9d15-203c68e65666",
   "metadata": {},
   "source": [
    "#### 1.5.2.3 面板数据的重组流程"
   ]
  },
  {
   "cell_type": "markdown",
   "id": "d3193bab-75f2-4d24-81a8-9113a49ec13e",
   "metadata": {},
   "source": [
    "![](https://skojiangdoc.oss-cn-beijing.aliyuncs.com/2023DL/LSTM/Case/09.png)"
   ]
  },
  {
   "cell_type": "code",
   "execution_count": 40,
   "id": "ba855095-7dbf-4b55-9e8c-3f14bdb52b2f",
   "metadata": {},
   "outputs": [
    {
     "data": {
      "text/html": [
       "<div>\n",
       "<style scoped>\n",
       "    .dataframe tbody tr th:only-of-type {\n",
       "        vertical-align: middle;\n",
       "    }\n",
       "\n",
       "    .dataframe tbody tr th {\n",
       "        vertical-align: top;\n",
       "    }\n",
       "\n",
       "    .dataframe thead th {\n",
       "        text-align: right;\n",
       "    }\n",
       "</style>\n",
       "<table border=\"1\" class=\"dataframe\">\n",
       "  <thead>\n",
       "    <tr style=\"text-align: right;\">\n",
       "      <th></th>\n",
       "      <th>RowId</th>\n",
       "      <th>Date</th>\n",
       "      <th>SecuritiesCode</th>\n",
       "      <th>Open</th>\n",
       "      <th>High</th>\n",
       "      <th>Low</th>\n",
       "      <th>Close</th>\n",
       "      <th>Volume</th>\n",
       "      <th>AdjustmentFactor</th>\n",
       "      <th>ExpectedDividend</th>\n",
       "      <th>SupervisionFlag</th>\n",
       "      <th>Target</th>\n",
       "    </tr>\n",
       "  </thead>\n",
       "  <tbody>\n",
       "    <tr>\n",
       "      <th>0</th>\n",
       "      <td>20170104_1301</td>\n",
       "      <td>2017-01-04</td>\n",
       "      <td>1301</td>\n",
       "      <td>2734.0</td>\n",
       "      <td>2755.0</td>\n",
       "      <td>2730.0</td>\n",
       "      <td>2742.0</td>\n",
       "      <td>31400</td>\n",
       "      <td>1.0</td>\n",
       "      <td>NaN</td>\n",
       "      <td>False</td>\n",
       "      <td>0.000730</td>\n",
       "    </tr>\n",
       "    <tr>\n",
       "      <th>1</th>\n",
       "      <td>20170104_1332</td>\n",
       "      <td>2017-01-04</td>\n",
       "      <td>1332</td>\n",
       "      <td>568.0</td>\n",
       "      <td>576.0</td>\n",
       "      <td>563.0</td>\n",
       "      <td>571.0</td>\n",
       "      <td>2798500</td>\n",
       "      <td>1.0</td>\n",
       "      <td>NaN</td>\n",
       "      <td>False</td>\n",
       "      <td>0.012324</td>\n",
       "    </tr>\n",
       "    <tr>\n",
       "      <th>2</th>\n",
       "      <td>20170104_1333</td>\n",
       "      <td>2017-01-04</td>\n",
       "      <td>1333</td>\n",
       "      <td>3150.0</td>\n",
       "      <td>3210.0</td>\n",
       "      <td>3140.0</td>\n",
       "      <td>3210.0</td>\n",
       "      <td>270800</td>\n",
       "      <td>1.0</td>\n",
       "      <td>NaN</td>\n",
       "      <td>False</td>\n",
       "      <td>0.006154</td>\n",
       "    </tr>\n",
       "    <tr>\n",
       "      <th>3</th>\n",
       "      <td>20170104_1376</td>\n",
       "      <td>2017-01-04</td>\n",
       "      <td>1376</td>\n",
       "      <td>1510.0</td>\n",
       "      <td>1550.0</td>\n",
       "      <td>1510.0</td>\n",
       "      <td>1550.0</td>\n",
       "      <td>11300</td>\n",
       "      <td>1.0</td>\n",
       "      <td>NaN</td>\n",
       "      <td>False</td>\n",
       "      <td>0.011053</td>\n",
       "    </tr>\n",
       "    <tr>\n",
       "      <th>4</th>\n",
       "      <td>20170104_1377</td>\n",
       "      <td>2017-01-04</td>\n",
       "      <td>1377</td>\n",
       "      <td>3270.0</td>\n",
       "      <td>3350.0</td>\n",
       "      <td>3270.0</td>\n",
       "      <td>3330.0</td>\n",
       "      <td>150800</td>\n",
       "      <td>1.0</td>\n",
       "      <td>NaN</td>\n",
       "      <td>False</td>\n",
       "      <td>0.003026</td>\n",
       "    </tr>\n",
       "  </tbody>\n",
       "</table>\n",
       "</div>"
      ],
      "text/plain": [
       "           RowId        Date  SecuritiesCode    Open    High     Low   Close  \\\n",
       "0  20170104_1301  2017-01-04            1301  2734.0  2755.0  2730.0  2742.0   \n",
       "1  20170104_1332  2017-01-04            1332   568.0   576.0   563.0   571.0   \n",
       "2  20170104_1333  2017-01-04            1333  3150.0  3210.0  3140.0  3210.0   \n",
       "3  20170104_1376  2017-01-04            1376  1510.0  1550.0  1510.0  1550.0   \n",
       "4  20170104_1377  2017-01-04            1377  3270.0  3350.0  3270.0  3330.0   \n",
       "\n",
       "    Volume  AdjustmentFactor  ExpectedDividend  SupervisionFlag    Target  \n",
       "0    31400               1.0               NaN            False  0.000730  \n",
       "1  2798500               1.0               NaN            False  0.012324  \n",
       "2   270800               1.0               NaN            False  0.006154  \n",
       "3    11300               1.0               NaN            False  0.011053  \n",
       "4   150800               1.0               NaN            False  0.003026  "
      ]
     },
     "execution_count": 40,
     "metadata": {},
     "output_type": "execute_result"
    }
   ],
   "source": [
    "df_stock_prices.head()"
   ]
  },
  {
   "cell_type": "code",
   "execution_count": 41,
   "id": "51d47726-9466-4b8d-978e-4b9aab78727b",
   "metadata": {},
   "outputs": [],
   "source": [
    "multi_stock = pd.concat([df_stock_prices[df_stock_prices['SecuritiesCode'] == 1332]\n",
    "                         ,df_stock_prices[df_stock_prices['SecuritiesCode'] == 1301]\n",
    "                         ,df_stock_prices[df_stock_prices['SecuritiesCode'] == 1376]\n",
    "                        ])"
   ]
  },
  {
   "cell_type": "code",
   "execution_count": 42,
   "id": "fc2673fa-1302-49b2-8d84-c0241aca97b8",
   "metadata": {},
   "outputs": [
    {
     "data": {
      "text/plain": [
       "(3606, 12)"
      ]
     },
     "execution_count": 42,
     "metadata": {},
     "output_type": "execute_result"
    }
   ],
   "source": [
    "multi_stock.shape"
   ]
  },
  {
   "cell_type": "code",
   "execution_count": 43,
   "id": "6208b2b2-4305-4b90-b9c5-a244a90ffd01",
   "metadata": {},
   "outputs": [
    {
     "data": {
      "text/html": [
       "<div>\n",
       "<style scoped>\n",
       "    .dataframe tbody tr th:only-of-type {\n",
       "        vertical-align: middle;\n",
       "    }\n",
       "\n",
       "    .dataframe tbody tr th {\n",
       "        vertical-align: top;\n",
       "    }\n",
       "\n",
       "    .dataframe thead th {\n",
       "        text-align: right;\n",
       "    }\n",
       "</style>\n",
       "<table border=\"1\" class=\"dataframe\">\n",
       "  <thead>\n",
       "    <tr style=\"text-align: right;\">\n",
       "      <th></th>\n",
       "      <th>RowId</th>\n",
       "      <th>Date</th>\n",
       "      <th>SecuritiesCode</th>\n",
       "      <th>Open</th>\n",
       "      <th>High</th>\n",
       "      <th>Low</th>\n",
       "      <th>Close</th>\n",
       "      <th>Volume</th>\n",
       "      <th>AdjustmentFactor</th>\n",
       "      <th>ExpectedDividend</th>\n",
       "      <th>SupervisionFlag</th>\n",
       "      <th>Target</th>\n",
       "    </tr>\n",
       "  </thead>\n",
       "  <tbody>\n",
       "    <tr>\n",
       "      <th>1</th>\n",
       "      <td>20170104_1332</td>\n",
       "      <td>2017-01-04</td>\n",
       "      <td>1332</td>\n",
       "      <td>568.0</td>\n",
       "      <td>576.0</td>\n",
       "      <td>563.0</td>\n",
       "      <td>571.0</td>\n",
       "      <td>2798500</td>\n",
       "      <td>1.0</td>\n",
       "      <td>NaN</td>\n",
       "      <td>False</td>\n",
       "      <td>0.012324</td>\n",
       "    </tr>\n",
       "    <tr>\n",
       "      <th>1866</th>\n",
       "      <td>20170105_1332</td>\n",
       "      <td>2017-01-05</td>\n",
       "      <td>1332</td>\n",
       "      <td>572.0</td>\n",
       "      <td>573.0</td>\n",
       "      <td>565.0</td>\n",
       "      <td>568.0</td>\n",
       "      <td>2162900</td>\n",
       "      <td>1.0</td>\n",
       "      <td>NaN</td>\n",
       "      <td>False</td>\n",
       "      <td>-0.022609</td>\n",
       "    </tr>\n",
       "    <tr>\n",
       "      <th>3731</th>\n",
       "      <td>20170106_1332</td>\n",
       "      <td>2017-01-06</td>\n",
       "      <td>1332</td>\n",
       "      <td>567.0</td>\n",
       "      <td>576.0</td>\n",
       "      <td>563.0</td>\n",
       "      <td>575.0</td>\n",
       "      <td>2125600</td>\n",
       "      <td>1.0</td>\n",
       "      <td>NaN</td>\n",
       "      <td>False</td>\n",
       "      <td>-0.016014</td>\n",
       "    </tr>\n",
       "    <tr>\n",
       "      <th>5596</th>\n",
       "      <td>20170110_1332</td>\n",
       "      <td>2017-01-10</td>\n",
       "      <td>1332</td>\n",
       "      <td>573.0</td>\n",
       "      <td>576.0</td>\n",
       "      <td>561.0</td>\n",
       "      <td>562.0</td>\n",
       "      <td>2744600</td>\n",
       "      <td>1.0</td>\n",
       "      <td>NaN</td>\n",
       "      <td>False</td>\n",
       "      <td>-0.016275</td>\n",
       "    </tr>\n",
       "    <tr>\n",
       "      <th>7461</th>\n",
       "      <td>20170111_1332</td>\n",
       "      <td>2017-01-11</td>\n",
       "      <td>1332</td>\n",
       "      <td>559.0</td>\n",
       "      <td>562.0</td>\n",
       "      <td>551.0</td>\n",
       "      <td>553.0</td>\n",
       "      <td>2231800</td>\n",
       "      <td>1.0</td>\n",
       "      <td>NaN</td>\n",
       "      <td>False</td>\n",
       "      <td>0.016544</td>\n",
       "    </tr>\n",
       "  </tbody>\n",
       "</table>\n",
       "</div>"
      ],
      "text/plain": [
       "              RowId        Date  SecuritiesCode   Open   High    Low  Close  \\\n",
       "1     20170104_1332  2017-01-04            1332  568.0  576.0  563.0  571.0   \n",
       "1866  20170105_1332  2017-01-05            1332  572.0  573.0  565.0  568.0   \n",
       "3731  20170106_1332  2017-01-06            1332  567.0  576.0  563.0  575.0   \n",
       "5596  20170110_1332  2017-01-10            1332  573.0  576.0  561.0  562.0   \n",
       "7461  20170111_1332  2017-01-11            1332  559.0  562.0  551.0  553.0   \n",
       "\n",
       "       Volume  AdjustmentFactor  ExpectedDividend  SupervisionFlag    Target  \n",
       "1     2798500               1.0               NaN            False  0.012324  \n",
       "1866  2162900               1.0               NaN            False -0.022609  \n",
       "3731  2125600               1.0               NaN            False -0.016014  \n",
       "5596  2744600               1.0               NaN            False -0.016275  \n",
       "7461  2231800               1.0               NaN            False  0.016544  "
      ]
     },
     "execution_count": 43,
     "metadata": {},
     "output_type": "execute_result"
    }
   ],
   "source": [
    "multi_stock.head()"
   ]
  },
  {
   "cell_type": "markdown",
   "id": "38b0286c-7efd-4998-a710-b400f40170bc",
   "metadata": {},
   "source": [
    "面板数据与多变量时间序列数据相比，有了更多需要考虑的因素。例如在LSTM与RNN的流程中，我们是沿着time_step，也是seq_length的方向进行扫描的。因此在这系列模型的假设中，我们认为LSTM和RNN建立的是每个保单内部的、行与行之间的联系，也就是时间步与时间步之间的联系。这隐含着一种暗示——即RNN和LSTM这类算法并不在意表单与表单之间的联系。**对于一个时间序列来说，相互影响的时序数据应该尽量在同一张表单上**。\n",
    "\n",
    "![](https://skojiangdoc.oss-cn-beijing.aliyuncs.com/2023DL/Live/NLP%26LLMs/16.png)"
   ]
  },
  {
   "cell_type": "markdown",
   "id": "62b46dfd-454d-4b84-8b3c-a88a7c1762f8",
   "metadata": {},
   "source": [
    "- **忽略截面的滑窗**"
   ]
  },
  {
   "cell_type": "markdown",
   "id": "3a710852-e4e6-4a84-ab70-a0f4572e76ee",
   "metadata": {},
   "source": [
    "这是最常见的、面板数据所使用的滑窗方式，我们使用这种滑窗方式的根本原因在于，它确实非常便捷！"
   ]
  },
  {
   "cell_type": "markdown",
   "id": "cc232e2c-a3b0-46de-834a-e885b5fc87e3",
   "metadata": {},
   "source": [
    "\n",
    "![](https://skojiangdoc.oss-cn-beijing.aliyuncs.com/2023DL/LSTM/Case/10.png)\n",
    "![](https://skojiangdoc.oss-cn-beijing.aliyuncs.com/2023DL/LSTM/Case/11.png)"
   ]
  },
  {
   "cell_type": "markdown",
   "id": "ee2a421d-b714-4ff4-912f-55aa7e2588a6",
   "metadata": {},
   "source": [
    "![](https://skojiangdoc.oss-cn-beijing.aliyuncs.com/2023DL/LSTM/Case/12.png)"
   ]
  },
  {
   "cell_type": "markdown",
   "id": "b3f73f58-f71a-4949-b27d-317f5b04be5f",
   "metadata": {},
   "source": [
    "我们可以使用下面的函数实现这种滑窗方式，这与多变量数据中、包含标签的滑窗方式一模一样——"
   ]
  },
  {
   "cell_type": "code",
   "execution_count": 44,
   "id": "706a79dd-1cc8-4695-a36d-80aa22dd36b6",
   "metadata": {},
   "outputs": [],
   "source": [
    "import torch\n",
    "import numpy as np\n",
    "\n",
    "def create_multivariate_dataset_2(dataset, window_size):\n",
    "    \"\"\"\n",
    "    将多变量时间序列转变为能够用于训练和预测的数据\n",
    "    \n",
    "    参数:\n",
    "        dataset: DataFrame，其中包含特征和标签，特征从索引3开始，最后一列是标签\n",
    "        window_size: 滑窗的窗口大小\n",
    "    \"\"\"\n",
    "    X, y = [], []\n",
    "    for i in range(len(dataset) - window_size):\n",
    "        # 选取从第4列到最后一列的特征和标签\n",
    "        feature_and_label = dataset.iloc[i:i + window_size, 3:].values  # 包括标签在内的特征\n",
    "        # 下一个时间点的标签作为目标\n",
    "        target = dataset.iloc[i + window_size, -1]  # 使用下一个时间点的标签作为预测目标\n",
    "        X.append(feature_and_label)\n",
    "        y.append(target)\n",
    "    return torch.FloatTensor(np.array(X, dtype=np.float32)), torch.FloatTensor(np.array(y, dtype=np.float32))"
   ]
  },
  {
   "cell_type": "markdown",
   "id": "36e81db9-10b0-4279-87b9-5451858d250e",
   "metadata": {},
   "source": [
    "但是除此之外，我们还可以特地关注到截面的不同而避免跨截面的滑窗——"
   ]
  },
  {
   "cell_type": "markdown",
   "id": "102adf09-fb24-482a-8a5b-337ab6d72be0",
   "metadata": {},
   "source": [
    "![](https://skojiangdoc.oss-cn-beijing.aliyuncs.com/2023DL/LSTM/Case/13.png)\n",
    "![](https://skojiangdoc.oss-cn-beijing.aliyuncs.com/2023DL/LSTM/Case/14.png)\n",
    "![](https://skojiangdoc.oss-cn-beijing.aliyuncs.com/2023DL/LSTM/Case/15.png)"
   ]
  },
  {
   "cell_type": "markdown",
   "id": "0006d481-6e22-4fe1-910b-7f42f7c047a6",
   "metadata": {},
   "source": [
    "这样的滑窗有多套不同的实现逻辑，我现在的实现逻辑如下。按多变量数据集的规律进行滑窗，但我要求每个窗内只能有唯一的Securities Code，如果一个数据集中出现了不同的Securities Code，则该窗会被删除。这种情况下，我们可以使用下面的函数来进行滑窗——"
   ]
  },
  {
   "cell_type": "code",
   "execution_count": 45,
   "id": "c99f7dc1-0752-493a-9f1c-8605b0b64cef",
   "metadata": {
    "tags": []
   },
   "outputs": [],
   "source": [
    "#按时间顺序对训练集测试集进行分割\n",
    "train_size = int(len(multi_stock) * 0.67)\n",
    "test_size = len(multi_stock) - train_size\n",
    "train, test = multi_stock[:train_size], multi_stock[train_size:]"
   ]
  },
  {
   "cell_type": "code",
   "execution_count": 46,
   "id": "6dff956b-eb0a-4ed8-bc6b-c0024a750fa8",
   "metadata": {},
   "outputs": [],
   "source": [
    "import torch\n",
    "import numpy as np\n",
    "\n",
    "def create_multivariate_dataset_4(dataset, window_size):\n",
    "    \"\"\"\n",
    "    将多变量时间序列转变为能够用于训练和预测的数据，确保每个窗口内的Securities Code唯一\n",
    "    \n",
    "    参数:\n",
    "        dataset: DataFrame，其中包含特征和标签，特征从索引3开始，最后一列是标签\n",
    "        window_size: 滑窗的窗口大小\n",
    "    \"\"\"\n",
    "    X, y = [], []\n",
    "    for i in range(len(dataset) - window_size):\n",
    "        # 检查窗口内的Securities Code是否唯一\n",
    "        securities_code = dataset.iloc[i:i + window_size, 2]\n",
    "        if len(securities_code.unique()) == 1:  # 如果Securities Code在窗口内唯一\n",
    "            # 选取从第4列到最后一列的特征和标签\n",
    "            feature_and_label = dataset.iloc[i:i + window_size, 3:].copy().values\n",
    "            # 下一个时间点的标签作为目标\n",
    "            target = dataset.iloc[i + window_size, -1]\n",
    "            X.append(feature_and_label)\n",
    "            y.append(target)\n",
    "    return torch.FloatTensor(np.array(X, dtype=np.float32)), torch.FloatTensor(np.array(y, dtype=np.float32))"
   ]
  },
  {
   "cell_type": "markdown",
   "id": "2cae2136-9c8b-4274-9b0a-5845cf54df29",
   "metadata": {},
   "source": [
    "在这个版本的函数中，我们在添加窗口到X和y列表之前，首先检查窗口内所有行的Securities Code是否相同。这是通过选择窗口内的Securities Code列dataset.iloc[i:i + window_size, 2]，然后使用.unique()方法来检查其唯一值的数量。只有当len(securities_code.unique()) == 1时，即窗口内的Securities Code唯一时，我们才将该窗口的特征和标签添加到最终的数据集中。"
   ]
  },
  {
   "cell_type": "code",
   "execution_count": 49,
   "id": "e9d3aeee-5e92-47ad-be4b-4a90979717fc",
   "metadata": {},
   "outputs": [
    {
     "data": {
      "text/plain": [
       "(2416, 12)"
      ]
     },
     "execution_count": 49,
     "metadata": {},
     "output_type": "execute_result"
    }
   ],
   "source": [
    "train.shape"
   ]
  },
  {
   "cell_type": "code",
   "execution_count": 50,
   "id": "aa143914-f3a8-431c-b2b5-1480e2c6788f",
   "metadata": {},
   "outputs": [],
   "source": [
    "X_train_4, y_train_4= create_multivariate_dataset_4(train, 10)"
   ]
  },
  {
   "cell_type": "code",
   "execution_count": 52,
   "id": "13605f61-aa9f-412d-bf93-c1832bc70f01",
   "metadata": {},
   "outputs": [
    {
     "data": {
      "text/plain": [
       "torch.Size([2388, 10, 9])"
      ]
     },
     "execution_count": 52,
     "metadata": {},
     "output_type": "execute_result"
    }
   ],
   "source": [
    "X_train_4.shape #原则上来说应该有2416 - 10个窗，但是其中有多个窗涉及到跨越了截面（涉及到不同的股票，因此被删除了）"
   ]
  },
  {
   "cell_type": "code",
   "execution_count": 53,
   "id": "6b5192b5-70c9-4d2a-a469-392493ceb46b",
   "metadata": {},
   "outputs": [
    {
     "data": {
      "text/plain": [
       "torch.Size([803, 2, 8])"
      ]
     },
     "execution_count": 53,
     "metadata": {},
     "output_type": "execute_result"
    }
   ],
   "source": [
    "X_train.shape"
   ]
  },
  {
   "cell_type": "code",
   "execution_count": 54,
   "id": "cb305ca9-dad2-415a-92ca-a2857d1c0fb2",
   "metadata": {},
   "outputs": [
    {
     "data": {
      "text/plain": [
       "tensor([[ 5.6800e+02,  5.7600e+02,  5.6300e+02,  5.7100e+02,  2.7985e+06,\n",
       "          1.0000e+00,         nan,  0.0000e+00,  1.2324e-02],\n",
       "        [ 5.7200e+02,  5.7300e+02,  5.6500e+02,  5.6800e+02,  2.1629e+06,\n",
       "          1.0000e+00,         nan,  0.0000e+00, -2.2609e-02],\n",
       "        [ 5.6700e+02,  5.7600e+02,  5.6300e+02,  5.7500e+02,  2.1256e+06,\n",
       "          1.0000e+00,         nan,  0.0000e+00, -1.6014e-02],\n",
       "        [ 5.7300e+02,  5.7600e+02,  5.6100e+02,  5.6200e+02,  2.7446e+06,\n",
       "          1.0000e+00,         nan,  0.0000e+00, -1.6275e-02],\n",
       "        [ 5.5900e+02,  5.6200e+02,  5.5100e+02,  5.5300e+02,  2.2318e+06,\n",
       "          1.0000e+00,         nan,  0.0000e+00,  1.6544e-02],\n",
       "        [ 5.5300e+02,  5.5600e+02,  5.4300e+02,  5.4400e+02,  2.5797e+06,\n",
       "          1.0000e+00,         nan,  0.0000e+00, -2.7125e-02],\n",
       "        [ 5.4300e+02,  5.5400e+02,  5.4100e+02,  5.5300e+02,  2.4857e+06,\n",
       "          1.0000e+00,         nan,  0.0000e+00, -3.3457e-02],\n",
       "        [ 5.4700e+02,  5.4900e+02,  5.3500e+02,  5.3800e+02,  2.7978e+06,\n",
       "          1.0000e+00,         nan,  0.0000e+00,  3.2692e-02],\n",
       "        [ 5.3600e+02,  5.3800e+02,  5.2000e+02,  5.2000e+02,  2.8141e+06,\n",
       "          1.0000e+00,         nan,  0.0000e+00,  3.1657e-02],\n",
       "        [ 5.2400e+02,  5.4400e+02,  5.2300e+02,  5.3700e+02,  4.2007e+06,\n",
       "          1.0000e+00,         nan,  0.0000e+00, -1.6245e-02]])"
      ]
     },
     "execution_count": 54,
     "metadata": {},
     "output_type": "execute_result"
    }
   ],
   "source": [
    "X_train_4[0]"
   ]
  },
  {
   "cell_type": "code",
   "execution_count": 55,
   "id": "aa36f1c3-a3a8-4daa-be86-1149521b9b1f",
   "metadata": {},
   "outputs": [
    {
     "data": {
      "text/plain": [
       "tensor([-0.0183,  0.0075,  0.0148,  0.0128,  0.0162,  0.0071, -0.0194, -0.0144,\n",
       "        -0.0128,  0.0092,  0.0861, -0.0067, -0.0170, -0.0086, -0.0017,  0.0175,\n",
       "        -0.0206,  0.0088, -0.0156,  0.0035, -0.0123,  0.0000,  0.0214, -0.0087,\n",
       "        -0.0193,  0.0072,  0.0107, -0.0123,  0.0107,  0.0000, -0.0229, -0.0108,\n",
       "        -0.0036,  0.0037,  0.0237,  0.0071,  0.0195, -0.0104,  0.0018,  0.0000,\n",
       "        -0.0053, -0.0035,  0.0071,  0.0105, -0.0139,  0.0158,  0.0087, -0.0275,\n",
       "        -0.0194,  0.0072, -0.0286, -0.0055, -0.0241, -0.0019,  0.0019,  0.0019,\n",
       "         0.0000,  0.0152, -0.0131,  0.0151, -0.0391,  0.0078, -0.0096,  0.0039,\n",
       "         0.0193,  0.0057,  0.0057,  0.0169, -0.0092,  0.0093,  0.0018,  0.0276,\n",
       "         0.0018,  0.0036, -0.0107, -0.0270,  0.1000, -0.0017, -0.0152,  0.0017,\n",
       "        -0.0085,  0.0121,  0.0085,  0.0101,  0.0050, -0.0233, -0.0085, -0.0052,\n",
       "        -0.0017,  0.0225,  0.0051, -0.0101,  0.0051,  0.0321,  0.0721,  0.0306,\n",
       "         0.0015, -0.0044,  0.0089,  0.0192])"
      ]
     },
     "execution_count": 55,
     "metadata": {},
     "output_type": "execute_result"
    }
   ],
   "source": [
    "y_train_4[:100]"
   ]
  },
  {
   "cell_type": "markdown",
   "id": "8c596854-94bc-453d-9db4-2503859f0951",
   "metadata": {},
   "source": [
    "### 1.5.3 单步预测、多步预测与递归预测法"
   ]
  },
  {
   "cell_type": "markdown",
   "id": "06693bcd-2f9a-4cfd-ae93-a6a5a8844a3e",
   "metadata": {},
   "source": [
    "在之前的课程中我们了解了3类不同的时间序列数据、以及这些数据所涉及到的7-8类数据重组方式，相信你已经意识到、时间序列任务会比一般的机器学习/深度学习更复杂、更灵活、更有挑战性。尽管3种不同的时序数据已经让我们应接不暇，但事实上时序预测过程中难度更高的是预测方法本身。在过去的课程中，我们都是以最为经典的“点到序列”的预测方式给大家举例，但事实上，依据时间序列预测的不同细节，时序预测手段可以被分为以下四种——\n",
    "\n",
    "> - **单步预测**：在每次预测时只预测序列的下一个时间点的值，也就是常见的“序列到点”（seq-2-point）的预测。\n",
    "\n",
    "> - **多步预测**：在每次预测时预测序列接下来多个时间点的值，也就是之前提过的“序列到序列”（seq-2-seq）的预测。\n",
    "\n",
    "> - **递归预测**：模型预测出下一个时间点或多个时间点的值后，将这些预测值作为输入的一部分来预测下一个时间点或多个时间点的值，如此递归下去。\n",
    "\n",
    "> - **直接预测**：在预测过程中，模型只使用已存在的历史数据和历史标签作为输入，并不会将上一时刻预测出的结果作为下一时刻输入的一部分。\n",
    "\n",
    "在这4种分类下，我们实际可以有单步递归预测、单步直接预测、多步递归预测和多步直接预测四种预测方法，之前我们所呈现的最经典的“序列到点”的预测就是单步直接预测法。本节就让我们一起来认识一下这4种预测方法。"
   ]
  },
  {
   "cell_type": "markdown",
   "id": "4f94ee4f-3b24-4b42-860c-decde430e052",
   "metadata": {},
   "source": [
    "- **从单步直接预测到多步直接预测**"
   ]
  },
  {
   "cell_type": "markdown",
   "id": "4fb3dc83-9861-4e13-99e3-9d061ffc24a3",
   "metadata": {},
   "source": [
    "从单步直接预测过渡到多步直接预测，是一个“牵一发而动全身”的策略，会涉及到一系列的改变和挑战，这些改变不仅会影响数据的预处理过程，例如**滑窗方式的调整**，还会影响到**模型的架构和训练过程**，如LSTM的输出方式和损失函数的计算。在多步预测中，滑窗方式可能需要根据预测范围进行优化，以确保每个窗口能够有效地捕获到对未来多个时间点预测所需的信息。同时，LSTM模型的输出层需要调整，以便能够一次性输出多个时间点的预测值，这可能要求模型学习和捕获更复杂的时间序列依赖关系。\n",
    "\n",
    "此外，**损失函数的计算也变得更加复杂**，因为现在需要考虑模型对多个未来时间点预测的整体准确性。这可能会影响到模型的训练策略，包括早停机制的应用，因为早停判断现在需要基于多步预测的性能来进行。最后，从多步直接预测中提取最终预测值时，还需要考虑如何综合和处理模型输出的多个预测结果，以便得到对未来序列的最佳估计。这些问题共同构成了从单步直接预测到多步直接预测转变的复杂性，需要细致的方法和策略来有效地解决。"
   ]
  },
  {
   "cell_type": "markdown",
   "id": "feb83428-ac5a-4bf5-901d-40a7dcdd9721",
   "metadata": {},
   "source": [
    "![](https://skojiangdoc.oss-cn-beijing.aliyuncs.com/2023DL/LSTM/Case/18.png)\n",
    "![](https://skojiangdoc.oss-cn-beijing.aliyuncs.com/2023DL/LSTM/Case/19.png)"
   ]
  },
  {
   "cell_type": "code",
   "execution_count": 5,
   "id": "9de9036d-0bd6-4b5a-b651-e3c401d585d3",
   "metadata": {},
   "outputs": [],
   "source": [
    "df_stock_prices = pd.read_csv('stock_prices.csv')"
   ]
  },
  {
   "cell_type": "code",
   "execution_count": 6,
   "id": "c6dcabbd-ae0e-49ac-ab7e-9780fdc5a122",
   "metadata": {},
   "outputs": [
    {
     "data": {
      "text/html": [
       "<div>\n",
       "<style scoped>\n",
       "    .dataframe tbody tr th:only-of-type {\n",
       "        vertical-align: middle;\n",
       "    }\n",
       "\n",
       "    .dataframe tbody tr th {\n",
       "        vertical-align: top;\n",
       "    }\n",
       "\n",
       "    .dataframe thead th {\n",
       "        text-align: right;\n",
       "    }\n",
       "</style>\n",
       "<table border=\"1\" class=\"dataframe\">\n",
       "  <thead>\n",
       "    <tr style=\"text-align: right;\">\n",
       "      <th></th>\n",
       "      <th>RowId</th>\n",
       "      <th>Date</th>\n",
       "      <th>SecuritiesCode</th>\n",
       "      <th>Open</th>\n",
       "      <th>High</th>\n",
       "      <th>Low</th>\n",
       "      <th>Close</th>\n",
       "      <th>Volume</th>\n",
       "      <th>AdjustmentFactor</th>\n",
       "      <th>ExpectedDividend</th>\n",
       "      <th>SupervisionFlag</th>\n",
       "      <th>Target</th>\n",
       "    </tr>\n",
       "  </thead>\n",
       "  <tbody>\n",
       "    <tr>\n",
       "      <th>0</th>\n",
       "      <td>20170104_1301</td>\n",
       "      <td>2017-01-04</td>\n",
       "      <td>1301</td>\n",
       "      <td>2734.0</td>\n",
       "      <td>2755.0</td>\n",
       "      <td>2730.0</td>\n",
       "      <td>2742.0</td>\n",
       "      <td>31400</td>\n",
       "      <td>1.0</td>\n",
       "      <td>NaN</td>\n",
       "      <td>False</td>\n",
       "      <td>0.000730</td>\n",
       "    </tr>\n",
       "    <tr>\n",
       "      <th>1</th>\n",
       "      <td>20170104_1332</td>\n",
       "      <td>2017-01-04</td>\n",
       "      <td>1332</td>\n",
       "      <td>568.0</td>\n",
       "      <td>576.0</td>\n",
       "      <td>563.0</td>\n",
       "      <td>571.0</td>\n",
       "      <td>2798500</td>\n",
       "      <td>1.0</td>\n",
       "      <td>NaN</td>\n",
       "      <td>False</td>\n",
       "      <td>0.012324</td>\n",
       "    </tr>\n",
       "    <tr>\n",
       "      <th>2</th>\n",
       "      <td>20170104_1333</td>\n",
       "      <td>2017-01-04</td>\n",
       "      <td>1333</td>\n",
       "      <td>3150.0</td>\n",
       "      <td>3210.0</td>\n",
       "      <td>3140.0</td>\n",
       "      <td>3210.0</td>\n",
       "      <td>270800</td>\n",
       "      <td>1.0</td>\n",
       "      <td>NaN</td>\n",
       "      <td>False</td>\n",
       "      <td>0.006154</td>\n",
       "    </tr>\n",
       "    <tr>\n",
       "      <th>3</th>\n",
       "      <td>20170104_1376</td>\n",
       "      <td>2017-01-04</td>\n",
       "      <td>1376</td>\n",
       "      <td>1510.0</td>\n",
       "      <td>1550.0</td>\n",
       "      <td>1510.0</td>\n",
       "      <td>1550.0</td>\n",
       "      <td>11300</td>\n",
       "      <td>1.0</td>\n",
       "      <td>NaN</td>\n",
       "      <td>False</td>\n",
       "      <td>0.011053</td>\n",
       "    </tr>\n",
       "    <tr>\n",
       "      <th>4</th>\n",
       "      <td>20170104_1377</td>\n",
       "      <td>2017-01-04</td>\n",
       "      <td>1377</td>\n",
       "      <td>3270.0</td>\n",
       "      <td>3350.0</td>\n",
       "      <td>3270.0</td>\n",
       "      <td>3330.0</td>\n",
       "      <td>150800</td>\n",
       "      <td>1.0</td>\n",
       "      <td>NaN</td>\n",
       "      <td>False</td>\n",
       "      <td>0.003026</td>\n",
       "    </tr>\n",
       "  </tbody>\n",
       "</table>\n",
       "</div>"
      ],
      "text/plain": [
       "           RowId        Date  SecuritiesCode    Open    High     Low   Close  \\\n",
       "0  20170104_1301  2017-01-04            1301  2734.0  2755.0  2730.0  2742.0   \n",
       "1  20170104_1332  2017-01-04            1332   568.0   576.0   563.0   571.0   \n",
       "2  20170104_1333  2017-01-04            1333  3150.0  3210.0  3140.0  3210.0   \n",
       "3  20170104_1376  2017-01-04            1376  1510.0  1550.0  1510.0  1550.0   \n",
       "4  20170104_1377  2017-01-04            1377  3270.0  3350.0  3270.0  3330.0   \n",
       "\n",
       "    Volume  AdjustmentFactor  ExpectedDividend  SupervisionFlag    Target  \n",
       "0    31400               1.0               NaN            False  0.000730  \n",
       "1  2798500               1.0               NaN            False  0.012324  \n",
       "2   270800               1.0               NaN            False  0.006154  \n",
       "3    11300               1.0               NaN            False  0.011053  \n",
       "4   150800               1.0               NaN            False  0.003026  "
      ]
     },
     "execution_count": 6,
     "metadata": {},
     "output_type": "execute_result"
    }
   ],
   "source": [
    "df_stock_prices.head()"
   ]
  },
  {
   "cell_type": "code",
   "execution_count": 7,
   "id": "6227b246-8761-4731-87bf-955131d6b28b",
   "metadata": {},
   "outputs": [
    {
     "data": {
      "text/plain": [
       "(2332531, 12)"
      ]
     },
     "execution_count": 7,
     "metadata": {},
     "output_type": "execute_result"
    }
   ],
   "source": [
    "df_stock_prices.shape"
   ]
  },
  {
   "cell_type": "code",
   "execution_count": 8,
   "id": "b9f2269e-c45b-426d-8a9c-2394fd0dd197",
   "metadata": {},
   "outputs": [
    {
     "data": {
      "text/plain": [
       "2000"
      ]
     },
     "execution_count": 8,
     "metadata": {},
     "output_type": "execute_result"
    }
   ],
   "source": [
    "df_stock_prices[\"SecuritiesCode\"].unique().__len__() #一共包含2000支股票"
   ]
  },
  {
   "cell_type": "code",
   "execution_count": 9,
   "id": "589cc037-2304-41d2-82c3-4693e596302a",
   "metadata": {},
   "outputs": [],
   "source": [
    "#提取其中一支股票的数据作为例子\n",
    "# 选择单只股票的数据\n",
    "single_stock = df_stock_prices[df_stock_prices['SecuritiesCode'] == 1332]"
   ]
  },
  {
   "cell_type": "code",
   "execution_count": 10,
   "id": "89661a94-e0a4-4727-8b7d-55ef74fc6aea",
   "metadata": {},
   "outputs": [
    {
     "name": "stdout",
     "output_type": "stream",
     "text": [
      "<class 'pandas.core.frame.DataFrame'>\n",
      "Index: 1202 entries, 1 to 2330532\n",
      "Data columns (total 12 columns):\n",
      " #   Column            Non-Null Count  Dtype  \n",
      "---  ------            --------------  -----  \n",
      " 0   RowId             1202 non-null   object \n",
      " 1   Date              1202 non-null   object \n",
      " 2   SecuritiesCode    1202 non-null   int64  \n",
      " 3   Open              1201 non-null   float64\n",
      " 4   High              1201 non-null   float64\n",
      " 5   Low               1201 non-null   float64\n",
      " 6   Close             1201 non-null   float64\n",
      " 7   Volume            1202 non-null   int64  \n",
      " 8   AdjustmentFactor  1202 non-null   float64\n",
      " 9   ExpectedDividend  10 non-null     float64\n",
      " 10  SupervisionFlag   1202 non-null   bool   \n",
      " 11  Target            1202 non-null   float64\n",
      "dtypes: bool(1), float64(7), int64(2), object(2)\n",
      "memory usage: 113.9+ KB\n"
     ]
    }
   ],
   "source": [
    "single_stock.info()"
   ]
  },
  {
   "cell_type": "markdown",
   "id": "8222c3cb-9327-49de-adf9-d5fbcb6f07dc",
   "metadata": {},
   "source": [
    "> **完成简单预处理**"
   ]
  },
  {
   "cell_type": "code",
   "execution_count": 11,
   "id": "0a256df2-dfbd-4b20-abf5-a86d954b3a1c",
   "metadata": {
    "tags": []
   },
   "outputs": [],
   "source": [
    "#我们修改预测目标，我们预测股价，而不预测原始竞赛中的Target（夏普比率）\n",
    "single_stock = single_stock.copy()\n",
    "#将Target名字修改为Sharpe Ratio\n",
    "single_stock.rename(columns={'Target': 'Sharpe Ratio'}, inplace=True)\n",
    "#将Close列取出\n",
    "close_col = single_stock.pop('Close')\n",
    "#将Close列添加到最后\n",
    "single_stock.loc[:,'Close'] = close_col\n",
    "#填补缺失值\n",
    "single_stock.loc[:,\"ExpectedDividend\"] = single_stock.loc[:,\"ExpectedDividend\"].fillna(0)\n",
    "single_stock.dropna(inplace=True)"
   ]
  },
  {
   "cell_type": "code",
   "execution_count": 12,
   "id": "0d4f2f16-34d0-4c88-a71e-1b71829a46a9",
   "metadata": {},
   "outputs": [],
   "source": [
    "#恢复索引\n",
    "single_stock.index = range(single_stock.shape[0])"
   ]
  },
  {
   "cell_type": "code",
   "execution_count": 13,
   "id": "8620ba5b-b2c5-4a0d-ba94-4888721d7bf3",
   "metadata": {},
   "outputs": [
    {
     "data": {
      "text/html": [
       "<div>\n",
       "<style scoped>\n",
       "    .dataframe tbody tr th:only-of-type {\n",
       "        vertical-align: middle;\n",
       "    }\n",
       "\n",
       "    .dataframe tbody tr th {\n",
       "        vertical-align: top;\n",
       "    }\n",
       "\n",
       "    .dataframe thead th {\n",
       "        text-align: right;\n",
       "    }\n",
       "</style>\n",
       "<table border=\"1\" class=\"dataframe\">\n",
       "  <thead>\n",
       "    <tr style=\"text-align: right;\">\n",
       "      <th></th>\n",
       "      <th>RowId</th>\n",
       "      <th>Date</th>\n",
       "      <th>SecuritiesCode</th>\n",
       "      <th>Open</th>\n",
       "      <th>High</th>\n",
       "      <th>Low</th>\n",
       "      <th>Volume</th>\n",
       "      <th>AdjustmentFactor</th>\n",
       "      <th>ExpectedDividend</th>\n",
       "      <th>SupervisionFlag</th>\n",
       "      <th>Sharpe Ratio</th>\n",
       "      <th>Close</th>\n",
       "    </tr>\n",
       "  </thead>\n",
       "  <tbody>\n",
       "    <tr>\n",
       "      <th>0</th>\n",
       "      <td>20170104_1332</td>\n",
       "      <td>2017-01-04</td>\n",
       "      <td>1332</td>\n",
       "      <td>568.0</td>\n",
       "      <td>576.0</td>\n",
       "      <td>563.0</td>\n",
       "      <td>2798500</td>\n",
       "      <td>1.0</td>\n",
       "      <td>0.0</td>\n",
       "      <td>False</td>\n",
       "      <td>0.012324</td>\n",
       "      <td>571.0</td>\n",
       "    </tr>\n",
       "    <tr>\n",
       "      <th>1</th>\n",
       "      <td>20170105_1332</td>\n",
       "      <td>2017-01-05</td>\n",
       "      <td>1332</td>\n",
       "      <td>572.0</td>\n",
       "      <td>573.0</td>\n",
       "      <td>565.0</td>\n",
       "      <td>2162900</td>\n",
       "      <td>1.0</td>\n",
       "      <td>0.0</td>\n",
       "      <td>False</td>\n",
       "      <td>-0.022609</td>\n",
       "      <td>568.0</td>\n",
       "    </tr>\n",
       "    <tr>\n",
       "      <th>2</th>\n",
       "      <td>20170106_1332</td>\n",
       "      <td>2017-01-06</td>\n",
       "      <td>1332</td>\n",
       "      <td>567.0</td>\n",
       "      <td>576.0</td>\n",
       "      <td>563.0</td>\n",
       "      <td>2125600</td>\n",
       "      <td>1.0</td>\n",
       "      <td>0.0</td>\n",
       "      <td>False</td>\n",
       "      <td>-0.016014</td>\n",
       "      <td>575.0</td>\n",
       "    </tr>\n",
       "    <tr>\n",
       "      <th>3</th>\n",
       "      <td>20170110_1332</td>\n",
       "      <td>2017-01-10</td>\n",
       "      <td>1332</td>\n",
       "      <td>573.0</td>\n",
       "      <td>576.0</td>\n",
       "      <td>561.0</td>\n",
       "      <td>2744600</td>\n",
       "      <td>1.0</td>\n",
       "      <td>0.0</td>\n",
       "      <td>False</td>\n",
       "      <td>-0.016275</td>\n",
       "      <td>562.0</td>\n",
       "    </tr>\n",
       "    <tr>\n",
       "      <th>4</th>\n",
       "      <td>20170111_1332</td>\n",
       "      <td>2017-01-11</td>\n",
       "      <td>1332</td>\n",
       "      <td>559.0</td>\n",
       "      <td>562.0</td>\n",
       "      <td>551.0</td>\n",
       "      <td>2231800</td>\n",
       "      <td>1.0</td>\n",
       "      <td>0.0</td>\n",
       "      <td>False</td>\n",
       "      <td>0.016544</td>\n",
       "      <td>553.0</td>\n",
       "    </tr>\n",
       "  </tbody>\n",
       "</table>\n",
       "</div>"
      ],
      "text/plain": [
       "           RowId        Date  SecuritiesCode   Open   High    Low   Volume  \\\n",
       "0  20170104_1332  2017-01-04            1332  568.0  576.0  563.0  2798500   \n",
       "1  20170105_1332  2017-01-05            1332  572.0  573.0  565.0  2162900   \n",
       "2  20170106_1332  2017-01-06            1332  567.0  576.0  563.0  2125600   \n",
       "3  20170110_1332  2017-01-10            1332  573.0  576.0  561.0  2744600   \n",
       "4  20170111_1332  2017-01-11            1332  559.0  562.0  551.0  2231800   \n",
       "\n",
       "   AdjustmentFactor  ExpectedDividend  SupervisionFlag  Sharpe Ratio  Close  \n",
       "0               1.0               0.0            False      0.012324  571.0  \n",
       "1               1.0               0.0            False     -0.022609  568.0  \n",
       "2               1.0               0.0            False     -0.016014  575.0  \n",
       "3               1.0               0.0            False     -0.016275  562.0  \n",
       "4               1.0               0.0            False      0.016544  553.0  "
      ]
     },
     "execution_count": 13,
     "metadata": {},
     "output_type": "execute_result"
    }
   ],
   "source": [
    "single_stock.head()"
   ]
  },
  {
   "cell_type": "code",
   "execution_count": 14,
   "id": "c95169d4-ffd3-4672-9592-fc8389450473",
   "metadata": {},
   "outputs": [
    {
     "data": {
      "image/png": "[encoded data removed]",
      "text/plain": [
       "<Figure size 1008x504 with 1 Axes>"
      ]
     },
     "metadata": {
      "needs_background": "light"
     },
     "output_type": "display_data"
    }
   ],
   "source": [
    "# 绘制单只股票的'High'价格的时间序列图\n",
    "plt.figure(figsize=(14, 7))\n",
    "plt.plot(single_stock['Close'],label='stock 1332')\n",
    "plt.xlabel('Date')\n",
    "plt.ylabel('Close Price')\n",
    "plt.title('The close price of stock 1301 over time')\n",
    "plt.legend()\n",
    "plt.show()"
   ]
  },
  {
   "cell_type": "markdown",
   "id": "9657e5a1-31d7-4278-abae-1732f8cdb62f",
   "metadata": {},
   "source": [
    "> **数据分割与带标签的滑窗**"
   ]
  },
  {
   "cell_type": "code",
   "execution_count": 15,
   "id": "47f62ddb-728d-484e-b8c0-475df59ba76b",
   "metadata": {},
   "outputs": [],
   "source": [
    "#按时间顺序对训练集测试集进行分割\n",
    "train_size = int(len(single_stock) * 0.67)\n",
    "test_size = len(single_stock) - train_size\n",
    "train, test = single_stock[:train_size], single_stock[train_size:]"
   ]
  },
  {
   "cell_type": "code",
   "execution_count": 24,
   "id": "c44862c7-26a6-4542-ba58-b2134d2a532f",
   "metadata": {},
   "outputs": [],
   "source": [
    "import torch\n",
    "import numpy as np\n",
    "\n",
    "def create_multivariate_dataset_2(dataset, window_size, pred_len):\n",
    "    \"\"\"\n",
    "    将多变量时间序列转变为能够用于训练和预测的数据【带标签的滑窗】\n",
    "    \n",
    "    参数:\n",
    "        dataset: DataFrame，其中包含特征和标签，特征从索引3开始，最后一列是标签\n",
    "        window_size: 滑窗的窗口大小\n",
    "        pred_len：多步预测的预测范围/预测步长\n",
    "    \"\"\"\n",
    "    X, y, y_indices = [], [], []\n",
    "    for i in range(len(dataset) - window_size - pred_len + 1):\n",
    "        # 选取从第4列到最后一列的特征和标签\n",
    "        feature_and_label = dataset.iloc[i:i + window_size, 3:].values\n",
    "        # 下一个时间点的标签作为目标\n",
    "        target = dataset.iloc[(i + window_size):(i + window_size + pred_len), -1]\n",
    "        # 记录本窗口中要预测的标签的时间点\n",
    "        target_indices = list(range(i + window_size, i + window_size + pred_len))\n",
    "\n",
    "        X.append(feature_and_label)\n",
    "        y.append(target)\n",
    "        #将每个标签的索引添加到y_indices列表中\n",
    "        y_indices.extend(target_indices)\n",
    "    \n",
    "    X = torch.FloatTensor(np.array(X, dtype=np.float32))\n",
    "    y = torch.FloatTensor(np.array(y, dtype=np.float32))\n",
    "    \n",
    "    return X, y, y_indices"
   ]
  },
  {
   "cell_type": "code",
   "execution_count": 25,
   "id": "c1b05007-6f00-480f-a6e7-3eadeb76a1e2",
   "metadata": {},
   "outputs": [],
   "source": [
    "window_size = 32\n",
    "pred_len = 5\n",
    "\n",
    "X_train_2, y_train_2, y_train_indices = create_multivariate_dataset_2(train, window_size, pred_len)\n",
    "X_test_2, y_test_2, y_test_indices = create_multivariate_dataset_2(test, window_size, pred_len)"
   ]
  },
  {
   "cell_type": "code",
   "execution_count": 30,
   "id": "6d2b5419-efd8-4da8-bc8d-6764fb10674d",
   "metadata": {},
   "outputs": [
    {
     "data": {
      "text/plain": [
       "torch.Size([768, 32, 9])"
      ]
     },
     "execution_count": 30,
     "metadata": {},
     "output_type": "execute_result"
    }
   ],
   "source": [
    "X_train_2.shape"
   ]
  },
  {
   "cell_type": "code",
   "execution_count": 26,
   "id": "f8cf68a4-2729-479a-ae33-64a12e76cb7b",
   "metadata": {},
   "outputs": [
    {
     "data": {
      "text/plain": [
       "tensor([[ 5.6800e+02,  5.7600e+02,  5.6300e+02,  2.7985e+06,  1.0000e+00,\n",
       "          0.0000e+00,  0.0000e+00,  1.2324e-02,  5.7100e+02],\n",
       "        [ 5.7200e+02,  5.7300e+02,  5.6500e+02,  2.1629e+06,  1.0000e+00,\n",
       "          0.0000e+00,  0.0000e+00, -2.2609e-02,  5.6800e+02],\n",
       "        [ 5.6700e+02,  5.7600e+02,  5.6300e+02,  2.1256e+06,  1.0000e+00,\n",
       "          0.0000e+00,  0.0000e+00, -1.6014e-02,  5.7500e+02],\n",
       "        [ 5.7300e+02,  5.7600e+02,  5.6100e+02,  2.7446e+06,  1.0000e+00,\n",
       "          0.0000e+00,  0.0000e+00, -1.6275e-02,  5.6200e+02],\n",
       "        [ 5.5900e+02,  5.6200e+02,  5.5100e+02,  2.2318e+06,  1.0000e+00,\n",
       "          0.0000e+00,  0.0000e+00,  1.6544e-02,  5.5300e+02],\n",
       "        [ 5.5300e+02,  5.5600e+02,  5.4300e+02,  2.5797e+06,  1.0000e+00,\n",
       "          0.0000e+00,  0.0000e+00, -2.7125e-02,  5.4400e+02],\n",
       "        [ 5.4300e+02,  5.5400e+02,  5.4100e+02,  2.4857e+06,  1.0000e+00,\n",
       "          0.0000e+00,  0.0000e+00, -3.3457e-02,  5.5300e+02],\n",
       "        [ 5.4700e+02,  5.4900e+02,  5.3500e+02,  2.7978e+06,  1.0000e+00,\n",
       "          0.0000e+00,  0.0000e+00,  3.2692e-02,  5.3800e+02],\n",
       "        [ 5.3600e+02,  5.3800e+02,  5.2000e+02,  2.8141e+06,  1.0000e+00,\n",
       "          0.0000e+00,  0.0000e+00,  3.1657e-02,  5.2000e+02],\n",
       "        [ 5.2400e+02,  5.4400e+02,  5.2300e+02,  4.2007e+06,  1.0000e+00,\n",
       "          0.0000e+00,  0.0000e+00, -1.6245e-02,  5.3700e+02],\n",
       "        [ 5.3700e+02,  5.5600e+02,  5.3700e+02,  3.1506e+06,  1.0000e+00,\n",
       "          0.0000e+00,  0.0000e+00, -1.8349e-02,  5.5400e+02],\n",
       "        [ 5.5000e+02,  5.5200e+02,  5.3800e+02,  1.9196e+06,  1.0000e+00,\n",
       "          0.0000e+00,  0.0000e+00,  7.4766e-03,  5.4500e+02],\n",
       "        [ 5.4200e+02,  5.4200e+02,  5.3300e+02,  2.4059e+06,  1.0000e+00,\n",
       "          0.0000e+00,  0.0000e+00,  1.4842e-02,  5.3500e+02],\n",
       "        [ 5.3400e+02,  5.4500e+02,  5.3300e+02,  2.2165e+06,  1.0000e+00,\n",
       "          0.0000e+00,  0.0000e+00,  1.2797e-02,  5.3900e+02],\n",
       "        [ 5.4800e+02,  5.5200e+02,  5.4300e+02,  2.3743e+06,  1.0000e+00,\n",
       "          0.0000e+00,  0.0000e+00,  1.6245e-02,  5.4700e+02],\n",
       "        [ 5.4600e+02,  5.5700e+02,  5.4500e+02,  2.7929e+06,  1.0000e+00,\n",
       "          0.0000e+00,  0.0000e+00,  7.1048e-03,  5.5400e+02],\n",
       "        [ 5.5700e+02,  5.6900e+02,  5.5600e+02,  2.8884e+06,  1.0000e+00,\n",
       "          0.0000e+00,  0.0000e+00, -1.9400e-02,  5.6300e+02],\n",
       "        [ 5.6600e+02,  5.6800e+02,  5.6100e+02,  1.7460e+06,  1.0000e+00,\n",
       "          0.0000e+00,  0.0000e+00, -1.4388e-02,  5.6700e+02],\n",
       "        [ 5.5900e+02,  5.6200e+02,  5.5100e+02,  2.3941e+06,  1.0000e+00,\n",
       "          0.0000e+00,  0.0000e+00, -1.2774e-02,  5.5600e+02],\n",
       "        [ 5.5200e+02,  5.5500e+02,  5.4600e+02,  2.1767e+06,  1.0000e+00,\n",
       "          0.0000e+00,  0.0000e+00,  9.2421e-03,  5.4800e+02],\n",
       "        [ 5.4800e+02,  5.5200e+02,  5.3800e+02,  1.8733e+06,  1.0000e+00,\n",
       "          0.0000e+00,  0.0000e+00,  8.6081e-02,  5.4100e+02],\n",
       "        [ 5.4400e+02,  5.6800e+02,  5.3600e+02,  5.4618e+06,  1.0000e+00,\n",
       "          0.0000e+00,  0.0000e+00, -6.7454e-03,  5.4600e+02],\n",
       "        [ 5.6900e+02,  6.0800e+02,  5.6800e+02,  6.6014e+06,  1.0000e+00,\n",
       "          0.0000e+00,  0.0000e+00, -1.6978e-02,  5.9300e+02],\n",
       "        [ 5.8700e+02,  5.9000e+02,  5.7700e+02,  3.5762e+06,  1.0000e+00,\n",
       "          0.0000e+00,  0.0000e+00, -8.6356e-03,  5.8900e+02],\n",
       "        [ 5.8900e+02,  5.9100e+02,  5.7200e+02,  1.9742e+06,  1.0000e+00,\n",
       "          0.0000e+00,  0.0000e+00, -1.7422e-03,  5.7900e+02],\n",
       "        [ 5.7500e+02,  5.7600e+02,  5.6700e+02,  2.9871e+06,  1.0000e+00,\n",
       "          0.0000e+00,  0.0000e+00,  1.7452e-02,  5.7400e+02],\n",
       "        [ 5.8500e+02,  5.8700e+02,  5.7000e+02,  3.6107e+06,  1.0000e+00,\n",
       "          0.0000e+00,  0.0000e+00, -2.0583e-02,  5.7300e+02],\n",
       "        [ 5.8000e+02,  5.8500e+02,  5.7400e+02,  2.2515e+06,  1.0000e+00,\n",
       "          0.0000e+00,  0.0000e+00,  8.7566e-03,  5.8300e+02],\n",
       "        [ 5.8000e+02,  5.8600e+02,  5.7100e+02,  2.5058e+06,  1.0000e+00,\n",
       "          0.0000e+00,  0.0000e+00, -1.5625e-02,  5.7100e+02],\n",
       "        [ 5.7800e+02,  5.7900e+02,  5.6900e+02,  1.6642e+06,  1.0000e+00,\n",
       "          0.0000e+00,  0.0000e+00,  3.5273e-03,  5.7600e+02],\n",
       "        [ 5.7000e+02,  5.7200e+02,  5.6300e+02,  2.0964e+06,  1.0000e+00,\n",
       "          0.0000e+00,  0.0000e+00, -1.2302e-02,  5.6700e+02],\n",
       "        [ 5.6700e+02,  5.7100e+02,  5.6000e+02,  1.7753e+06,  1.0000e+00,\n",
       "          0.0000e+00,  0.0000e+00,  0.0000e+00,  5.6900e+02]])"
      ]
     },
     "execution_count": 26,
     "metadata": {},
     "output_type": "execute_result"
    }
   ],
   "source": [
    "X_train_2[0] #取出的是索引为0-31的样本"
   ]
  },
  {
   "cell_type": "code",
   "execution_count": 27,
   "id": "8dee794a-594a-462b-898f-026f7377a25b",
   "metadata": {},
   "outputs": [
    {
     "data": {
      "text/plain": [
       "tensor([562., 562., 574., 569., 558.])"
      ]
     },
     "execution_count": 27,
     "metadata": {},
     "output_type": "execute_result"
    }
   ],
   "source": [
    "y_train_2[0] #32、33、34、35、36五个标签"
   ]
  },
  {
   "cell_type": "code",
   "execution_count": 29,
   "id": "d278f631-6ba9-4cae-b6b7-06c22ff614e8",
   "metadata": {
    "tags": []
   },
   "outputs": [
    {
     "data": {
      "text/plain": [
       "[32, 33, 34, 35, 36, 33, 34, 35, 36, 37]"
      ]
     },
     "execution_count": 29,
     "metadata": {},
     "output_type": "execute_result"
    }
   ],
   "source": [
    "y_train_indices[:10] #由于设置的pred_len是5，所以5个标签为一轮"
   ]
  },
  {
   "cell_type": "markdown",
   "id": "573b6d01-7941-4e21-af9b-51b6fe98640a",
   "metadata": {},
   "source": [
    "> **架构建立与参数设置**"
   ]
  },
  {
   "cell_type": "code",
   "execution_count": 31,
   "id": "7ca8e1dc-f580-46f8-8f71-9bd1169cfa44",
   "metadata": {},
   "outputs": [],
   "source": [
    "#选择了最为简单的网络架构来进行实验\n",
    "import torch.nn as nn\n",
    " \n",
    "class MyLSTM(nn.Module):\n",
    "    def __init__(self,input_dim, pred_len):\n",
    "        super().__init__()\n",
    "        self.lstm = nn.LSTM(input_size=input_dim, hidden_size=50, num_layers=1, batch_first=True)\n",
    "        self.linear = nn.Linear(50, pred_len)\n",
    "    def forward(self, x):\n",
    "        x, _ = self.lstm(x)\n",
    "        #现在我要的是最后一个时间步，而不是全部时间步了\n",
    "        x = self.linear(x[:,-1,:])\n",
    "        return x"
   ]
  },
  {
   "cell_type": "code",
   "execution_count": 32,
   "id": "5bfeed74-5d35-4046-8e7a-23edc6346185",
   "metadata": {},
   "outputs": [],
   "source": [
    "model = MyLSTM(input_dim = 9, pred_len = pred_len)"
   ]
  },
  {
   "cell_type": "code",
   "execution_count": 33,
   "id": "255bee30-e183-4cd0-85dd-b74100d1f026",
   "metadata": {},
   "outputs": [
    {
     "data": {
      "text/plain": [
       "torch.Size([768, 5])"
      ]
     },
     "execution_count": 33,
     "metadata": {},
     "output_type": "execute_result"
    }
   ],
   "source": [
    "model(X_train_2).shape #针对全部的791窗口，都输出4个预测值"
   ]
  },
  {
   "cell_type": "code",
   "execution_count": 36,
   "id": "40ec4fe7-1a5e-4e7c-91d3-987e630ea55e",
   "metadata": {},
   "outputs": [
    {
     "name": "stdout",
     "output_type": "stream",
     "text": [
      "cpu\n"
     ]
    }
   ],
   "source": [
    "#设置GPU\n",
    "device = torch.device('cuda' if torch.cuda.is_available() else 'cpu')\n",
    "print(device)"
   ]
  },
  {
   "cell_type": "code",
   "execution_count": 38,
   "id": "1d0ba6b8-03a3-4980-aace-49f5e2c1ff05",
   "metadata": {},
   "outputs": [],
   "source": [
    "#设置参数\n",
    "input_size = 1  #输入特征的维度\n",
    "hidden_size = 50 #LSTM隐藏状态的维度\n",
    "num_layers = 1 #LSTM层的数量\n",
    "output_size = 1 #模型的输出维度\n",
    "n_epochs = 2000 #迭代epoch\n",
    "learning_rate = 0.001 #学习率"
   ]
  },
  {
   "cell_type": "code",
   "execution_count": 39,
   "id": "4549172f-9218-41a3-b774-6ec3b7470902",
   "metadata": {},
   "outputs": [
    {
     "name": "stderr",
     "output_type": "stream",
     "text": [
      "D:\\ProgramData\\Anaconda3\\lib\\site-packages\\requests\\__init__.py:102: RequestsDependencyWarning: urllib3 (2.2.0) or chardet (4.0.0)/charset_normalizer (2.0.4) doesn't match a supported version!\n",
      "  warnings.warn(\"urllib3 ({}) or chardet ({})/charset_normalizer ({}) doesn't match a supported \"\n"
     ]
    }
   ],
   "source": [
    "#实例化模型\n",
    "model = MyLSTM(input_dim=9,pred_len = pred_len).to(device)\n",
    "optimizer = optim.Adam(model.parameters(),lr=learning_rate) #定义优化器\n",
    "loss_fn = nn.MSELoss() #定义损失函数\n",
    "loader = data.DataLoader(data.TensorDataset(X_train_2, y_train_2)\n",
    "                         #每个表单内部是保持时间顺序的即可，表单与表单之间可以shuffle\n",
    "                         , shuffle=True\n",
    "                         , batch_size=8) #将数据分批次"
   ]
  },
  {
   "cell_type": "code",
   "execution_count": 40,
   "id": "5f3d4b1c-2860-48c3-a845-7ac7390fcc73",
   "metadata": {},
   "outputs": [
    {
     "name": "stdout",
     "output_type": "stream",
     "text": [
      "torch.Size([8, 32, 9])\n",
      "tensor([[535., 544., 546., 547., 549.],\n",
      "        [546., 547., 549., 541., 543.],\n",
      "        [598., 600., 599., 600., 602.],\n",
      "        [651., 643., 650., 650., 640.],\n",
      "        [562., 551., 547., 539., 536.],\n",
      "        [665., 673., 722., 736., 737.],\n",
      "        [590., 596., 606., 604., 594.],\n",
      "        [545., 543., 547., 545., 536.]])\n"
     ]
    }
   ],
   "source": [
    "for x,y in loader:\n",
    "    print(x.shape)\n",
    "    print(y)\n",
    "    break"
   ]
  },
  {
   "cell_type": "markdown",
   "id": "bd87a0e1-f16d-4afc-a345-789e2319b7d6",
   "metadata": {},
   "source": [
    "> **实际训练流程**"
   ]
  },
  {
   "cell_type": "code",
   "execution_count": 41,
   "id": "db56823f-e0a7-41e1-abdf-0bd86de418ff",
   "metadata": {},
   "outputs": [],
   "source": [
    "# 初始化早停参数\n",
    "early_stopping_patience = 3  # 设置容忍的epoch数，即在这么多epoch后如果没有改进就停止\n",
    "early_stopping_counter = 0  # 用于跟踪没有改进的epoch数\n",
    "best_train_rmse = float('inf')  # 初始化最佳的训练RMSE"
   ]
  },
  {
   "cell_type": "code",
   "execution_count": 42,
   "id": "6ab766d1-f398-4de1-8019-b39d6a6a5860",
   "metadata": {},
   "outputs": [
    {
     "name": "stdout",
     "output_type": "stream",
     "text": [
      "Epoch 0: train RMSE 624.8842, test RMSE 518.7423\n",
      "Epoch 100: train RMSE 514.5184, test RMSE 408.8167\n",
      "Epoch 200: train RMSE 405.5827, test RMSE 300.8127\n",
      "Epoch 300: train RMSE 298.6700, test RMSE 196.3940\n",
      "Epoch 400: train RMSE 196.2972, test RMSE 104.2254\n",
      "Epoch 500: train RMSE 108.4778, test RMSE 76.9970\n",
      "Epoch 600: train RMSE 73.7087, test RMSE 122.7074\n",
      "Epoch 700: train RMSE 73.3154, test RMSE 128.8437\n",
      "Epoch 800: train RMSE 73.3153, test RMSE 128.9358\n",
      "Epoch 900: train RMSE 73.3153, test RMSE 128.9346\n",
      "Epoch 1000: train RMSE 73.3153, test RMSE 128.9217\n",
      "Epoch 1100: train RMSE 73.3153, test RMSE 128.9151\n",
      "Early stopping triggered after epoch 1100. Training RMSE did not decrease for 3 consecutive epochs.\n"
     ]
    }
   ],
   "source": [
    "for epoch in range(n_epochs):\n",
    "    model.train()\n",
    "    for X_batch, y_batch in loader:\n",
    "        y_pred = model(X_batch.to(device))\n",
    "        loss = loss_fn(y_pred, y_batch.to(device))\n",
    "        optimizer.zero_grad()\n",
    "        loss.backward()\n",
    "        optimizer.step()\n",
    "    #验证与打印\n",
    "    if epoch % 100 == 0:\n",
    "        model.eval()\n",
    "        with torch.no_grad():\n",
    "            y_pred = model(X_train_2.to(device)).cpu()\n",
    "            train_rmse = np.sqrt(loss_fn(y_pred, y_train_2))\n",
    "            y_pred = model(X_test_2.to(device)).cpu()\n",
    "            test_rmse = np.sqrt(loss_fn(y_pred, y_test_2))\n",
    "        print(\"Epoch %d: train RMSE %.4f, test RMSE %.4f\" % (epoch, train_rmse, test_rmse))\n",
    "    \n",
    "        # 早停检查\n",
    "        if train_rmse < best_train_rmse:\n",
    "            best_train_rmse = train_rmse\n",
    "            early_stopping_counter = 0  # 重置计数器\n",
    "        else:\n",
    "            early_stopping_counter += 1  # 增加计数器\n",
    "            if early_stopping_counter >= early_stopping_patience:\n",
    "                print(f\"Early stopping triggered after epoch {epoch}. Training RMSE did not decrease for {early_stopping_patience} consecutive epochs.\")\n",
    "                break  # 跳出训练循环"
   ]
  },
  {
   "cell_type": "markdown",
   "id": "f5217f7c-636c-4cdb-b024-d5c5b4fc6973",
   "metadata": {},
   "source": [
    "> **输出预测值，绘制预测图像**"
   ]
  },
  {
   "cell_type": "code",
   "execution_count": 43,
   "id": "6edf333b-9358-48cc-a6bf-ef1192adf843",
   "metadata": {},
   "outputs": [],
   "source": [
    "import pandas as pd\n",
    "\n",
    "def get_predictions(model, X, y_indices):\n",
    "    # 将模型移至CPU\n",
    "    model.cpu()\n",
    "    \n",
    "    # 对输入数据X进行预测，调整形状，脱离计算图，并转换为numpy数组，然后移除单一维度\n",
    "    y_pred = model(X).view(-1, 1).detach().numpy().squeeze()\n",
    "    \n",
    "    # 创建一个DataFrame，包含时间步和对应的预测值\n",
    "    result = pd.DataFrame(zip(y_indices, y_pred), columns=[\"time_step\", \"prediction\"])\n",
    "    \n",
    "    # 按时间步分组，并计算每个时间步的预测值的平均值，以处理重复预测的情况\n",
    "    result = result.groupby(by=\"time_step\").mean()\n",
    "    print(result.shape)\n",
    "    \n",
    "    return result"
   ]
  },
  {
   "cell_type": "code",
   "execution_count": 45,
   "id": "c608887e-f2f7-4bee-9620-3d6d569cbdaa",
   "metadata": {},
   "outputs": [],
   "source": [
    "#get_predictions函数代码解析"
   ]
  },
  {
   "cell_type": "code",
   "execution_count": 46,
   "id": "61e5527b-abfb-4879-ab66-c3a1e480b2c4",
   "metadata": {},
   "outputs": [],
   "source": [
    "model.cpu()\n",
    "y_pred_train = model(X_train_2).view(-1, 1).detach().numpy().squeeze()\n",
    "y_pred_test = model(X_test_2).view(-1, 1).detach().numpy().squeeze()"
   ]
  },
  {
   "cell_type": "code",
   "execution_count": 47,
   "id": "94cfc4c9-bd5d-4ee1-b6b6-00c23ea3a271",
   "metadata": {},
   "outputs": [
    {
     "data": {
      "text/plain": [
       "array([622.04004, 621.93176, 621.79816, ..., 621.79816, 621.6527 ,\n",
       "       621.5235 ], dtype=float32)"
      ]
     },
     "execution_count": 47,
     "metadata": {},
     "output_type": "execute_result"
    }
   ],
   "source": [
    "y_pred_train"
   ]
  },
  {
   "cell_type": "code",
   "execution_count": 48,
   "id": "2b4383a3-5206-47b3-93ac-8214b75f5972",
   "metadata": {},
   "outputs": [
    {
     "data": {
      "text/plain": [
       "(3840,)"
      ]
     },
     "execution_count": 48,
     "metadata": {},
     "output_type": "execute_result"
    }
   ],
   "source": [
    "y_pred_train.shape"
   ]
  },
  {
   "cell_type": "code",
   "execution_count": 49,
   "id": "7266c4b2-33ba-4d9f-b332-7f07847bf938",
   "metadata": {},
   "outputs": [
    {
     "data": {
      "text/plain": [
       "3840"
      ]
     },
     "execution_count": 49,
     "metadata": {},
     "output_type": "execute_result"
    }
   ],
   "source": [
    "y_train_indices.__len__()"
   ]
  },
  {
   "cell_type": "code",
   "execution_count": 50,
   "id": "e72fcda8-915a-44c2-951d-77b42be8f224",
   "metadata": {},
   "outputs": [],
   "source": [
    "train_result = pd.DataFrame(zip(y_train_indices,y_pred_train),columns = [\"time_step\",\"prediction\"])"
   ]
  },
  {
   "cell_type": "code",
   "execution_count": 51,
   "id": "7680b269-2e10-480e-a7bc-0085c2a26724",
   "metadata": {},
   "outputs": [
    {
     "data": {
      "text/html": [
       "<div>\n",
       "<style scoped>\n",
       "    .dataframe tbody tr th:only-of-type {\n",
       "        vertical-align: middle;\n",
       "    }\n",
       "\n",
       "    .dataframe tbody tr th {\n",
       "        vertical-align: top;\n",
       "    }\n",
       "\n",
       "    .dataframe thead th {\n",
       "        text-align: right;\n",
       "    }\n",
       "</style>\n",
       "<table border=\"1\" class=\"dataframe\">\n",
       "  <thead>\n",
       "    <tr style=\"text-align: right;\">\n",
       "      <th></th>\n",
       "      <th>time_step</th>\n",
       "      <th>prediction</th>\n",
       "    </tr>\n",
       "  </thead>\n",
       "  <tbody>\n",
       "    <tr>\n",
       "      <th>0</th>\n",
       "      <td>32</td>\n",
       "      <td>622.040039</td>\n",
       "    </tr>\n",
       "    <tr>\n",
       "      <th>1</th>\n",
       "      <td>33</td>\n",
       "      <td>621.931763</td>\n",
       "    </tr>\n",
       "    <tr>\n",
       "      <th>2</th>\n",
       "      <td>34</td>\n",
       "      <td>621.798157</td>\n",
       "    </tr>\n",
       "    <tr>\n",
       "      <th>3</th>\n",
       "      <td>35</td>\n",
       "      <td>621.652710</td>\n",
       "    </tr>\n",
       "    <tr>\n",
       "      <th>4</th>\n",
       "      <td>36</td>\n",
       "      <td>621.523499</td>\n",
       "    </tr>\n",
       "  </tbody>\n",
       "</table>\n",
       "</div>"
      ],
      "text/plain": [
       "   time_step  prediction\n",
       "0         32  622.040039\n",
       "1         33  621.931763\n",
       "2         34  621.798157\n",
       "3         35  621.652710\n",
       "4         36  621.523499"
      ]
     },
     "execution_count": 51,
     "metadata": {},
     "output_type": "execute_result"
    }
   ],
   "source": [
    "train_result.head()"
   ]
  },
  {
   "cell_type": "code",
   "execution_count": 52,
   "id": "aadd9514-7ae0-40cc-827d-02470678e8dc",
   "metadata": {},
   "outputs": [
    {
     "data": {
      "text/plain": [
       "0      571.0\n",
       "1      568.0\n",
       "2      575.0\n",
       "3      562.0\n",
       "4      553.0\n",
       "       ...  \n",
       "799    472.0\n",
       "800    477.0\n",
       "801    459.0\n",
       "802    464.0\n",
       "803    468.0\n",
       "Name: Close, Length: 804, dtype: float64"
      ]
     },
     "execution_count": 52,
     "metadata": {},
     "output_type": "execute_result"
    }
   ],
   "source": [
    "train[\"Close\"]"
   ]
  },
  {
   "cell_type": "code",
   "execution_count": 53,
   "id": "6c2dc9ce-ba0a-455d-844c-9a4432d6cfa0",
   "metadata": {},
   "outputs": [
    {
     "data": {
      "text/html": [
       "<div>\n",
       "<style scoped>\n",
       "    .dataframe tbody tr th:only-of-type {\n",
       "        vertical-align: middle;\n",
       "    }\n",
       "\n",
       "    .dataframe tbody tr th {\n",
       "        vertical-align: top;\n",
       "    }\n",
       "\n",
       "    .dataframe thead th {\n",
       "        text-align: right;\n",
       "    }\n",
       "</style>\n",
       "<table border=\"1\" class=\"dataframe\">\n",
       "  <thead>\n",
       "    <tr style=\"text-align: right;\">\n",
       "      <th></th>\n",
       "      <th>prediction</th>\n",
       "    </tr>\n",
       "    <tr>\n",
       "      <th>time_step</th>\n",
       "      <th></th>\n",
       "    </tr>\n",
       "  </thead>\n",
       "  <tbody>\n",
       "    <tr>\n",
       "      <th>32</th>\n",
       "      <td>622.040039</td>\n",
       "    </tr>\n",
       "    <tr>\n",
       "      <th>33</th>\n",
       "      <td>621.985901</td>\n",
       "    </tr>\n",
       "    <tr>\n",
       "      <th>34</th>\n",
       "      <td>621.923340</td>\n",
       "    </tr>\n",
       "    <tr>\n",
       "      <th>35</th>\n",
       "      <td>621.855652</td>\n",
       "    </tr>\n",
       "    <tr>\n",
       "      <th>36</th>\n",
       "      <td>621.789246</td>\n",
       "    </tr>\n",
       "    <tr>\n",
       "      <th>...</th>\n",
       "      <td>...</td>\n",
       "    </tr>\n",
       "    <tr>\n",
       "      <th>799</th>\n",
       "      <td>621.789246</td>\n",
       "    </tr>\n",
       "    <tr>\n",
       "      <th>800</th>\n",
       "      <td>621.726562</td>\n",
       "    </tr>\n",
       "    <tr>\n",
       "      <th>801</th>\n",
       "      <td>621.658142</td>\n",
       "    </tr>\n",
       "    <tr>\n",
       "      <th>802</th>\n",
       "      <td>621.588135</td>\n",
       "    </tr>\n",
       "    <tr>\n",
       "      <th>803</th>\n",
       "      <td>621.523499</td>\n",
       "    </tr>\n",
       "  </tbody>\n",
       "</table>\n",
       "<p>772 rows × 1 columns</p>\n",
       "</div>"
      ],
      "text/plain": [
       "           prediction\n",
       "time_step            \n",
       "32         622.040039\n",
       "33         621.985901\n",
       "34         621.923340\n",
       "35         621.855652\n",
       "36         621.789246\n",
       "...               ...\n",
       "799        621.789246\n",
       "800        621.726562\n",
       "801        621.658142\n",
       "802        621.588135\n",
       "803        621.523499\n",
       "\n",
       "[772 rows x 1 columns]"
      ]
     },
     "execution_count": 53,
     "metadata": {},
     "output_type": "execute_result"
    }
   ],
   "source": [
    "train_result.groupby(by=\"time_step\").mean()"
   ]
  },
  {
   "cell_type": "code",
   "execution_count": 55,
   "id": "bafc340d-af65-40a1-95ba-09da7d8e430a",
   "metadata": {},
   "outputs": [
    {
     "name": "stdout",
     "output_type": "stream",
     "text": [
      "(772, 1)\n",
      "(365, 1)\n"
     ]
    }
   ],
   "source": [
    "train_result = get_predictions(model,X_train_2,y_train_indices)\n",
    "test_result = get_predictions(model,X_test_2,y_test_indices)"
   ]
  },
  {
   "cell_type": "code",
   "execution_count": 57,
   "id": "67e986f6-d1d9-4ab4-add2-cd1fa4cd227e",
   "metadata": {},
   "outputs": [
    {
     "data": {
      "image/png": "[encoded data removed]",
      "text/plain": [
       "<Figure size 1008x504 with 1 Axes>"
      ]
     },
     "metadata": {
      "needs_background": "light"
     },
     "output_type": "display_data"
    }
   ],
   "source": [
    "with torch.no_grad():\n",
    "    plt.figure(figsize=(14, 7))\n",
    "    plt.xlabel('Date')\n",
    "    plt.ylabel('Close Price')\n",
    "    # 绘制训练集上的损失的图像\n",
    "    train_plot = np.ones_like(single_stock.index) * np.nan\n",
    "    train_plot[window_size:train_size] = train_result.loc[:,\"prediction\"]\n",
    "    # 绘制测试集上的损失的图像\n",
    "    test_plot = np.ones_like(single_stock.index) * np.nan\n",
    "    test_plot[train_size:(train_size + test_size - window_size)] = test_result.loc[:,\"prediction\"]\n",
    "plt.plot(single_stock.loc[:,\"Close\"], c='b')\n",
    "plt.plot(train_plot, c='r')\n",
    "plt.plot(test_plot, c='g')\n",
    "plt.show()"
   ]
  },
  {
   "cell_type": "markdown",
   "id": "559f67f9-bc20-4dea-91b3-6faef80de6c2",
   "metadata": {},
   "source": [
    "- **从多步预测到递归多步预测**"
   ]
  },
  {
   "cell_type": "markdown",
   "id": "d348f72b-fe31-4506-bc2b-bf07049a8e1a",
   "metadata": {},
   "source": [
    "从多步直接预测转向多步递归预测时，会遇到一系列挑战和考量，这些不仅涉及模型架构的调整，还包括数据处理、预测策略和性能评估等多个方面的变化。在多步递归预测中，模型不再一次性输出所有未来时间点的预测值，而是逐步使用前一步的预测结果作为下一步预测的输入。这种预测方式带来了以下挑战：\n",
    "\n",
    "**预测依赖性增加**：由于每一步的预测都依赖于前一步的输出，错误可能会在预测过程中逐步累积，导致长期预测的准确性降低。这种依赖性要求模型具有很高的短期预测准确性，以减少误差传播。\n",
    "\n",
    "**滑窗策略的调整**：在多步递归预测中，滑窗的策略需要灵活调整，以适应逐步生成预测值的需要。每次预测后，新的预测值需要被整合到后续窗口的输入中，这可能要求动态调整窗口的内容。\n",
    "\n",
    "**损失函数和训练过程的复杂性**：在递归预测中，损失函数的计算可能需要在每一步预测后即时进行，以便及时调整模型参数。这种即时反馈机制增加了训练过程的复杂性，并可能需要特别设计的训练循环。\n",
    "\n",
    "**早停机制的适应性**：传统的早停机制可能需要针对递归预测进行调整，因为模型性能的评估现在涉及到连续多步的预测结果。确定何时停止训练以避免过拟合，可能需要考虑递归预测的特殊性质和误差累积的影响。\n",
    "\n",
    "**最终预测值的确定性问题**：在多步递归预测中，由于每一步预测都是基于先前的预测结果，因此如何从一系列递归生成的预测中确定最终的预测值可能会更加复杂。可能需要采取额外的策略，比如使用多种模型的预测结果进行综合，以提高预测的可靠性。\n",
    "\n",
    "**实时数据的整合问题**：在实际应用中，如果有新的实时数据可用，将这些数据有效地整合到递归预测过程中，以及如何平衡模型对新数据和自身预测结果的依赖，是另一个需要考虑的挑战。\n",
    "\n",
    "总的来说，从多步直接预测到多步递归预测的转变，虽然为模型提供了更大的灵活性和适应性，但也带来了一系列挑战，需要通过精心的模型设计和训练策略来克服。"
   ]
  },
  {
   "cell_type": "code",
   "execution_count": null,
   "id": "d7fc3508-6144-4495-8a2c-385e135592bc",
   "metadata": {},
   "outputs": [],
   "source": [
    "import torch\n",
    "import torch.nn as nn\n",
    "import numpy as np\n",
    "import pandas as pd\n",
    "\n",
    "# 假设 single_stock 是原始的 DataFrame，包含 130 行和 6 列，其中最后一列是标签\n",
    "single_stock = pd.DataFrame(np.random.rand(130, 6), columns=[f'Feature_{i}' for i in range(1, 6)] + ['Label'])\n",
    "\n",
    "class MyLSTM(nn.Module):\n",
    "    def __init__(self, input_dim, pred_len):\n",
    "        super().__init__()\n",
    "        self.lstm = nn.LSTM(input_size=input_dim, hidden_size=50, num_layers=1, batch_first=True)\n",
    "        self.linear = nn.Linear(50, pred_len)\n",
    "\n",
    "    def forward(self, x):\n",
    "        x, _ = self.lstm(x)\n",
    "        x = self.linear(x[:, -1, :])  # 使用最后一个时间步\n",
    "        return x\n",
    "\n",
    "def train_lstm_with_dynamic_window(single_stock, window_size=10, pred_len=5):\n",
    "    device = torch.device('cuda' if torch.cuda.is_available() else 'cpu')\n",
    "    input_dim = single_stock.shape[1] - 1  # 减去1是因为最后一列是标签\n",
    "    model = MyLSTM(input_dim=input_dim, pred_len=pred_len).to(device)\n",
    "    optimizer = torch.optim.Adam(model.parameters(), lr=0.001)\n",
    "    loss_fn = nn.MSELoss()\n",
    "\n",
    "    # 将 DataFrame 转换为张量\n",
    "    data_tensor = torch.tensor(single_stock.values, dtype=torch.float32)\n",
    "\n",
    "    for start_idx in range(0, len(single_stock) - window_size - pred_len + 1):\n",
    "        # 分割出当前窗口的数据\n",
    "        current_window = data_tensor[start_idx:start_idx + window_size].unsqueeze(0).to(device)  # 增加批次维度\n",
    "        # 目标标签为窗口之后的 pred_len 个标签\n",
    "        target = data_tensor[start_idx + window_size:start_idx + window_size + pred_len, -1].unsqueeze(0).to(device)\n",
    "\n",
    "        # 预测\n",
    "        model.train()\n",
    "        optimizer.zero_grad()\n",
    "        output = model(current_window)\n",
    "        loss = loss_fn(output, target)\n",
    "        loss.backward()\n",
    "        optimizer.step()\n",
    "\n",
    "        # 使用预测结果更新原始数据中对应的标签\n",
    "        data_tensor[start_idx + window_size:start_idx + window_size + pred_len, -1] = output.detach().squeeze()\n",
    "\n",
    "    # 返回更新后的数据\n",
    "    return data_tensor"
   ]
  },
  {
   "cell_type": "markdown",
   "id": "f7ebaff5-cbd0-4b54-b542-04be351592ba",
   "metadata": {},
   "source": [
    "【后续待补充，递归预测的完整代码~】"
   ]
  },
  {
   "cell_type": "markdown",
   "id": "dad4ed6f-5018-451e-adef-8db4a9413514",
   "metadata": {},
   "source": [
    "### 1.5.4 LSTM在股价数据集上的预测实战"
   ]
  },
  {
   "cell_type": "code",
   "execution_count": 4,
   "id": "31983e79-f444-498b-b130-4e8cf2e2f2fb",
   "metadata": {},
   "outputs": [],
   "source": [
    "import numpy as np #数据处理\n",
    "import pandas as pd #数据处理\n",
    "import matplotlib as mlp\n",
    "import matplotlib.pyplot as plt #绘图\n",
    "from sklearn.preprocessing import MinMaxScaler #·数据预处理\n",
    "from sklearn.metrics import mean_squared_error\n",
    "import torch \n",
    "import torch.nn as nn #导入pytorch中的基本类\n",
    "from torch.autograd import Variable\n",
    "from torch.utils.data import DataLoader, TensorDataset\n",
    "import torch.optim as optim\n",
    "import torch.utils.data as data\n",
    "# typing 模块提供了一些类型，辅助函数中的参数类型定义\n",
    "from typing import Union,List,Tuple,Iterable\n",
    "from sklearn.preprocessing import LabelEncoder,MinMaxScaler\n",
    "from decimal import ROUND_HALF_UP, Decimal"
   ]
  },
  {
   "cell_type": "code",
   "execution_count": 5,
   "id": "8965b16f-0297-4cd7-8f15-d02ff68f7187",
   "metadata": {},
   "outputs": [
    {
     "data": {
      "text/plain": [
       "'2.2.0+cu121'"
      ]
     },
     "execution_count": 5,
     "metadata": {},
     "output_type": "execute_result"
    }
   ],
   "source": [
    "torch.__version__"
   ]
  },
  {
   "cell_type": "code",
   "execution_count": 139,
   "id": "b547c6a7-f194-46a0-b86e-25d950f878ba",
   "metadata": {},
   "outputs": [],
   "source": [
    "stock= pd.read_csv('stock_prices.csv')\n",
    "stock_list = pd.read_csv('stock_list.csv') "
   ]
  },
  {
   "cell_type": "code",
   "execution_count": 140,
   "id": "b4b3e56a-e397-4161-b4cb-83e55b87441c",
   "metadata": {},
   "outputs": [
    {
     "data": {
      "text/html": [
       "<div>\n",
       "<style scoped>\n",
       "    .dataframe tbody tr th:only-of-type {\n",
       "        vertical-align: middle;\n",
       "    }\n",
       "\n",
       "    .dataframe tbody tr th {\n",
       "        vertical-align: top;\n",
       "    }\n",
       "\n",
       "    .dataframe thead th {\n",
       "        text-align: right;\n",
       "    }\n",
       "</style>\n",
       "<table border=\"1\" class=\"dataframe\">\n",
       "  <thead>\n",
       "    <tr style=\"text-align: right;\">\n",
       "      <th></th>\n",
       "      <th>RowId</th>\n",
       "      <th>Date</th>\n",
       "      <th>SecuritiesCode</th>\n",
       "      <th>Open</th>\n",
       "      <th>High</th>\n",
       "      <th>Low</th>\n",
       "      <th>Close</th>\n",
       "      <th>Volume</th>\n",
       "      <th>AdjustmentFactor</th>\n",
       "      <th>ExpectedDividend</th>\n",
       "      <th>SupervisionFlag</th>\n",
       "      <th>Target</th>\n",
       "    </tr>\n",
       "  </thead>\n",
       "  <tbody>\n",
       "    <tr>\n",
       "      <th>0</th>\n",
       "      <td>20170104_1301</td>\n",
       "      <td>2017-01-04</td>\n",
       "      <td>1301</td>\n",
       "      <td>2734.0</td>\n",
       "      <td>2755.0</td>\n",
       "      <td>2730.0</td>\n",
       "      <td>2742.0</td>\n",
       "      <td>31400</td>\n",
       "      <td>1.0</td>\n",
       "      <td>NaN</td>\n",
       "      <td>False</td>\n",
       "      <td>0.000730</td>\n",
       "    </tr>\n",
       "    <tr>\n",
       "      <th>1</th>\n",
       "      <td>20170104_1332</td>\n",
       "      <td>2017-01-04</td>\n",
       "      <td>1332</td>\n",
       "      <td>568.0</td>\n",
       "      <td>576.0</td>\n",
       "      <td>563.0</td>\n",
       "      <td>571.0</td>\n",
       "      <td>2798500</td>\n",
       "      <td>1.0</td>\n",
       "      <td>NaN</td>\n",
       "      <td>False</td>\n",
       "      <td>0.012324</td>\n",
       "    </tr>\n",
       "    <tr>\n",
       "      <th>2</th>\n",
       "      <td>20170104_1333</td>\n",
       "      <td>2017-01-04</td>\n",
       "      <td>1333</td>\n",
       "      <td>3150.0</td>\n",
       "      <td>3210.0</td>\n",
       "      <td>3140.0</td>\n",
       "      <td>3210.0</td>\n",
       "      <td>270800</td>\n",
       "      <td>1.0</td>\n",
       "      <td>NaN</td>\n",
       "      <td>False</td>\n",
       "      <td>0.006154</td>\n",
       "    </tr>\n",
       "    <tr>\n",
       "      <th>3</th>\n",
       "      <td>20170104_1376</td>\n",
       "      <td>2017-01-04</td>\n",
       "      <td>1376</td>\n",
       "      <td>1510.0</td>\n",
       "      <td>1550.0</td>\n",
       "      <td>1510.0</td>\n",
       "      <td>1550.0</td>\n",
       "      <td>11300</td>\n",
       "      <td>1.0</td>\n",
       "      <td>NaN</td>\n",
       "      <td>False</td>\n",
       "      <td>0.011053</td>\n",
       "    </tr>\n",
       "    <tr>\n",
       "      <th>4</th>\n",
       "      <td>20170104_1377</td>\n",
       "      <td>2017-01-04</td>\n",
       "      <td>1377</td>\n",
       "      <td>3270.0</td>\n",
       "      <td>3350.0</td>\n",
       "      <td>3270.0</td>\n",
       "      <td>3330.0</td>\n",
       "      <td>150800</td>\n",
       "      <td>1.0</td>\n",
       "      <td>NaN</td>\n",
       "      <td>False</td>\n",
       "      <td>0.003026</td>\n",
       "    </tr>\n",
       "  </tbody>\n",
       "</table>\n",
       "</div>"
      ],
      "text/plain": [
       "           RowId        Date  SecuritiesCode    Open    High     Low   Close  \\\n",
       "0  20170104_1301  2017-01-04            1301  2734.0  2755.0  2730.0  2742.0   \n",
       "1  20170104_1332  2017-01-04            1332   568.0   576.0   563.0   571.0   \n",
       "2  20170104_1333  2017-01-04            1333  3150.0  3210.0  3140.0  3210.0   \n",
       "3  20170104_1376  2017-01-04            1376  1510.0  1550.0  1510.0  1550.0   \n",
       "4  20170104_1377  2017-01-04            1377  3270.0  3350.0  3270.0  3330.0   \n",
       "\n",
       "    Volume  AdjustmentFactor  ExpectedDividend  SupervisionFlag    Target  \n",
       "0    31400               1.0               NaN            False  0.000730  \n",
       "1  2798500               1.0               NaN            False  0.012324  \n",
       "2   270800               1.0               NaN            False  0.006154  \n",
       "3    11300               1.0               NaN            False  0.011053  \n",
       "4   150800               1.0               NaN            False  0.003026  "
      ]
     },
     "execution_count": 140,
     "metadata": {},
     "output_type": "execute_result"
    }
   ],
   "source": [
    "stock.head()"
   ]
  },
  {
   "cell_type": "code",
   "execution_count": 143,
   "id": "7ffa5be2-881a-444e-8b89-8f321d3717b3",
   "metadata": {},
   "outputs": [
    {
     "data": {
      "text/plain": [
       "RowId                     0\n",
       "Date                      0\n",
       "SecuritiesCode            0\n",
       "Open                   7608\n",
       "High                   7608\n",
       "Low                    7608\n",
       "Close                  7608\n",
       "Volume                    0\n",
       "AdjustmentFactor          0\n",
       "ExpectedDividend    2313666\n",
       "SupervisionFlag           0\n",
       "Target                  238\n",
       "dtype: int64"
      ]
     },
     "execution_count": 143,
     "metadata": {},
     "output_type": "execute_result"
    }
   ],
   "source": [
    "stock.isnull().sum()"
   ]
  },
  {
   "cell_type": "code",
   "execution_count": 8,
   "id": "db66407d-1216-42f5-a8bc-a7a87179bd9f",
   "metadata": {},
   "outputs": [],
   "source": [
    "# 定义为数据进行预处理的函数\n",
    "def preprocess(data):\n",
    "    '''\n",
    "    对训练集数据进行处理：\n",
    "        将日期转换为datetime格式；\n",
    "        使用0来填充ExpectedDividend和Target中的缺失值；\n",
    "        将SupervisionFlag从布尔型转换为整数型；\n",
    "        填充Open、High、Low和Close列中的缺失值；\n",
    "    '''\n",
    "    # 将日期从字符串格式转换为datetime格式\n",
    "    # data['Date'] = pd.to_datetime(data['Date'])\n",
    "    \n",
    "    # 将 Date 列转换为 datetime 格式\n",
    "    # 因为我们在前面查看数据类型的时候发现Date为object类型\n",
    "    data.loc[: ,\"Date\"] = pd.to_datetime(data.loc[: ,\"Date\"], format=\"%Y-%m-%d\")\n",
    "    \n",
    "    # 使用0来填充ExpectedDividend和Target中的缺失值\n",
    "    # 因为我们这个函数可能会同时在不同的特征工程下被调用\n",
    "    # 比如测试集就没有Target，所以使用try-except 语句避免报错\n",
    "    try: \n",
    "        data['ExpectedDividend'] = data['ExpectedDividend'].fillna(0)\n",
    "    except:\n",
    "        pass\n",
    "    try:\n",
    "        data['Target'] = data['Target'].fillna(0)\n",
    "    except:\n",
    "        pass\n",
    "    \n",
    "    # 将SupervisionFlag从布尔型转换为整数型（True转为1，False转为0）\n",
    "    data[\"SupervisionFlag\"] = data[\"SupervisionFlag\"].astype(int)\n",
    "    \n",
    "    # 填充Open、High、Low和Close列中的缺失值\n",
    "    cols = ['Open', 'High', 'Low', 'Close']\n",
    "    data.loc[:,cols] = data.loc[:,cols].ffill().bfill()\n",
    "    \n",
    "    # 删除不需要的列RowId\n",
    "    data = data.drop(['RowId'], axis=1)\n",
    "    return data"
   ]
  },
  {
   "cell_type": "code",
   "execution_count": 9,
   "id": "d566c13a-69d1-4c6f-acc9-b99e79ed075c",
   "metadata": {},
   "outputs": [],
   "source": [
    "def timeseries_feature(timeseries):\n",
    "    \"\"\":params timeseris: 必须是时间戳格式才能调用dt方法\"\"\"\n",
    "    timeseries = pd.to_datetime(timeseries, format=\"%Y-%m-%d\")\n",
    "    features_new = pd.DataFrame([])\n",
    "    cols_name = timeseries.name\n",
    "\n",
    "    # 提取年份、月份和日期\n",
    "    features_new[cols_name + '_year'] = timeseries.dt.year\n",
    "    features_new[cols_name + '_month'] = timeseries.dt.month\n",
    "    features_new[cols_name + '_day'] = timeseries.dt.day\n",
    "\n",
    "    # 提取自然周期\n",
    "    features_new[cols_name + '_quarter'] = timeseries.dt.quarter\n",
    "    features_new[cols_name + '_weekofyear'] = timeseries.dt.isocalendar()[\"week\"]\n",
    "    features_new[cols_name + '_dayofweek'] = timeseries.dt.dayofweek\n",
    "    # features_new[cols_name + '_weekend'] = (features_new[cols_name + '_dayofweek'] >= 5).astype(int)\n",
    "\n",
    "    return features_new"
   ]
  },
  {
   "cell_type": "code",
   "execution_count": 10,
   "id": "f91e070b-4623-47f7-8813-f66c4fa07203",
   "metadata": {},
   "outputs": [],
   "source": [
    "def create_feature(df_temp:pd.DataFrame\n",
    "                   ,periods:Union[List,Tuple,Iterable])->pd.DataFrame:\n",
    "    \"\"\"\n",
    "    :param df_temp: pd.DataFrame, 输入的数据框，其中需要包含金融时间序列数据。\n",
    "                    数据框需要至少包含日期、股票代码、收盘价、调整收盘价、最高价、最低价等列。\n",
    "                    其中日期会被用于排序，股票代码用于分组操作，而其他列用于特征工程。\n",
    "\n",
    "    :param periods: Union[List, Tuple, Iterable], 一个可迭代的对象（如列表、元组等），包含了想要用于计算历史数据平移和窗口统计的时间段。\n",
    "                    例如，如果想要考虑过去5天、10天和20天的数据，那么periods就应该是[5, 10, 20]。\n",
    "\n",
    "    :return: pd.DataFrame, 增加了新特征的数据框。\n",
    "    \"\"\"\n",
    "    df = df_temp.copy()\n",
    "    df.sort_values(by='Date',inplace=True)\n",
    "    key_col = 'SecuritiesCode'\n",
    "\n",
    "    # 历史平移\n",
    "    for period in periods:\n",
    "        df.loc[:,f'history_close_{period}']=df.groupby(key_col)['Close'].shift(period)\n",
    "\n",
    "        #窗口统计\n",
    "        for stat in ['mean', 'std', 'max', 'min', 'median']:\n",
    "            df.loc[:,f'window_close_{period}_{stat}'] = df.groupby(key_col)['AdjustedClose'].rolling(window=period).agg(stat).values\n",
    "\n",
    "        # max-min feature\n",
    "        df.loc[:,f'window_close_{period}_max-min'] = df[f'window_close_{period}_max']-df[f'window_close_{period}_min'].values\n",
    "        \n",
    "        # 波动率\n",
    "        avg_value = (df[f'window_close_{period}_max'] + df[f'window_close_{period}_min']) / 2\n",
    "        df.loc[:,f'window_close_{period}_fluctuation_rate'] = df[f'window_close_{period}_max-min'] / avg_value\n",
    "        \n",
    "        #增长率特征\n",
    "        df.loc[:,f'window_close{period}_pctchange'] = df.groupby(key_col)['AdjustedClose'].pct_change(period).values\n",
    "\n",
    "        # diff 特征\n",
    "        df.loc[:,f'window_close{period}_diff'] = df.groupby(key_col)['AdjustedClose'].diff(period).values\n",
    "        df.loc[:,f\"Volatility_{period}Day\"] = np.log(df['AdjustedClose']).groupby(df[key_col]).diff().rolling(period).std()\n",
    "\n",
    "        # 扩张窗口特征\n",
    "        df.loc[:,f\"ExpMovingAvg_{period}Day\"] = df.groupby(key_col)['AdjustedClose'].ewm(span=period,adjust=False).mean().values  \n",
    "    \n",
    "    # 尝试使用times参数，衰减因子只能选择halflife，这里我们设置为5D(天)【5天为一周】\n",
    "    # 发现效果并不好\n",
    "#     times = pd.to_datetime(df['Date'])\n",
    "#     df.loc[:,\"ExpMovingAvg_{}Day\".format(period)] = df.groupby(key_col)['AdjustedClose'].ewm(times=times,halflife='5D').mean().values\n",
    "\n",
    "    df.loc[:,f'expand_mean'] = df.groupby(key_col)['Close'].expanding().mean().values\n",
    "    \n",
    "    df['Upper_Shadow'] = df['High'] - df[['Close', 'Open']].max(axis=1)\n",
    "    df['Lower_Shadow'] = df[['Close', 'Open']].min(axis=1) - df['Low']\n",
    "    \n",
    "    # 基础时间特征\n",
    "    time_feature = timeseries_feature(df['Date'])\n",
    "    return pd.concat((df,time_feature),axis=1)"
   ]
  },
  {
   "cell_type": "code",
   "execution_count": 11,
   "id": "556284a4-f479-4db4-a3c6-84e69b9ac17f",
   "metadata": {},
   "outputs": [],
   "source": [
    "# 定义baseline中使用的adjust_price函数\n",
    "def adjust_price(price):\n",
    "    \"\"\"\n",
    "    参数：\n",
    "    price (pd.DataFrame) : 包含股票价格信息的 pd.DataFrame。\n",
    "\n",
    "    返回：\n",
    "    price DataFrame (pd.DataFrame): 含有新生成的 AdjustedClose 的股票价格DataFrame\n",
    "\n",
    "    函数功能：\n",
    "    该函数将输入的原始股价数据进行处理，生成带有调整后收盘价(AdjustedClose)的新DataFrame。\n",
    "    AdjustedClose的计算方式为原收盘价与调整因子(AdjustmentFactor)的累计乘积，结果保留一位小数。\n",
    "    若计算后的AdjustedClose为0，则替换为空值(np.nan)，并对此列数据进行向前填充，以保持数据完整性。\n",
    "    \"\"\"\n",
    "    # 将 Date 列转换为 datetime 格式\n",
    "    # 因为我们在前面查看数据类型的时候发现Date为object类型\n",
    "    price.loc[: ,\"Date\"] = pd.to_datetime(price.loc[: ,\"Date\"], format=\"%Y-%m-%d\")\n",
    "\n",
    "    def generate_adjusted_close(df):\n",
    "        \"\"\"\n",
    "        参数:\n",
    "            df (pd.DataFrame)  : 单个 SecuritiesCode 的股票价格\n",
    "        返回:\n",
    "            df (pd.DataFrame) : 单个 SecuritiesCode 的带有 AdjustedClose 的股票价格\n",
    "        \"\"\"\n",
    "        # 排序数据以生成 CumulativeAdjustmentFactor\n",
    "        df = df.sort_values(\"Date\", ascending=False)\n",
    "        # 生成 CumulativeAdjustmentFactor\n",
    "        df.loc[:, \"CumulativeAdjustmentFactor\"] = df[\"AdjustmentFactor\"].cumprod()#累乘\n",
    "        # 生成 AdjustedClose\n",
    "        df.loc[:, \"AdjustedClose\"] = (\n",
    "            df[\"CumulativeAdjustmentFactor\"] * df[\"Close\"]\n",
    "        ).map(lambda x: float(\n",
    "            Decimal(str(x)).quantize(Decimal('0.1'), rounding=ROUND_HALF_UP)\n",
    "        ))\n",
    "        # 反转顺序\n",
    "        df = df.sort_values(\"Date\")\n",
    "        # 填充 AdjustedClose，将 0 替换为 np.nan\n",
    "        df.loc[df[\"AdjustedClose\"] == 0, \"AdjustedClose\"] = np.nan\n",
    "        # 向前填充 AdjustedClose\n",
    "        df.loc[:, \"AdjustedClose\"] = df.loc[:, \"AdjustedClose\"].ffill()\n",
    "        return df\n",
    "    \n",
    "    # 生成 AdjustedClose\n",
    "    price = price.sort_values([\"SecuritiesCode\", \"Date\"])\n",
    "    price = price.groupby(\"SecuritiesCode\").apply(generate_adjusted_close).reset_index(drop=True)\n",
    "    return price"
   ]
  },
  {
   "cell_type": "code",
   "execution_count": 12,
   "id": "7a74f4fb-f295-4401-b08c-92eb43744572",
   "metadata": {},
   "outputs": [],
   "source": [
    "# 预处理股票数据集\n",
    "stock = preprocess(stock)\n",
    "# 行业可能会对股票有影响，所以将行业也加入特征进行建模\n",
    "# 将17SectorName进行labelencoder\n",
    "stock_list['17SectorName'] = LabelEncoder().fit_transform(stock_list['17SectorName'])\n",
    "# 并入主表\n",
    "price = stock.merge(stock_list[['SecuritiesCode','17SectorName']],on='SecuritiesCode')\n",
    "# 尝试删除股息建模\n",
    "price.drop(columns='ExpectedDividend',inplace=True)"
   ]
  },
  {
   "cell_type": "code",
   "execution_count": 13,
   "id": "760a0aae-40fb-49a6-8bc2-1481ce387eaa",
   "metadata": {},
   "outputs": [],
   "source": [
    "# 调整股价\n",
    "price = adjust_price(price)"
   ]
  },
  {
   "cell_type": "code",
   "execution_count": 14,
   "id": "290d3082-a277-4da9-9b38-1ddf0981a7d4",
   "metadata": {},
   "outputs": [
    {
     "name": "stderr",
     "output_type": "stream",
     "text": [
      "C:\\Users\\Shuyu\\AppData\\Local\\Temp/ipykernel_8120/2580554070.py:47: PerformanceWarning: DataFrame is highly fragmented.  This is usually the result of calling `frame.insert` many times, which has poor performance.  Consider joining all columns at once using pd.concat(axis=1) instead. To get a de-fragmented frame, use `newframe = frame.copy()`\n",
      "  df.loc[:,f'expand_mean'] = df.groupby(key_col)['Close'].expanding().mean().values\n",
      "C:\\Users\\Shuyu\\AppData\\Local\\Temp/ipykernel_8120/2580554070.py:49: PerformanceWarning: DataFrame is highly fragmented.  This is usually the result of calling `frame.insert` many times, which has poor performance.  Consider joining all columns at once using pd.concat(axis=1) instead. To get a de-fragmented frame, use `newframe = frame.copy()`\n",
      "  df['Upper_Shadow'] = df['High'] - df[['Close', 'Open']].max(axis=1)\n",
      "C:\\Users\\Shuyu\\AppData\\Local\\Temp/ipykernel_8120/2580554070.py:50: PerformanceWarning: DataFrame is highly fragmented.  This is usually the result of calling `frame.insert` many times, which has poor performance.  Consider joining all columns at once using pd.concat(axis=1) instead. To get a de-fragmented frame, use `newframe = frame.copy()`\n",
      "  df['Lower_Shadow'] = df[['Close', 'Open']].min(axis=1) - df['Low']\n"
     ]
    }
   ],
   "source": [
    "new_feature = create_feature(price,periods=[5,10,20,30,40,50,60,70])"
   ]
  },
  {
   "cell_type": "code",
   "execution_count": 15,
   "id": "c24d0c90-d905-40df-af38-58c679d010b0",
   "metadata": {},
   "outputs": [
    {
     "data": {
      "text/html": [
       "<div>\n",
       "<style scoped>\n",
       "    .dataframe tbody tr th:only-of-type {\n",
       "        vertical-align: middle;\n",
       "    }\n",
       "\n",
       "    .dataframe tbody tr th {\n",
       "        vertical-align: top;\n",
       "    }\n",
       "\n",
       "    .dataframe thead th {\n",
       "        text-align: right;\n",
       "    }\n",
       "</style>\n",
       "<table border=\"1\" class=\"dataframe\">\n",
       "  <thead>\n",
       "    <tr style=\"text-align: right;\">\n",
       "      <th></th>\n",
       "      <th>Date</th>\n",
       "      <th>SecuritiesCode</th>\n",
       "      <th>Open</th>\n",
       "      <th>High</th>\n",
       "      <th>Low</th>\n",
       "      <th>Close</th>\n",
       "      <th>Volume</th>\n",
       "      <th>AdjustmentFactor</th>\n",
       "      <th>SupervisionFlag</th>\n",
       "      <th>Target</th>\n",
       "      <th>...</th>\n",
       "      <th>ExpMovingAvg_70Day</th>\n",
       "      <th>expand_mean</th>\n",
       "      <th>Upper_Shadow</th>\n",
       "      <th>Lower_Shadow</th>\n",
       "      <th>Date_year</th>\n",
       "      <th>Date_month</th>\n",
       "      <th>Date_day</th>\n",
       "      <th>Date_quarter</th>\n",
       "      <th>Date_weekofyear</th>\n",
       "      <th>Date_dayofweek</th>\n",
       "    </tr>\n",
       "  </thead>\n",
       "  <tbody>\n",
       "    <tr>\n",
       "      <th>0</th>\n",
       "      <td>2017-01-04 00:00:00</td>\n",
       "      <td>1301</td>\n",
       "      <td>2734.0</td>\n",
       "      <td>2755.0</td>\n",
       "      <td>2730.0</td>\n",
       "      <td>2742.0</td>\n",
       "      <td>31400</td>\n",
       "      <td>1.0</td>\n",
       "      <td>0</td>\n",
       "      <td>0.000730</td>\n",
       "      <td>...</td>\n",
       "      <td>2742.000000</td>\n",
       "      <td>2742.0</td>\n",
       "      <td>13.0</td>\n",
       "      <td>4.0</td>\n",
       "      <td>2017</td>\n",
       "      <td>1</td>\n",
       "      <td>4</td>\n",
       "      <td>1</td>\n",
       "      <td>1</td>\n",
       "      <td>2</td>\n",
       "    </tr>\n",
       "    <tr>\n",
       "      <th>1861349</th>\n",
       "      <td>2017-01-04 00:00:00</td>\n",
       "      <td>8185</td>\n",
       "      <td>2800.0</td>\n",
       "      <td>2847.0</td>\n",
       "      <td>2785.0</td>\n",
       "      <td>2846.0</td>\n",
       "      <td>57500</td>\n",
       "      <td>1.0</td>\n",
       "      <td>0</td>\n",
       "      <td>0.015827</td>\n",
       "      <td>...</td>\n",
       "      <td>2741.887324</td>\n",
       "      <td>2740.0</td>\n",
       "      <td>1.0</td>\n",
       "      <td>15.0</td>\n",
       "      <td>2017</td>\n",
       "      <td>1</td>\n",
       "      <td>4</td>\n",
       "      <td>1</td>\n",
       "      <td>1</td>\n",
       "      <td>2</td>\n",
       "    </tr>\n",
       "    <tr>\n",
       "      <th>285188</th>\n",
       "      <td>2017-01-04 00:00:00</td>\n",
       "      <td>2698</td>\n",
       "      <td>1770.0</td>\n",
       "      <td>1783.0</td>\n",
       "      <td>1764.0</td>\n",
       "      <td>1778.0</td>\n",
       "      <td>45700</td>\n",
       "      <td>1.0</td>\n",
       "      <td>0</td>\n",
       "      <td>0.005062</td>\n",
       "      <td>...</td>\n",
       "      <td>2741.834160</td>\n",
       "      <td>2740.0</td>\n",
       "      <td>5.0</td>\n",
       "      <td>6.0</td>\n",
       "      <td>2017</td>\n",
       "      <td>1</td>\n",
       "      <td>4</td>\n",
       "      <td>1</td>\n",
       "      <td>1</td>\n",
       "      <td>2</td>\n",
       "    </tr>\n",
       "    <tr>\n",
       "      <th>1860147</th>\n",
       "      <td>2017-01-04 00:00:00</td>\n",
       "      <td>8182</td>\n",
       "      <td>1482.0</td>\n",
       "      <td>1512.0</td>\n",
       "      <td>1482.0</td>\n",
       "      <td>1510.0</td>\n",
       "      <td>50700</td>\n",
       "      <td>1.0</td>\n",
       "      <td>0</td>\n",
       "      <td>0.000649</td>\n",
       "      <td>...</td>\n",
       "      <td>2742.007846</td>\n",
       "      <td>2742.0</td>\n",
       "      <td>2.0</td>\n",
       "      <td>0.0</td>\n",
       "      <td>2017</td>\n",
       "      <td>1</td>\n",
       "      <td>4</td>\n",
       "      <td>1</td>\n",
       "      <td>1</td>\n",
       "      <td>2</td>\n",
       "    </tr>\n",
       "    <tr>\n",
       "      <th>286390</th>\n",
       "      <td>2017-01-04 00:00:00</td>\n",
       "      <td>2702</td>\n",
       "      <td>3090.0</td>\n",
       "      <td>3090.0</td>\n",
       "      <td>3050.0</td>\n",
       "      <td>3060.0</td>\n",
       "      <td>384900</td>\n",
       "      <td>1.0</td>\n",
       "      <td>0</td>\n",
       "      <td>0.000000</td>\n",
       "      <td>...</td>\n",
       "      <td>2742.092132</td>\n",
       "      <td>2742.6</td>\n",
       "      <td>0.0</td>\n",
       "      <td>10.0</td>\n",
       "      <td>2017</td>\n",
       "      <td>1</td>\n",
       "      <td>4</td>\n",
       "      <td>1</td>\n",
       "      <td>1</td>\n",
       "      <td>2</td>\n",
       "    </tr>\n",
       "  </tbody>\n",
       "</table>\n",
       "<p>5 rows × 118 columns</p>\n",
       "</div>"
      ],
      "text/plain": [
       "                        Date  SecuritiesCode    Open    High     Low   Close  \\\n",
       "0        2017-01-04 00:00:00            1301  2734.0  2755.0  2730.0  2742.0   \n",
       "1861349  2017-01-04 00:00:00            8185  2800.0  2847.0  2785.0  2846.0   \n",
       "285188   2017-01-04 00:00:00            2698  1770.0  1783.0  1764.0  1778.0   \n",
       "1860147  2017-01-04 00:00:00            8182  1482.0  1512.0  1482.0  1510.0   \n",
       "286390   2017-01-04 00:00:00            2702  3090.0  3090.0  3050.0  3060.0   \n",
       "\n",
       "         Volume  AdjustmentFactor  SupervisionFlag    Target  ...  \\\n",
       "0         31400               1.0                0  0.000730  ...   \n",
       "1861349   57500               1.0                0  0.015827  ...   \n",
       "285188    45700               1.0                0  0.005062  ...   \n",
       "1860147   50700               1.0                0  0.000649  ...   \n",
       "286390   384900               1.0                0  0.000000  ...   \n",
       "\n",
       "         ExpMovingAvg_70Day  expand_mean  Upper_Shadow  Lower_Shadow  \\\n",
       "0               2742.000000       2742.0          13.0           4.0   \n",
       "1861349         2741.887324       2740.0           1.0          15.0   \n",
       "285188          2741.834160       2740.0           5.0           6.0   \n",
       "1860147         2742.007846       2742.0           2.0           0.0   \n",
       "286390          2742.092132       2742.6           0.0          10.0   \n",
       "\n",
       "         Date_year  Date_month  Date_day  Date_quarter  Date_weekofyear  \\\n",
       "0             2017           1         4             1                1   \n",
       "1861349       2017           1         4             1                1   \n",
       "285188        2017           1         4             1                1   \n",
       "1860147       2017           1         4             1                1   \n",
       "286390        2017           1         4             1                1   \n",
       "\n",
       "         Date_dayofweek  \n",
       "0                     2  \n",
       "1861349               2  \n",
       "285188                2  \n",
       "1860147               2  \n",
       "286390                2  \n",
       "\n",
       "[5 rows x 118 columns]"
      ]
     },
     "execution_count": 15,
     "metadata": {},
     "output_type": "execute_result"
    }
   ],
   "source": [
    "new_feature.head()"
   ]
  },
  {
   "cell_type": "code",
   "execution_count": 152,
   "id": "fff33922-6b34-4066-b6f7-fcabc62d8e0d",
   "metadata": {},
   "outputs": [],
   "source": [
    "new_feature = new_feature.dropna()"
   ]
  },
  {
   "cell_type": "code",
   "execution_count": 153,
   "id": "7648ac66-d5a2-4d17-a5fd-1aa11425ac8e",
   "metadata": {},
   "outputs": [
    {
     "data": {
      "text/plain": [
       "(2055125, 118)"
      ]
     },
     "execution_count": 153,
     "metadata": {},
     "output_type": "execute_result"
    }
   ],
   "source": [
    "new_feature.shape"
   ]
  },
  {
   "cell_type": "code",
   "execution_count": 239,
   "id": "50923362-a8cf-4716-a7d0-5861f4b0d19f",
   "metadata": {},
   "outputs": [],
   "source": [
    "single_stock = new_feature[new_feature['SecuritiesCode'] == 8185]\n",
    "\n",
    "single_stock = single_stock.drop(columns=['Date','SecuritiesCode'],axis=1)\n",
    "single_stock.rename(columns={'Target': 'Sharpe Ratio'}, inplace=True)\n",
    "#将Close列取出\n",
    "close_col = single_stock.pop('Close')\n",
    "#将Close列添加到最后\n",
    "single_stock.loc[:,'Close'] = close_col"
   ]
  },
  {
   "cell_type": "code",
   "execution_count": 240,
   "id": "dea5abd6-61bc-435a-877c-c358e750b164",
   "metadata": {},
   "outputs": [],
   "source": [
    "#按时间顺序对训练集测试集进行分割\n",
    "train_size = int(len(single_stock) * 0.67)\n",
    "test_size = len(single_stock) - train_size\n",
    "train, test = single_stock[:train_size], single_stock[train_size:]"
   ]
  },
  {
   "cell_type": "code",
   "execution_count": 241,
   "id": "26c1c7c5-1988-4e2f-94c2-851bbbefbfab",
   "metadata": {},
   "outputs": [],
   "source": [
    "#scaler = MinMaxScaler()\n",
    "#scaler.fit(train)"
   ]
  },
  {
   "cell_type": "code",
   "execution_count": 242,
   "id": "02ec016b-f3cc-419b-9f2b-2e0bc32ac592",
   "metadata": {},
   "outputs": [],
   "source": [
    "#train_ = pd.DataFrame(scaler.transform(train), columns = train.columns)\n",
    "#test_ = pd.DataFrame(scaler.transform(test), columns = train.columns)"
   ]
  },
  {
   "cell_type": "code",
   "execution_count": 243,
   "id": "428e14b1-fbc9-4e03-b751-207c864a68ba",
   "metadata": {},
   "outputs": [],
   "source": [
    "#train_.shape"
   ]
  },
  {
   "cell_type": "code",
   "execution_count": 244,
   "id": "c080550f-67c0-4139-8b0a-f434b691f4da",
   "metadata": {},
   "outputs": [],
   "source": [
    "#train_.head() #已经将编号、时间等信息去除"
   ]
  },
  {
   "cell_type": "code",
   "execution_count": 245,
   "id": "5e018539-a46a-4675-a224-251ac8da8e77",
   "metadata": {},
   "outputs": [],
   "source": [
    "import torch\n",
    "import numpy as np\n",
    "\n",
    "def create_multivariate_dataset_2(dataset, window_size, pred_len):\n",
    "    \"\"\"\n",
    "    将多变量时间序列转变为能够用于训练和预测的数据【带标签的滑窗】\n",
    "    \n",
    "    参数:\n",
    "        dataset: DataFrame，其中包含特征和标签，特征从索引3开始，最后一列是标签\n",
    "        window_size: 滑窗的窗口大小\n",
    "        pred_len：多步预测的预测范围/预测步长\n",
    "    \"\"\"\n",
    "    X, y, y_indices = [], [], []\n",
    "    for i in range(len(dataset) - window_size - pred_len + 1):\n",
    "        # 选取全部列的特征和标签，这是基于最前面的几列无效信息已经被去除了\n",
    "        feature_and_label = dataset.iloc[i:i + window_size, :].values\n",
    "        # 下一个时间点的标签作为目标\n",
    "        target = dataset.iloc[(i + window_size):(i + window_size + pred_len), -1]\n",
    "        # 记录本窗口中要预测的标签的时间点\n",
    "        target_indices = list(range(i + window_size, i + window_size + pred_len))\n",
    "\n",
    "        X.append(feature_and_label)\n",
    "        y.append(target)\n",
    "        #将每个标签的索引添加到y_indices列表中\n",
    "        y_indices.extend(target_indices)\n",
    "    \n",
    "    X = torch.FloatTensor(np.array(X, dtype=np.float32))\n",
    "    y = torch.FloatTensor(np.array(y, dtype=np.float32))\n",
    "    \n",
    "    return X, y, y_indices"
   ]
  },
  {
   "cell_type": "code",
   "execution_count": 246,
   "id": "86b92d15-06fd-4752-9b15-629f7a341e90",
   "metadata": {},
   "outputs": [],
   "source": [
    "window_size = 32\n",
    "pred_len = 5\n",
    "\n",
    "X_train_2, y_train_2, y_train_indices = create_multivariate_dataset_2(train, window_size, pred_len)\n",
    "X_test_2, y_test_2, y_test_indices = create_multivariate_dataset_2(test, window_size, pred_len)"
   ]
  },
  {
   "cell_type": "code",
   "execution_count": 247,
   "id": "d74343a6-e13c-4dfd-b9fc-f4d9adbb1b0f",
   "metadata": {},
   "outputs": [
    {
     "data": {
      "text/plain": [
       "torch.Size([670, 32, 116])"
      ]
     },
     "execution_count": 247,
     "metadata": {},
     "output_type": "execute_result"
    }
   ],
   "source": [
    "X_train_2.shape"
   ]
  },
  {
   "cell_type": "code",
   "execution_count": 248,
   "id": "e9a0ca6c-fa25-4f67-8ddc-2b18af19b93a",
   "metadata": {},
   "outputs": [
    {
     "data": {
      "text/plain": [
       "tensor([[2.6670e+03, 2.6700e+03, 2.6140e+03,  ..., 1.5000e+01, 4.0000e+00,\n",
       "         2.6290e+03],\n",
       "        [2.6420e+03, 2.7160e+03, 2.6420e+03,  ..., 1.6000e+01, 0.0000e+00,\n",
       "         2.7150e+03],\n",
       "        [2.7150e+03, 2.7450e+03, 2.7030e+03,  ..., 1.6000e+01, 1.0000e+00,\n",
       "         2.7320e+03],\n",
       "        ...,\n",
       "        [2.8060e+03, 2.8100e+03, 2.7780e+03,  ..., 2.2000e+01, 1.0000e+00,\n",
       "         2.7930e+03],\n",
       "        [2.8050e+03, 2.8190e+03, 2.7750e+03,  ..., 2.2000e+01, 2.0000e+00,\n",
       "         2.7760e+03],\n",
       "        [2.7700e+03, 2.8410e+03, 2.7700e+03,  ..., 2.2000e+01, 3.0000e+00,\n",
       "         2.8300e+03]])"
      ]
     },
     "execution_count": 248,
     "metadata": {},
     "output_type": "execute_result"
    }
   ],
   "source": [
    "X_train_2[0]"
   ]
  },
  {
   "cell_type": "code",
   "execution_count": 249,
   "id": "537931dc-4c3f-49ab-95dd-b8430aa75033",
   "metadata": {},
   "outputs": [
    {
     "data": {
      "text/plain": [
       "torch.Size([670, 5])"
      ]
     },
     "execution_count": 249,
     "metadata": {},
     "output_type": "execute_result"
    }
   ],
   "source": [
    "y_train_2.shape"
   ]
  },
  {
   "cell_type": "code",
   "execution_count": 250,
   "id": "e65cccd6-08be-4b3a-b817-cf5f50cde673",
   "metadata": {},
   "outputs": [
    {
     "data": {
      "text/plain": [
       "[32, 33, 34, 35, 36, 33, 34, 35, 36, 37]"
      ]
     },
     "execution_count": 250,
     "metadata": {},
     "output_type": "execute_result"
    }
   ],
   "source": [
    "y_train_indices[:10]"
   ]
  },
  {
   "cell_type": "markdown",
   "id": "08a941e1-d785-42ef-8b82-f94a63d3c007",
   "metadata": {},
   "source": [
    "> **架构建立与参数设置**"
   ]
  },
  {
   "cell_type": "code",
   "execution_count": 251,
   "id": "e40d42b6-ed57-4d19-9c3d-0694444e791e",
   "metadata": {},
   "outputs": [],
   "source": [
    "#选择了最为简单的网络架构来进行实验\n",
    "import torch.nn as nn\n",
    " \n",
    "class MyLSTM(nn.Module):\n",
    "    def __init__(self,input_dim, pred_len):\n",
    "        super().__init__()\n",
    "        self.lstm1 = nn.LSTM(input_size=input_dim, hidden_size=128, num_layers=5, batch_first=True)\n",
    "        self.lstm2 = nn.LSTM(input_size=128, hidden_size=256, num_layers=5, batch_first=True)\n",
    "        self.linear1 = nn.Linear(256, 128)\n",
    "        self.linear2 = nn.Linear(128, pred_len)\n",
    "    def forward(self, x):\n",
    "        x, _ = self.lstm1(x)\n",
    "        x, _ = self.lstm2(x)\n",
    "        #现在我要的是最后一个时间步，而不是全部时间步了\n",
    "        x = self.linear2(self.linear1(x[:,-1,:]))\n",
    "        return x"
   ]
  },
  {
   "cell_type": "code",
   "execution_count": 252,
   "id": "ad193d5c-e28a-4528-89f0-1bee5ebba1b2",
   "metadata": {},
   "outputs": [],
   "source": [
    "model = MyLSTM(input_dim = 116, pred_len = 5)"
   ]
  },
  {
   "cell_type": "code",
   "execution_count": 253,
   "id": "43f3876c-e30e-4cf5-850b-f787d0a2609d",
   "metadata": {},
   "outputs": [
    {
     "name": "stdout",
     "output_type": "stream",
     "text": [
      "cuda\n"
     ]
    }
   ],
   "source": [
    "#设置GPU\n",
    "device = torch.device('cuda' if torch.cuda.is_available() else 'cpu')\n",
    "print(device)"
   ]
  },
  {
   "cell_type": "code",
   "execution_count": 254,
   "id": "ec573a2c-10c2-4411-ab51-a64a1e66c016",
   "metadata": {},
   "outputs": [],
   "source": [
    "#设置参数\n",
    "input_size = 1  #输入特征的维度\n",
    "hidden_size = 50 #LSTM隐藏状态的维度\n",
    "num_layers = 1 #LSTM层的数量\n",
    "output_size = 1 #模型的输出维度\n",
    "n_epochs = 2000 #迭代epoch\n",
    "learning_rate = 0.001 #学习率"
   ]
  },
  {
   "cell_type": "code",
   "execution_count": 255,
   "id": "06ad655f-9542-4e27-95f4-9a0002a10d68",
   "metadata": {},
   "outputs": [],
   "source": [
    "#实例化模型\n",
    "model = MyLSTM(input_dim=X_train_2.shape[2],pred_len = pred_len).to(device)\n",
    "optimizer = optim.Adam(model.parameters(),lr=learning_rate) #定义优化器\n",
    "loss_fn = nn.MSELoss() #定义损失函数\n",
    "loader = data.DataLoader(data.TensorDataset(X_train_2, y_train_2)\n",
    "                         #每个表单内部是保持时间顺序的即可，表单与表单之间可以shuffle\n",
    "                         , shuffle=False\n",
    "                         , batch_size=8) #将数据分批次"
   ]
  },
  {
   "cell_type": "code",
   "execution_count": 256,
   "id": "d0eeeee2-9d05-4585-b387-265c3c874715",
   "metadata": {},
   "outputs": [
    {
     "name": "stdout",
     "output_type": "stream",
     "text": [
      "torch.Size([8, 32, 116])\n",
      "tensor([[2856., 2908., 2889., 2884., 2846.],\n",
      "        [2908., 2889., 2884., 2846., 2824.],\n",
      "        [2889., 2884., 2846., 2824., 2816.],\n",
      "        [2884., 2846., 2824., 2816., 2835.],\n",
      "        [2846., 2824., 2816., 2835., 2841.],\n",
      "        [2824., 2816., 2835., 2841., 2888.],\n",
      "        [2816., 2835., 2841., 2888., 2900.],\n",
      "        [2835., 2841., 2888., 2900., 2942.]])\n"
     ]
    }
   ],
   "source": [
    "for x,y in loader:\n",
    "    print(x.shape)\n",
    "    print(y)\n",
    "    break"
   ]
  },
  {
   "cell_type": "markdown",
   "id": "aa9d265b-ee3a-4045-aaf2-a39f215011aa",
   "metadata": {},
   "source": [
    "> **实际训练流程**"
   ]
  },
  {
   "cell_type": "code",
   "execution_count": 257,
   "id": "34587c21-d709-4071-9ccf-70d8405cec6d",
   "metadata": {},
   "outputs": [],
   "source": [
    "# 初始化早停参数\n",
    "early_stopping_patience = 3  # 设置容忍的epoch数，即在这么多epoch后如果没有改进就停止\n",
    "early_stopping_counter = 0  # 用于跟踪没有改进的epoch数\n",
    "best_train_rmse = float('inf')  # 初始化最佳的训练RMSE"
   ]
  },
  {
   "cell_type": "code",
   "execution_count": 258,
   "id": "80a4ea2e-f6d7-40f5-b26f-4461dfc9ce7c",
   "metadata": {},
   "outputs": [
    {
     "name": "stdout",
     "output_type": "stream",
     "text": [
      "Epoch 0: train RMSE 1843.7595, test RMSE 553.3846\n",
      "Epoch 100: train RMSE 635.3111, test RMSE 965.2829\n",
      "Epoch 200: train RMSE 635.2489, test RMSE 965.4487\n",
      "Epoch 300: train RMSE 635.1774, test RMSE 965.6394\n",
      "Epoch 400: train RMSE 635.0049, test RMSE 966.0997\n",
      "Epoch 500: train RMSE 634.5250, test RMSE 967.3853\n",
      "Epoch 600: train RMSE 633.1440, test RMSE 971.1194\n",
      "Epoch 700: train RMSE 628.3307, test RMSE 984.5690\n",
      "Epoch 800: train RMSE 615.7813, test RMSE 1023.7033\n",
      "Epoch 900: train RMSE 608.5953, test RMSE 1050.1417\n",
      "Epoch 1000: train RMSE 605.2706, test RMSE 1063.9502\n",
      "Epoch 1100: train RMSE 602.4156, test RMSE 1076.9470\n",
      "Epoch 1200: train RMSE 600.7659, test RMSE 1085.0804\n",
      "Epoch 1300: train RMSE 599.9965, test RMSE 1089.0662\n",
      "Epoch 1400: train RMSE 599.4521, test RMSE 1091.9688\n"
     ]
    },
    {
     "ename": "KeyboardInterrupt",
     "evalue": "",
     "output_type": "error",
     "traceback": [
      "\u001b[1;31m---------------------------------------------------------------------------\u001b[0m",
      "\u001b[1;31mKeyboardInterrupt\u001b[0m                         Traceback (most recent call last)",
      "\u001b[1;32m~\\AppData\\Local\\Temp/ipykernel_8120/3645560246.py\u001b[0m in \u001b[0;36m<module>\u001b[1;34m\u001b[0m\n\u001b[0;32m      2\u001b[0m     \u001b[0mmodel\u001b[0m\u001b[1;33m.\u001b[0m\u001b[0mtrain\u001b[0m\u001b[1;33m(\u001b[0m\u001b[1;33m)\u001b[0m\u001b[1;33m\u001b[0m\u001b[1;33m\u001b[0m\u001b[0m\n\u001b[0;32m      3\u001b[0m     \u001b[1;32mfor\u001b[0m \u001b[0mX_batch\u001b[0m\u001b[1;33m,\u001b[0m \u001b[0my_batch\u001b[0m \u001b[1;32min\u001b[0m \u001b[0mloader\u001b[0m\u001b[1;33m:\u001b[0m\u001b[1;33m\u001b[0m\u001b[1;33m\u001b[0m\u001b[0m\n\u001b[1;32m----> 4\u001b[1;33m         \u001b[0my_pred\u001b[0m \u001b[1;33m=\u001b[0m \u001b[0mmodel\u001b[0m\u001b[1;33m(\u001b[0m\u001b[0mX_batch\u001b[0m\u001b[1;33m.\u001b[0m\u001b[0mto\u001b[0m\u001b[1;33m(\u001b[0m\u001b[0mdevice\u001b[0m\u001b[1;33m)\u001b[0m\u001b[1;33m)\u001b[0m\u001b[1;33m\u001b[0m\u001b[1;33m\u001b[0m\u001b[0m\n\u001b[0m\u001b[0;32m      5\u001b[0m         \u001b[0mloss\u001b[0m \u001b[1;33m=\u001b[0m \u001b[0mloss_fn\u001b[0m\u001b[1;33m(\u001b[0m\u001b[0my_pred\u001b[0m\u001b[1;33m,\u001b[0m \u001b[0my_batch\u001b[0m\u001b[1;33m.\u001b[0m\u001b[0mto\u001b[0m\u001b[1;33m(\u001b[0m\u001b[0mdevice\u001b[0m\u001b[1;33m)\u001b[0m\u001b[1;33m)\u001b[0m\u001b[1;33m\u001b[0m\u001b[1;33m\u001b[0m\u001b[0m\n\u001b[0;32m      6\u001b[0m         \u001b[0moptimizer\u001b[0m\u001b[1;33m.\u001b[0m\u001b[0mzero_grad\u001b[0m\u001b[1;33m(\u001b[0m\u001b[1;33m)\u001b[0m\u001b[1;33m\u001b[0m\u001b[1;33m\u001b[0m\u001b[0m\n",
      "\u001b[1;32mD:\\ProgramData\\Anaconda3\\lib\\site-packages\\torch\\nn\\modules\\module.py\u001b[0m in \u001b[0;36m_wrapped_call_impl\u001b[1;34m(self, *args, **kwargs)\u001b[0m\n\u001b[0;32m   1509\u001b[0m             \u001b[1;32mreturn\u001b[0m \u001b[0mself\u001b[0m\u001b[1;33m.\u001b[0m\u001b[0m_compiled_call_impl\u001b[0m\u001b[1;33m(\u001b[0m\u001b[1;33m*\u001b[0m\u001b[0margs\u001b[0m\u001b[1;33m,\u001b[0m \u001b[1;33m**\u001b[0m\u001b[0mkwargs\u001b[0m\u001b[1;33m)\u001b[0m  \u001b[1;31m# type: ignore[misc]\u001b[0m\u001b[1;33m\u001b[0m\u001b[1;33m\u001b[0m\u001b[0m\n\u001b[0;32m   1510\u001b[0m         \u001b[1;32melse\u001b[0m\u001b[1;33m:\u001b[0m\u001b[1;33m\u001b[0m\u001b[1;33m\u001b[0m\u001b[0m\n\u001b[1;32m-> 1511\u001b[1;33m             \u001b[1;32mreturn\u001b[0m \u001b[0mself\u001b[0m\u001b[1;33m.\u001b[0m\u001b[0m_call_impl\u001b[0m\u001b[1;33m(\u001b[0m\u001b[1;33m*\u001b[0m\u001b[0margs\u001b[0m\u001b[1;33m,\u001b[0m \u001b[1;33m**\u001b[0m\u001b[0mkwargs\u001b[0m\u001b[1;33m)\u001b[0m\u001b[1;33m\u001b[0m\u001b[1;33m\u001b[0m\u001b[0m\n\u001b[0m\u001b[0;32m   1512\u001b[0m \u001b[1;33m\u001b[0m\u001b[0m\n\u001b[0;32m   1513\u001b[0m     \u001b[1;32mdef\u001b[0m \u001b[0m_call_impl\u001b[0m\u001b[1;33m(\u001b[0m\u001b[0mself\u001b[0m\u001b[1;33m,\u001b[0m \u001b[1;33m*\u001b[0m\u001b[0margs\u001b[0m\u001b[1;33m,\u001b[0m \u001b[1;33m**\u001b[0m\u001b[0mkwargs\u001b[0m\u001b[1;33m)\u001b[0m\u001b[1;33m:\u001b[0m\u001b[1;33m\u001b[0m\u001b[1;33m\u001b[0m\u001b[0m\n",
      "\u001b[1;32mD:\\ProgramData\\Anaconda3\\lib\\site-packages\\torch\\nn\\modules\\module.py\u001b[0m in \u001b[0;36m_call_impl\u001b[1;34m(self, *args, **kwargs)\u001b[0m\n\u001b[0;32m   1518\u001b[0m                 \u001b[1;32mor\u001b[0m \u001b[0m_global_backward_pre_hooks\u001b[0m \u001b[1;32mor\u001b[0m \u001b[0m_global_backward_hooks\u001b[0m\u001b[1;33m\u001b[0m\u001b[1;33m\u001b[0m\u001b[0m\n\u001b[0;32m   1519\u001b[0m                 or _global_forward_hooks or _global_forward_pre_hooks):\n\u001b[1;32m-> 1520\u001b[1;33m             \u001b[1;32mreturn\u001b[0m \u001b[0mforward_call\u001b[0m\u001b[1;33m(\u001b[0m\u001b[1;33m*\u001b[0m\u001b[0margs\u001b[0m\u001b[1;33m,\u001b[0m \u001b[1;33m**\u001b[0m\u001b[0mkwargs\u001b[0m\u001b[1;33m)\u001b[0m\u001b[1;33m\u001b[0m\u001b[1;33m\u001b[0m\u001b[0m\n\u001b[0m\u001b[0;32m   1521\u001b[0m \u001b[1;33m\u001b[0m\u001b[0m\n\u001b[0;32m   1522\u001b[0m         \u001b[1;32mtry\u001b[0m\u001b[1;33m:\u001b[0m\u001b[1;33m\u001b[0m\u001b[1;33m\u001b[0m\u001b[0m\n",
      "\u001b[1;32m~\\AppData\\Local\\Temp/ipykernel_8120/32260441.py\u001b[0m in \u001b[0;36mforward\u001b[1;34m(self, x)\u001b[0m\n\u001b[0;32m     11\u001b[0m     \u001b[1;32mdef\u001b[0m \u001b[0mforward\u001b[0m\u001b[1;33m(\u001b[0m\u001b[0mself\u001b[0m\u001b[1;33m,\u001b[0m \u001b[0mx\u001b[0m\u001b[1;33m)\u001b[0m\u001b[1;33m:\u001b[0m\u001b[1;33m\u001b[0m\u001b[1;33m\u001b[0m\u001b[0m\n\u001b[0;32m     12\u001b[0m         \u001b[0mx\u001b[0m\u001b[1;33m,\u001b[0m \u001b[0m_\u001b[0m \u001b[1;33m=\u001b[0m \u001b[0mself\u001b[0m\u001b[1;33m.\u001b[0m\u001b[0mlstm1\u001b[0m\u001b[1;33m(\u001b[0m\u001b[0mx\u001b[0m\u001b[1;33m)\u001b[0m\u001b[1;33m\u001b[0m\u001b[1;33m\u001b[0m\u001b[0m\n\u001b[1;32m---> 13\u001b[1;33m         \u001b[0mx\u001b[0m\u001b[1;33m,\u001b[0m \u001b[0m_\u001b[0m \u001b[1;33m=\u001b[0m \u001b[0mself\u001b[0m\u001b[1;33m.\u001b[0m\u001b[0mlstm2\u001b[0m\u001b[1;33m(\u001b[0m\u001b[0mx\u001b[0m\u001b[1;33m)\u001b[0m\u001b[1;33m\u001b[0m\u001b[1;33m\u001b[0m\u001b[0m\n\u001b[0m\u001b[0;32m     14\u001b[0m         \u001b[1;31m#现在我要的是最后一个时间步，而不是全部时间步了\u001b[0m\u001b[1;33m\u001b[0m\u001b[1;33m\u001b[0m\u001b[0m\n\u001b[0;32m     15\u001b[0m         \u001b[0mx\u001b[0m \u001b[1;33m=\u001b[0m \u001b[0mself\u001b[0m\u001b[1;33m.\u001b[0m\u001b[0mlinear2\u001b[0m\u001b[1;33m(\u001b[0m\u001b[0mself\u001b[0m\u001b[1;33m.\u001b[0m\u001b[0mlinear1\u001b[0m\u001b[1;33m(\u001b[0m\u001b[0mx\u001b[0m\u001b[1;33m[\u001b[0m\u001b[1;33m:\u001b[0m\u001b[1;33m,\u001b[0m\u001b[1;33m-\u001b[0m\u001b[1;36m1\u001b[0m\u001b[1;33m,\u001b[0m\u001b[1;33m:\u001b[0m\u001b[1;33m]\u001b[0m\u001b[1;33m)\u001b[0m\u001b[1;33m)\u001b[0m\u001b[1;33m\u001b[0m\u001b[1;33m\u001b[0m\u001b[0m\n",
      "\u001b[1;32mD:\\ProgramData\\Anaconda3\\lib\\site-packages\\torch\\nn\\modules\\module.py\u001b[0m in \u001b[0;36m_wrapped_call_impl\u001b[1;34m(self, *args, **kwargs)\u001b[0m\n\u001b[0;32m   1509\u001b[0m             \u001b[1;32mreturn\u001b[0m \u001b[0mself\u001b[0m\u001b[1;33m.\u001b[0m\u001b[0m_compiled_call_impl\u001b[0m\u001b[1;33m(\u001b[0m\u001b[1;33m*\u001b[0m\u001b[0margs\u001b[0m\u001b[1;33m,\u001b[0m \u001b[1;33m**\u001b[0m\u001b[0mkwargs\u001b[0m\u001b[1;33m)\u001b[0m  \u001b[1;31m# type: ignore[misc]\u001b[0m\u001b[1;33m\u001b[0m\u001b[1;33m\u001b[0m\u001b[0m\n\u001b[0;32m   1510\u001b[0m         \u001b[1;32melse\u001b[0m\u001b[1;33m:\u001b[0m\u001b[1;33m\u001b[0m\u001b[1;33m\u001b[0m\u001b[0m\n\u001b[1;32m-> 1511\u001b[1;33m             \u001b[1;32mreturn\u001b[0m \u001b[0mself\u001b[0m\u001b[1;33m.\u001b[0m\u001b[0m_call_impl\u001b[0m\u001b[1;33m(\u001b[0m\u001b[1;33m*\u001b[0m\u001b[0margs\u001b[0m\u001b[1;33m,\u001b[0m \u001b[1;33m**\u001b[0m\u001b[0mkwargs\u001b[0m\u001b[1;33m)\u001b[0m\u001b[1;33m\u001b[0m\u001b[1;33m\u001b[0m\u001b[0m\n\u001b[0m\u001b[0;32m   1512\u001b[0m \u001b[1;33m\u001b[0m\u001b[0m\n\u001b[0;32m   1513\u001b[0m     \u001b[1;32mdef\u001b[0m \u001b[0m_call_impl\u001b[0m\u001b[1;33m(\u001b[0m\u001b[0mself\u001b[0m\u001b[1;33m,\u001b[0m \u001b[1;33m*\u001b[0m\u001b[0margs\u001b[0m\u001b[1;33m,\u001b[0m \u001b[1;33m**\u001b[0m\u001b[0mkwargs\u001b[0m\u001b[1;33m)\u001b[0m\u001b[1;33m:\u001b[0m\u001b[1;33m\u001b[0m\u001b[1;33m\u001b[0m\u001b[0m\n",
      "\u001b[1;32mD:\\ProgramData\\Anaconda3\\lib\\site-packages\\torch\\nn\\modules\\module.py\u001b[0m in \u001b[0;36m_call_impl\u001b[1;34m(self, *args, **kwargs)\u001b[0m\n\u001b[0;32m   1518\u001b[0m                 \u001b[1;32mor\u001b[0m \u001b[0m_global_backward_pre_hooks\u001b[0m \u001b[1;32mor\u001b[0m \u001b[0m_global_backward_hooks\u001b[0m\u001b[1;33m\u001b[0m\u001b[1;33m\u001b[0m\u001b[0m\n\u001b[0;32m   1519\u001b[0m                 or _global_forward_hooks or _global_forward_pre_hooks):\n\u001b[1;32m-> 1520\u001b[1;33m             \u001b[1;32mreturn\u001b[0m \u001b[0mforward_call\u001b[0m\u001b[1;33m(\u001b[0m\u001b[1;33m*\u001b[0m\u001b[0margs\u001b[0m\u001b[1;33m,\u001b[0m \u001b[1;33m**\u001b[0m\u001b[0mkwargs\u001b[0m\u001b[1;33m)\u001b[0m\u001b[1;33m\u001b[0m\u001b[1;33m\u001b[0m\u001b[0m\n\u001b[0m\u001b[0;32m   1521\u001b[0m \u001b[1;33m\u001b[0m\u001b[0m\n\u001b[0;32m   1522\u001b[0m         \u001b[1;32mtry\u001b[0m\u001b[1;33m:\u001b[0m\u001b[1;33m\u001b[0m\u001b[1;33m\u001b[0m\u001b[0m\n",
      "\u001b[1;32mD:\\ProgramData\\Anaconda3\\lib\\site-packages\\torch\\nn\\modules\\rnn.py\u001b[0m in \u001b[0;36mforward\u001b[1;34m(self, input, hx)\u001b[0m\n\u001b[0;32m    876\u001b[0m \u001b[1;33m\u001b[0m\u001b[0m\n\u001b[0;32m    877\u001b[0m         \u001b[1;32mif\u001b[0m \u001b[0mbatch_sizes\u001b[0m \u001b[1;32mis\u001b[0m \u001b[1;32mNone\u001b[0m\u001b[1;33m:\u001b[0m\u001b[1;33m\u001b[0m\u001b[1;33m\u001b[0m\u001b[0m\n\u001b[1;32m--> 878\u001b[1;33m             result = _VF.lstm(input, hx, self._flat_weights, self.bias, self.num_layers,\n\u001b[0m\u001b[0;32m    879\u001b[0m                               self.dropout, self.training, self.bidirectional, self.batch_first)\n\u001b[0;32m    880\u001b[0m         \u001b[1;32melse\u001b[0m\u001b[1;33m:\u001b[0m\u001b[1;33m\u001b[0m\u001b[1;33m\u001b[0m\u001b[0m\n",
      "\u001b[1;31mKeyboardInterrupt\u001b[0m: "
     ]
    }
   ],
   "source": [
    "for epoch in range(n_epochs):\n",
    "    model.train()\n",
    "    for X_batch, y_batch in loader:\n",
    "        y_pred = model(X_batch.to(device))\n",
    "        loss = loss_fn(y_pred, y_batch.to(device))\n",
    "        optimizer.zero_grad()\n",
    "        loss.backward()\n",
    "        optimizer.step()\n",
    "    #验证与打印\n",
    "    if epoch % 100 == 0:\n",
    "        model.eval()\n",
    "        with torch.no_grad():\n",
    "            y_pred = model(X_train_2.to(device)).cpu()\n",
    "            train_rmse = np.sqrt(loss_fn(y_pred, y_train_2))\n",
    "            y_pred = model(X_test_2.to(device)).cpu()\n",
    "            test_rmse = np.sqrt(loss_fn(y_pred, y_test_2))\n",
    "        print(\"Epoch %d: train RMSE %.4f, test RMSE %.4f\" % (epoch, train_rmse, test_rmse))\n",
    "    \n",
    "        # 早停检查\n",
    "        if train_rmse - best_train_rmse < best_train_rmse*0.02:\n",
    "            best_train_rmse = train_rmse\n",
    "            early_stopping_counter = 0  # 重置计数器\n",
    "        else:\n",
    "            early_stopping_counter += 1  # 增加计数器\n",
    "            if early_stopping_counter >= early_stopping_patience:\n",
    "                print(f\"Early stopping triggered after epoch {epoch}. Training RMSE did not decrease for {early_stopping_patience} consecutive epochs.\")\n",
    "                break  # 跳出训练循环"
   ]
  },
  {
   "cell_type": "markdown",
   "id": "cbf9fc05-e026-4726-baa7-8c5ac58a217e",
   "metadata": {},
   "source": [
    "> **输出预测值，绘制预测图像**"
   ]
  },
  {
   "cell_type": "code",
   "execution_count": 259,
   "id": "a37846e5-78f6-449e-8f7b-d7df09ef262f",
   "metadata": {},
   "outputs": [],
   "source": [
    "import pandas as pd\n",
    "\n",
    "def get_predictions(model, X, y_indices):\n",
    "    # 将模型移至CPU\n",
    "    model.cpu()\n",
    "    \n",
    "    # 对输入数据X进行预测，调整形状，脱离计算图，并转换为numpy数组，然后移除单一维度\n",
    "    y_pred = model(X).view(-1, 1).detach().numpy().squeeze()\n",
    "    \n",
    "    # 创建一个DataFrame，包含时间步和对应的预测值\n",
    "    result = pd.DataFrame(zip(y_indices, y_pred), columns=[\"time_step\", \"prediction\"])\n",
    "    \n",
    "    # 按时间步分组，并计算每个时间步的预测值的平均值，以处理重复预测的情况\n",
    "    result = result.groupby(by=\"time_step\").mean()\n",
    "    print(result.shape)\n",
    "    \n",
    "    return result"
   ]
  },
  {
   "cell_type": "code",
   "execution_count": 260,
   "id": "96918c9b-67ea-4480-b83a-399178f1a69e",
   "metadata": {},
   "outputs": [
    {
     "name": "stdout",
     "output_type": "stream",
     "text": [
      "(674, 1)\n",
      "(316, 1)\n"
     ]
    }
   ],
   "source": [
    "train_result = get_predictions(model,X_train_2,y_train_indices)\n",
    "test_result = get_predictions(model,X_test_2,y_test_indices)"
   ]
  },
  {
   "cell_type": "code",
   "execution_count": 263,
   "id": "6e703157-ceaf-4b62-8d60-e8d3d7e8ee41",
   "metadata": {},
   "outputs": [],
   "source": [
    "single_stock.index = range(single_stock.shape[0])"
   ]
  },
  {
   "cell_type": "code",
   "execution_count": 264,
   "id": "db367ebe-5bb5-437b-9abf-ccfaa3d5e9c3",
   "metadata": {},
   "outputs": [
    {
     "data": {
      "image/png": "[encoded data removed]",
      "text/plain": [
       "<Figure size 1008x504 with 1 Axes>"
      ]
     },
     "metadata": {
      "needs_background": "light"
     },
     "output_type": "display_data"
    }
   ],
   "source": [
    "with torch.no_grad():\n",
    "    plt.figure(figsize=(14, 7))\n",
    "    plt.xlabel('Date')\n",
    "    plt.ylabel('Close Price')\n",
    "    # 绘制训练集上的损失的图像\n",
    "    train_plot = np.ones_like(single_stock.index) * np.nan\n",
    "    train_plot[window_size:train_size] = train_result.loc[:,\"prediction\"]\n",
    "    # 绘制测试集上的损失的图像\n",
    "    test_plot = np.ones_like(single_stock.index) * np.nan\n",
    "    test_plot[train_size:(train_size + test_size - window_size)] = test_result.loc[:,\"prediction\"]\n",
    "plt.plot(single_stock.loc[:,\"Close\"], c='b')\n",
    "plt.plot(train_plot, c='r')\n",
    "plt.plot(test_plot, c='g')\n",
    "plt.show()"
   ]
  },
  {
   "cell_type": "code",
   "execution_count": null,
   "id": "77949f1c-27f4-40b4-b905-6e9fdfbfe9d9",
   "metadata": {},
   "outputs": [],
   "source": []
  }
 ],
 "metadata": {
  "kernelspec": {
   "display_name": "Python 3 (ipykernel)",
   "language": "python",
   "name": "python3"
  },
  "language_info": {
   "codemirror_mode": {
    "name": "ipython",
    "version": 3
   },
   "file_extension": ".py",
   "mimetype": "text/x-python",
   "name": "python",
   "nbconvert_exporter": "python",
   "pygments_lexer": "ipython3",
   "version": "3.9.7"
  }
 },
 "nbformat": 4,
 "nbformat_minor": 5
}
